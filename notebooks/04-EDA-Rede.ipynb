{
 "cells": [
  {
   "cell_type": "code",
   "execution_count": 1,
   "id": "6ac800ff-28f0-43ce-b3e5-a602d7b7569c",
   "metadata": {},
   "outputs": [],
   "source": [
    "import pandas as pd\n",
    "import matplotlib.pyplot as plt\n",
    "import seaborn as sns\n",
    "import os\n",
    "\n",
    "sns.set_style('whitegrid')\n",
    "plt.rcParams['figure.figsize'] = (15, 7)"
   ]
  },
  {
   "cell_type": "code",
   "execution_count": 2,
   "id": "6992fa86-7b8c-4f44-9489-0d1ca5795f54",
   "metadata": {},
   "outputs": [
    {
     "name": "stdout",
     "output_type": "stream",
     "text": [
      "Tabela base carregada com 1349 registros e 9 colunas.\n",
      "\n",
      "--- Carregando dados de Restrição de Operação ---\n",
      "Lendo o arquivo: ../data/raw/RESTRICAO_COFF_EOLICA_2024_07.csv\n",
      "Lendo o arquivo: ../data/raw/RESTRICAO_COFF_EOLICA_2024_08.csv\n",
      "Lendo o arquivo: ../data/raw/RESTRICAO_COFF_EOLICA_2025_03.csv\n",
      "Lendo o arquivo: ../data/raw/RESTRICAO_COFF_EOLICA_2024_05.csv\n"
     ]
    },
    {
     "name": "stderr",
     "output_type": "stream",
     "text": [
      "/tmp/ipykernel_266031/814539902.py:16: DtypeWarning: Columns (12) have mixed types. Specify dtype option on import or set low_memory=False.\n",
      "  df_mes = pd.read_csv(arquivo, sep=separador, decimal=decimal)\n"
     ]
    },
    {
     "name": "stdout",
     "output_type": "stream",
     "text": [
      "Lendo o arquivo: ../data/raw/RESTRICAO_COFF_EOLICA_2022_05.csv\n",
      "Lendo o arquivo: ../data/raw/RESTRICAO_COFF_EOLICA_2022_06.csv\n"
     ]
    },
    {
     "name": "stderr",
     "output_type": "stream",
     "text": [
      "/tmp/ipykernel_266031/814539902.py:16: DtypeWarning: Columns (9,12,13,14) have mixed types. Specify dtype option on import or set low_memory=False.\n",
      "  df_mes = pd.read_csv(arquivo, sep=separador, decimal=decimal)\n"
     ]
    },
    {
     "name": "stdout",
     "output_type": "stream",
     "text": [
      "Lendo o arquivo: ../data/raw/RESTRICAO_COFF_EOLICA_2023_09.csv\n",
      "Lendo o arquivo: ../data/raw/RESTRICAO_COFF_EOLICA_2024_02.csv\n",
      "Lendo o arquivo: ../data/raw/RESTRICAO_COFF_EOLICA_2022_12.csv\n",
      "Lendo o arquivo: ../data/raw/RESTRICAO_COFF_EOLICA_2023_12.csv\n",
      "Lendo o arquivo: ../data/raw/RESTRICAO_COFF_EOLICA_2024_01.csv\n"
     ]
    },
    {
     "name": "stderr",
     "output_type": "stream",
     "text": [
      "/tmp/ipykernel_266031/814539902.py:16: DtypeWarning: Columns (12) have mixed types. Specify dtype option on import or set low_memory=False.\n",
      "  df_mes = pd.read_csv(arquivo, sep=separador, decimal=decimal)\n"
     ]
    },
    {
     "name": "stdout",
     "output_type": "stream",
     "text": [
      "Lendo o arquivo: ../data/raw/RESTRICAO_COFF_EOLICA_2025_07.csv\n",
      "Lendo o arquivo: ../data/raw/RESTRICAO_COFF_EOLICA_2024_12.csv\n",
      "Lendo o arquivo: ../data/raw/RESTRICAO_COFF_EOLICA_2023_05.csv\n",
      "Lendo o arquivo: ../data/raw/RESTRICAO_COFF_EOLICA_2024_03.csv\n"
     ]
    },
    {
     "name": "stderr",
     "output_type": "stream",
     "text": [
      "/tmp/ipykernel_266031/814539902.py:16: DtypeWarning: Columns (12) have mixed types. Specify dtype option on import or set low_memory=False.\n",
      "  df_mes = pd.read_csv(arquivo, sep=separador, decimal=decimal)\n"
     ]
    },
    {
     "name": "stdout",
     "output_type": "stream",
     "text": [
      "Lendo o arquivo: ../data/raw/RESTRICAO_COFF_EOLICA_2025_10.csv\n",
      "Lendo o arquivo: ../data/raw/RESTRICAO_COFF_EOLICA_2025_01.csv\n",
      "Lendo o arquivo: ../data/raw/RESTRICAO_COFF_EOLICA_2025_09.csv\n",
      "Lendo o arquivo: ../data/raw/RESTRICAO_COFF_EOLICA_2024_10.csv\n",
      "Lendo o arquivo: ../data/raw/RESTRICAO_COFF_EOLICA_2022_04.csv\n"
     ]
    },
    {
     "name": "stderr",
     "output_type": "stream",
     "text": [
      "/tmp/ipykernel_266031/814539902.py:16: DtypeWarning: Columns (9,12,13,14) have mixed types. Specify dtype option on import or set low_memory=False.\n",
      "  df_mes = pd.read_csv(arquivo, sep=separador, decimal=decimal)\n"
     ]
    },
    {
     "name": "stdout",
     "output_type": "stream",
     "text": [
      "Lendo o arquivo: ../data/raw/RESTRICAO_COFF_EOLICA_2023_11.csv\n",
      "Lendo o arquivo: ../data/raw/RESTRICAO_COFF_EOLICA_2023_10.csv\n",
      "Lendo o arquivo: ../data/raw/RESTRICAO_COFF_EOLICA_2024_04.csv\n"
     ]
    },
    {
     "name": "stderr",
     "output_type": "stream",
     "text": [
      "/tmp/ipykernel_266031/814539902.py:16: DtypeWarning: Columns (12) have mixed types. Specify dtype option on import or set low_memory=False.\n",
      "  df_mes = pd.read_csv(arquivo, sep=separador, decimal=decimal)\n"
     ]
    },
    {
     "name": "stdout",
     "output_type": "stream",
     "text": [
      "Lendo o arquivo: ../data/raw/RESTRICAO_COFF_EOLICA_2022_11.csv\n"
     ]
    },
    {
     "name": "stderr",
     "output_type": "stream",
     "text": [
      "/tmp/ipykernel_266031/814539902.py:16: DtypeWarning: Columns (12) have mixed types. Specify dtype option on import or set low_memory=False.\n",
      "  df_mes = pd.read_csv(arquivo, sep=separador, decimal=decimal)\n"
     ]
    },
    {
     "name": "stdout",
     "output_type": "stream",
     "text": [
      "Lendo o arquivo: ../data/raw/RESTRICAO_COFF_EOLICA_2022_02.csv\n"
     ]
    },
    {
     "name": "stderr",
     "output_type": "stream",
     "text": [
      "/tmp/ipykernel_266031/814539902.py:16: DtypeWarning: Columns (12) have mixed types. Specify dtype option on import or set low_memory=False.\n",
      "  df_mes = pd.read_csv(arquivo, sep=separador, decimal=decimal)\n"
     ]
    },
    {
     "name": "stdout",
     "output_type": "stream",
     "text": [
      "Lendo o arquivo: ../data/raw/RESTRICAO_COFF_EOLICA_2023_08.csv\n",
      "Lendo o arquivo: ../data/raw/RESTRICAO_COFF_EOLICA_2024_06.csv\n",
      "Lendo o arquivo: ../data/raw/RESTRICAO_COFF_EOLICA_2022_07.csv\n",
      "Lendo o arquivo: ../data/raw/RESTRICAO_COFF_EOLICA_2025_02.csv\n"
     ]
    },
    {
     "name": "stderr",
     "output_type": "stream",
     "text": [
      "/tmp/ipykernel_266031/814539902.py:16: DtypeWarning: Columns (12) have mixed types. Specify dtype option on import or set low_memory=False.\n",
      "  df_mes = pd.read_csv(arquivo, sep=separador, decimal=decimal)\n"
     ]
    },
    {
     "name": "stdout",
     "output_type": "stream",
     "text": [
      "Lendo o arquivo: ../data/raw/RESTRICAO_COFF_EOLICA_2022_10.csv\n",
      "Lendo o arquivo: ../data/raw/RESTRICAO_COFF_EOLICA_2023_04.csv\n",
      "Lendo o arquivo: ../data/raw/RESTRICAO_COFF_EOLICA_2024_09.csv\n",
      "Lendo o arquivo: ../data/raw/RESTRICAO_COFF_EOLICA_2023_03.csv\n",
      "Lendo o arquivo: ../data/raw/RESTRICAO_COFF_EOLICA_2022_01.csv\n"
     ]
    },
    {
     "name": "stderr",
     "output_type": "stream",
     "text": [
      "/tmp/ipykernel_266031/814539902.py:16: DtypeWarning: Columns (9,12,13,14) have mixed types. Specify dtype option on import or set low_memory=False.\n",
      "  df_mes = pd.read_csv(arquivo, sep=separador, decimal=decimal)\n"
     ]
    },
    {
     "name": "stdout",
     "output_type": "stream",
     "text": [
      "Lendo o arquivo: ../data/raw/RESTRICAO_COFF_EOLICA_2023_07.csv\n"
     ]
    },
    {
     "name": "stderr",
     "output_type": "stream",
     "text": [
      "/tmp/ipykernel_266031/814539902.py:16: DtypeWarning: Columns (12) have mixed types. Specify dtype option on import or set low_memory=False.\n",
      "  df_mes = pd.read_csv(arquivo, sep=separador, decimal=decimal)\n"
     ]
    },
    {
     "name": "stdout",
     "output_type": "stream",
     "text": [
      "Lendo o arquivo: ../data/raw/RESTRICAO_COFF_EOLICA_2025_06.csv\n",
      "Lendo o arquivo: ../data/raw/RESTRICAO_COFF_EOLICA_2023_02.csv\n",
      "Lendo o arquivo: ../data/raw/RESTRICAO_COFF_EOLICA_2024_11.csv\n",
      "Lendo o arquivo: ../data/raw/RESTRICAO_COFF_EOLICA_2025_04.csv\n",
      "Lendo o arquivo: ../data/raw/RESTRICAO_COFF_EOLICA_2022_09.csv\n",
      "Lendo o arquivo: ../data/raw/RESTRICAO_COFF_EOLICA_2023_01.csv\n",
      "Lendo o arquivo: ../data/raw/RESTRICAO_COFF_EOLICA_2023_06.csv\n"
     ]
    },
    {
     "name": "stderr",
     "output_type": "stream",
     "text": [
      "/tmp/ipykernel_266031/814539902.py:16: DtypeWarning: Columns (12) have mixed types. Specify dtype option on import or set low_memory=False.\n",
      "  df_mes = pd.read_csv(arquivo, sep=separador, decimal=decimal)\n"
     ]
    },
    {
     "name": "stdout",
     "output_type": "stream",
     "text": [
      "Lendo o arquivo: ../data/raw/RESTRICAO_COFF_EOLICA_2025_05.csv\n",
      "Lendo o arquivo: ../data/raw/RESTRICAO_COFF_EOLICA_2025_08.csv\n",
      "Lendo o arquivo: ../data/raw/RESTRICAO_COFF_EOLICA_2022_03.csv\n",
      "Lendo o arquivo: ../data/raw/RESTRICAO_COFF_EOLICA_2022_08.csv\n",
      "Lendo o arquivo: ../data/raw/RESTRICAO_COFF_FOTOVOLTAICA_2024_08.csv\n",
      "Lendo o arquivo: ../data/raw/RESTRICAO_COFF_FOTOVOLTAICA_2025_09.csv\n",
      "Lendo o arquivo: ../data/raw/RESTRICAO_COFF_FOTOVOLTAICA_2025_02.csv\n",
      "Lendo o arquivo: ../data/raw/RESTRICAO_COFF_FOTOVOLTAICA_2025_03.csv\n",
      "Lendo o arquivo: ../data/raw/RESTRICAO_COFF_FOTOVOLTAICA_2025_01.csv\n",
      "Lendo o arquivo: ../data/raw/RESTRICAO_COFF_FOTOVOLTAICA_2024_05.csv\n",
      "Lendo o arquivo: ../data/raw/RESTRICAO_COFF_FOTOVOLTAICA_2025_05.csv\n",
      "Lendo o arquivo: ../data/raw/RESTRICAO_COFF_FOTOVOLTAICA_2024_11.csv\n",
      "Lendo o arquivo: ../data/raw/RESTRICAO_COFF_FOTOVOLTAICA_2025_04.csv\n",
      "Lendo o arquivo: ../data/raw/RESTRICAO_COFF_FOTOVOLTAICA_2025_06.csv\n",
      "Lendo o arquivo: ../data/raw/RESTRICAO_COFF_FOTOVOLTAICA_2024_09.csv\n",
      "Lendo o arquivo: ../data/raw/RESTRICAO_COFF_FOTOVOLTAICA_2024_12.csv\n",
      "Lendo o arquivo: ../data/raw/RESTRICAO_COFF_FOTOVOLTAICA_2025_08.csv\n",
      "Lendo o arquivo: ../data/raw/RESTRICAO_COFF_FOTOVOLTAICA_2024_10.csv\n"
     ]
    },
    {
     "name": "stderr",
     "output_type": "stream",
     "text": [
      "/tmp/ipykernel_266031/814539902.py:16: DtypeWarning: Columns (12) have mixed types. Specify dtype option on import or set low_memory=False.\n",
      "  df_mes = pd.read_csv(arquivo, sep=separador, decimal=decimal)\n"
     ]
    },
    {
     "name": "stdout",
     "output_type": "stream",
     "text": [
      "Lendo o arquivo: ../data/raw/RESTRICAO_COFF_FOTOVOLTAICA_2025_10.csv\n",
      "Lendo o arquivo: ../data/raw/RESTRICAO_COFF_FOTOVOLTAICA_2024_06.csv\n",
      "Lendo o arquivo: ../data/raw/RESTRICAO_COFF_FOTOVOLTAICA_2025_07.csv\n",
      "Lendo o arquivo: ../data/raw/RESTRICAO_COFF_FOTOVOLTAICA_2024_07.csv\n",
      "Lendo o arquivo: ../data/raw/RESTRICAO_COFF_FOTOVOLTAICA_2024_04.csv\n",
      "-> Dados de Restrição carregados com sucesso.\n",
      "\n",
      "--- Carregando dados de Intercâmbio ---\n",
      "-> Dados de Intercâmbio carregados com sucesso.\n"
     ]
    },
    {
     "name": "stderr",
     "output_type": "stream",
     "text": [
      "/tmp/ipykernel_266031/814539902.py:16: DtypeWarning: Columns (12) have mixed types. Specify dtype option on import or set low_memory=False.\n",
      "  df_mes = pd.read_csv(arquivo, sep=separador, decimal=decimal)\n"
     ]
    }
   ],
   "source": [
    "# --- Célula 2: Carregamento dos Dados (VERSÃO ATUALIZADA PARA MÚLTIPLOS ARQUIVOS) ---\n",
    "import glob\n",
    "\n",
    "# Carregar a tabela de features v2 (resultado do notebook 03)\n",
    "path_base = '../data/processed/feature_table_v2.parquet'\n",
    "df_base = pd.read_parquet(path_base)\n",
    "print(f\"Tabela base carregada com {df_base.shape[0]} registros e {df_base.shape[1]} colunas.\")\n",
    "\n",
    "# --- Lógica para carregar múltiplos arquivos mensais ---\n",
    "def carregar_dados_mensais(caminho_padrao, separador=';', decimal=','):\n",
    "    \"\"\"Função para encontrar, ler e concatenar múltiplos arquivos CSV mensais.\"\"\"\n",
    "    lista_arquivos = glob.glob(caminho_padrao)\n",
    "    lista_dfs = []\n",
    "    for arquivo in lista_arquivos:\n",
    "        print(f\"Lendo o arquivo: {arquivo}\")\n",
    "        df_mes = pd.read_csv(arquivo, sep=separador, decimal=decimal)\n",
    "        lista_dfs.append(df_mes)\n",
    "    return pd.concat(lista_dfs, ignore_index=True)\n",
    "\n",
    "try:\n",
    "    print(\"\\n--- Carregando dados de Restrição de Operação ---\")\n",
    "    padrao_restricao_eolica = '../data/raw/RESTRICAO_COFF_EOLICA*.csv'\n",
    "    df_restricao_eolica_raw = carregar_dados_mensais(padrao_restricao_eolica)\n",
    "    \n",
    "    padrao_restricao_fotov = '../data/raw/RESTRICAO_COFF_FOTOVOLTAICA*.csv'\n",
    "    df_restricao_fotov_raw = carregar_dados_mensais(padrao_restricao_fotov)\n",
    "    print(\"-> Dados de Restrição carregados com sucesso.\")\n",
    "\n",
    "    print(\"\\n--- Carregando dados de Intercâmbio ---\")\n",
    "    # O arquivo de intercâmbio é anual, então a leitura é direta\n",
    "    path_intercambio = '../data/raw/INTERCAMBIO_NACIONAL_2024.csv'\n",
    "    df_intercambio_raw = pd.read_csv(path_intercambio, sep=';', decimal=',')\n",
    "    print(\"-> Dados de Intercâmbio carregados com sucesso.\")\n",
    "\n",
    "except Exception as e:\n",
    "    print(f\"ERRO CRÍTICO: Falha ao ler um dos arquivos CSV. Verifique os nomes e caminhos. Erro: {e}\")\n",
    "    raise"
   ]
  },
  {
   "cell_type": "code",
   "execution_count": 3,
   "id": "ba2d3392-c8b8-4b1e-824d-7e8e3338c179",
   "metadata": {},
   "outputs": [
    {
     "name": "stdout",
     "output_type": "stream",
     "text": [
      "Nomes das colunas no arquivo de Restrição Eólica:\n",
      "['id_subsistema', 'nom_subsistema', 'id_estado', 'nom_estado', 'nom_usina', 'id_ons', 'ceg', 'din_instante', 'val_geracao', 'val_geracaolimitada', 'val_disponibilidade', 'val_geracaoreferencia', 'val_geracaoreferenciafinal', 'cod_razaorestricao', 'cod_origemrestricao', 'dsc_restricao']\n",
      "\n",
      "Nomes das colunas no arquivo de Restrição Fotovoltaica:\n",
      "['id_subsistema', 'nom_subsistema', 'id_estado', 'nom_estado', 'nom_usina', 'id_ons', 'ceg', 'din_instante', 'val_geracao', 'val_geracaolimitada', 'val_disponibilidade', 'val_geracaoreferencia', 'val_geracaoreferenciafinal', 'cod_razaorestricao', 'cod_origemrestricao', 'dsc_restricao']\n",
      "\n",
      "Primeiras 5 linhas do arquivo Eólico para visualização:\n"
     ]
    },
    {
     "data": {
      "text/html": [
       "<div>\n",
       "<style scoped>\n",
       "    .dataframe tbody tr th:only-of-type {\n",
       "        vertical-align: middle;\n",
       "    }\n",
       "\n",
       "    .dataframe tbody tr th {\n",
       "        vertical-align: top;\n",
       "    }\n",
       "\n",
       "    .dataframe thead th {\n",
       "        text-align: right;\n",
       "    }\n",
       "</style>\n",
       "<table border=\"1\" class=\"dataframe\">\n",
       "  <thead>\n",
       "    <tr style=\"text-align: right;\">\n",
       "      <th></th>\n",
       "      <th>id_subsistema</th>\n",
       "      <th>nom_subsistema</th>\n",
       "      <th>id_estado</th>\n",
       "      <th>nom_estado</th>\n",
       "      <th>nom_usina</th>\n",
       "      <th>id_ons</th>\n",
       "      <th>ceg</th>\n",
       "      <th>din_instante</th>\n",
       "      <th>val_geracao</th>\n",
       "      <th>val_geracaolimitada</th>\n",
       "      <th>val_disponibilidade</th>\n",
       "      <th>val_geracaoreferencia</th>\n",
       "      <th>val_geracaoreferenciafinal</th>\n",
       "      <th>cod_razaorestricao</th>\n",
       "      <th>cod_origemrestricao</th>\n",
       "      <th>dsc_restricao</th>\n",
       "    </tr>\n",
       "  </thead>\n",
       "  <tbody>\n",
       "    <tr>\n",
       "      <th>0</th>\n",
       "      <td>N</td>\n",
       "      <td>NORTE</td>\n",
       "      <td>MA</td>\n",
       "      <td>MARANHAO</td>\n",
       "      <td>CONJ. PAULINO NEVES</td>\n",
       "      <td>CJU_MAPLN</td>\n",
       "      <td>-</td>\n",
       "      <td>2024-07-01 00:00:00</td>\n",
       "      <td>217.69</td>\n",
       "      <td>NaN</td>\n",
       "      <td>357.5</td>\n",
       "      <td>217.149</td>\n",
       "      <td>NaN</td>\n",
       "      <td>NaN</td>\n",
       "      <td>NaN</td>\n",
       "      <td>NaN</td>\n",
       "    </tr>\n",
       "    <tr>\n",
       "      <th>1</th>\n",
       "      <td>N</td>\n",
       "      <td>NORTE</td>\n",
       "      <td>MA</td>\n",
       "      <td>MARANHAO</td>\n",
       "      <td>CONJ. PAULINO NEVES</td>\n",
       "      <td>CJU_MAPLN</td>\n",
       "      <td>-</td>\n",
       "      <td>2024-07-01 00:30:00</td>\n",
       "      <td>229.727</td>\n",
       "      <td>NaN</td>\n",
       "      <td>357.5</td>\n",
       "      <td>231.757</td>\n",
       "      <td>NaN</td>\n",
       "      <td>NaN</td>\n",
       "      <td>NaN</td>\n",
       "      <td>NaN</td>\n",
       "    </tr>\n",
       "    <tr>\n",
       "      <th>2</th>\n",
       "      <td>N</td>\n",
       "      <td>NORTE</td>\n",
       "      <td>MA</td>\n",
       "      <td>MARANHAO</td>\n",
       "      <td>CONJ. PAULINO NEVES</td>\n",
       "      <td>CJU_MAPLN</td>\n",
       "      <td>-</td>\n",
       "      <td>2024-07-01 01:00:00</td>\n",
       "      <td>229.247</td>\n",
       "      <td>NaN</td>\n",
       "      <td>357.5</td>\n",
       "      <td>231.08</td>\n",
       "      <td>NaN</td>\n",
       "      <td>NaN</td>\n",
       "      <td>NaN</td>\n",
       "      <td>NaN</td>\n",
       "    </tr>\n",
       "    <tr>\n",
       "      <th>3</th>\n",
       "      <td>N</td>\n",
       "      <td>NORTE</td>\n",
       "      <td>MA</td>\n",
       "      <td>MARANHAO</td>\n",
       "      <td>CONJ. PAULINO NEVES</td>\n",
       "      <td>CJU_MAPLN</td>\n",
       "      <td>-</td>\n",
       "      <td>2024-07-01 01:30:00</td>\n",
       "      <td>218.502</td>\n",
       "      <td>NaN</td>\n",
       "      <td>357.5</td>\n",
       "      <td>222.375</td>\n",
       "      <td>NaN</td>\n",
       "      <td>NaN</td>\n",
       "      <td>NaN</td>\n",
       "      <td>NaN</td>\n",
       "    </tr>\n",
       "    <tr>\n",
       "      <th>4</th>\n",
       "      <td>N</td>\n",
       "      <td>NORTE</td>\n",
       "      <td>MA</td>\n",
       "      <td>MARANHAO</td>\n",
       "      <td>CONJ. PAULINO NEVES</td>\n",
       "      <td>CJU_MAPLN</td>\n",
       "      <td>-</td>\n",
       "      <td>2024-07-01 02:00:00</td>\n",
       "      <td>199.976</td>\n",
       "      <td>NaN</td>\n",
       "      <td>357.5</td>\n",
       "      <td>207.77</td>\n",
       "      <td>NaN</td>\n",
       "      <td>NaN</td>\n",
       "      <td>NaN</td>\n",
       "      <td>NaN</td>\n",
       "    </tr>\n",
       "  </tbody>\n",
       "</table>\n",
       "</div>"
      ],
      "text/plain": [
       "  id_subsistema nom_subsistema id_estado nom_estado            nom_usina  \\\n",
       "0             N          NORTE        MA   MARANHAO  CONJ. PAULINO NEVES   \n",
       "1             N          NORTE        MA   MARANHAO  CONJ. PAULINO NEVES   \n",
       "2             N          NORTE        MA   MARANHAO  CONJ. PAULINO NEVES   \n",
       "3             N          NORTE        MA   MARANHAO  CONJ. PAULINO NEVES   \n",
       "4             N          NORTE        MA   MARANHAO  CONJ. PAULINO NEVES   \n",
       "\n",
       "      id_ons ceg         din_instante val_geracao val_geracaolimitada  \\\n",
       "0  CJU_MAPLN   -  2024-07-01 00:00:00      217.69                 NaN   \n",
       "1  CJU_MAPLN   -  2024-07-01 00:30:00     229.727                 NaN   \n",
       "2  CJU_MAPLN   -  2024-07-01 01:00:00     229.247                 NaN   \n",
       "3  CJU_MAPLN   -  2024-07-01 01:30:00     218.502                 NaN   \n",
       "4  CJU_MAPLN   -  2024-07-01 02:00:00     199.976                 NaN   \n",
       "\n",
       "  val_disponibilidade val_geracaoreferencia val_geracaoreferenciafinal  \\\n",
       "0               357.5               217.149                        NaN   \n",
       "1               357.5               231.757                        NaN   \n",
       "2               357.5                231.08                        NaN   \n",
       "3               357.5               222.375                        NaN   \n",
       "4               357.5                207.77                        NaN   \n",
       "\n",
       "  cod_razaorestricao cod_origemrestricao dsc_restricao  \n",
       "0                NaN                 NaN           NaN  \n",
       "1                NaN                 NaN           NaN  \n",
       "2                NaN                 NaN           NaN  \n",
       "3                NaN                 NaN           NaN  \n",
       "4                NaN                 NaN           NaN  "
      ]
     },
     "metadata": {},
     "output_type": "display_data"
    }
   ],
   "source": [
    "# Célula 3 (Parte A)\n",
    "\n",
    "print(\"Nomes das colunas no arquivo de Restrição Eólica:\")\n",
    "print(df_restricao_eolica_raw.columns.tolist())\n",
    "\n",
    "print(\"\\nNomes das colunas no arquivo de Restrição Fotovoltaica:\")\n",
    "print(df_restricao_fotov_raw.columns.tolist())\n",
    "\n",
    "print(\"\\nPrimeiras 5 linhas do arquivo Eólico para visualização:\")\n",
    "display(df_restricao_eolica_raw.head())"
   ]
  },
  {
   "cell_type": "code",
   "execution_count": 4,
   "id": "ea9caa4f-7071-4632-a572-7aea297fb74c",
   "metadata": {},
   "outputs": [
    {
     "name": "stdout",
     "output_type": "stream",
     "text": [
      "Feature de Restrição de Operação foi criada com sucesso.\n"
     ]
    },
    {
     "data": {
      "text/html": [
       "<div>\n",
       "<style scoped>\n",
       "    .dataframe tbody tr th:only-of-type {\n",
       "        vertical-align: middle;\n",
       "    }\n",
       "\n",
       "    .dataframe tbody tr th {\n",
       "        vertical-align: top;\n",
       "    }\n",
       "\n",
       "    .dataframe thead th {\n",
       "        text-align: right;\n",
       "    }\n",
       "</style>\n",
       "<table border=\"1\" class=\"dataframe\">\n",
       "  <thead>\n",
       "    <tr style=\"text-align: right;\">\n",
       "      <th></th>\n",
       "      <th>total_mwh_restrito_go</th>\n",
       "    </tr>\n",
       "    <tr>\n",
       "      <th>timestamp</th>\n",
       "      <th></th>\n",
       "    </tr>\n",
       "  </thead>\n",
       "  <tbody>\n",
       "  </tbody>\n",
       "</table>\n",
       "</div>"
      ],
      "text/plain": [
       "Empty DataFrame\n",
       "Columns: [total_mwh_restrito_go]\n",
       "Index: []"
      ]
     },
     "metadata": {},
     "output_type": "display_data"
    }
   ],
   "source": [
    "# --- Célula 3 (Parte B): Processamento - Restrição de Operação (VERSÃO ROBUSTA) ---\n",
    "\n",
    "# Nomes das colunas corretos que precisamos para o cálculo\n",
    "coluna_data = 'din_instante'\n",
    "coluna_estado = 'id_estado'\n",
    "coluna_geracao_real = 'val_geracao'\n",
    "coluna_geracao_ref = 'val_geracaoreferencia' # O que a usina poderia ter gerado\n",
    "\n",
    "# Junta os dois dataframes de restrição (eólica e fotovoltaica) em um só\n",
    "df_restricao_raw = pd.concat([df_restricao_eolica_raw, df_restricao_fotov_raw])\n",
    "\n",
    "# Seleciona as colunas que vamos usar para o cálculo e filtros\n",
    "df_restricao = df_restricao_raw[[coluna_data, coluna_estado, coluna_geracao_real, coluna_geracao_ref]].copy()\n",
    "\n",
    "# --- ETAPA DE CONVERSÃO NUMÉRICA (RESOLVE O DTYPEWARNING) ---\n",
    "# Força a conversão das colunas de valor para número, transformando erros em NaN (Nulo)\n",
    "df_restricao[coluna_geracao_ref] = pd.to_numeric(df_restricao[coluna_geracao_ref], errors='coerce')\n",
    "df_restricao[coluna_geracao_real] = pd.to_numeric(df_restricao[coluna_geracao_real], errors='coerce')\n",
    "\n",
    "# Preenche os valores nulos que possam ter surgido com 0\n",
    "df_restricao.fillna(0, inplace=True)\n",
    "# --------------------------------------------------------------------\n",
    "\n",
    "# Agora que as colunas são numéricas, calculamos o valor da restrição\n",
    "df_restricao['total_mwh_restrito'] = df_restricao[coluna_geracao_ref] - df_restricao[coluna_geracao_real]\n",
    "\n",
    "# Converte data e filtra para Goiás\n",
    "df_restricao['timestamp'] = pd.to_datetime(df_restricao[coluna_data])\n",
    "df_restricao_go = df_restricao[df_restricao[coluna_estado] == 'GO'].copy()\n",
    "df_restricao_go.set_index('timestamp', inplace=True)\n",
    "\n",
    "# Agrega por dia para criar a feature de total restringido\n",
    "restricao_diaria_go = df_restricao_go['total_mwh_restrito'].resample('D').sum().to_frame(name='total_mwh_restrito_go')\n",
    "\n",
    "print(\"Feature de Restrição de Operação foi criada com sucesso.\")\n",
    "display(restricao_diaria_go.head())"
   ]
  },
  {
   "cell_type": "code",
   "execution_count": 5,
   "id": "89fddc6d-7dc3-416a-a931-21f18e895074",
   "metadata": {},
   "outputs": [
    {
     "name": "stdout",
     "output_type": "stream",
     "text": [
      "Nomes exatos das colunas no arquivo de Intercâmbios:\n",
      "['din_instante', 'id_subsistema_origem', 'nom_subsistema_origem', 'id_subsistema_destino', 'nom_subsistema_destino', 'val_intercambiomwmed']\n",
      "\n",
      "Primeiras 5 linhas do arquivo para visualização:\n"
     ]
    },
    {
     "data": {
      "text/html": [
       "<div>\n",
       "<style scoped>\n",
       "    .dataframe tbody tr th:only-of-type {\n",
       "        vertical-align: middle;\n",
       "    }\n",
       "\n",
       "    .dataframe tbody tr th {\n",
       "        vertical-align: top;\n",
       "    }\n",
       "\n",
       "    .dataframe thead th {\n",
       "        text-align: right;\n",
       "    }\n",
       "</style>\n",
       "<table border=\"1\" class=\"dataframe\">\n",
       "  <thead>\n",
       "    <tr style=\"text-align: right;\">\n",
       "      <th></th>\n",
       "      <th>din_instante</th>\n",
       "      <th>id_subsistema_origem</th>\n",
       "      <th>nom_subsistema_origem</th>\n",
       "      <th>id_subsistema_destino</th>\n",
       "      <th>nom_subsistema_destino</th>\n",
       "      <th>val_intercambiomwmed</th>\n",
       "    </tr>\n",
       "  </thead>\n",
       "  <tbody>\n",
       "    <tr>\n",
       "      <th>0</th>\n",
       "      <td>2024-01-01 00:00:00</td>\n",
       "      <td>N</td>\n",
       "      <td>NORTE</td>\n",
       "      <td>NE</td>\n",
       "      <td>NORDESTE</td>\n",
       "      <td>2699.626</td>\n",
       "    </tr>\n",
       "    <tr>\n",
       "      <th>1</th>\n",
       "      <td>2024-01-01 00:00:00</td>\n",
       "      <td>N</td>\n",
       "      <td>NORTE</td>\n",
       "      <td>SE</td>\n",
       "      <td>SUDESTE</td>\n",
       "      <td>-3760.924</td>\n",
       "    </tr>\n",
       "    <tr>\n",
       "      <th>2</th>\n",
       "      <td>2024-01-01 00:00:00</td>\n",
       "      <td>NE</td>\n",
       "      <td>NORDESTE</td>\n",
       "      <td>SE</td>\n",
       "      <td>SUDESTE</td>\n",
       "      <td>-2794.053</td>\n",
       "    </tr>\n",
       "    <tr>\n",
       "      <th>3</th>\n",
       "      <td>2024-01-01 00:00:00</td>\n",
       "      <td>SE</td>\n",
       "      <td>SUDESTE</td>\n",
       "      <td>S</td>\n",
       "      <td>SUL</td>\n",
       "      <td>-4762.211</td>\n",
       "    </tr>\n",
       "    <tr>\n",
       "      <th>4</th>\n",
       "      <td>2024-01-01 01:00:00</td>\n",
       "      <td>N</td>\n",
       "      <td>NORTE</td>\n",
       "      <td>NE</td>\n",
       "      <td>NORDESTE</td>\n",
       "      <td>2594.904</td>\n",
       "    </tr>\n",
       "  </tbody>\n",
       "</table>\n",
       "</div>"
      ],
      "text/plain": [
       "          din_instante id_subsistema_origem nom_subsistema_origem  \\\n",
       "0  2024-01-01 00:00:00                    N                 NORTE   \n",
       "1  2024-01-01 00:00:00                    N                 NORTE   \n",
       "2  2024-01-01 00:00:00                   NE              NORDESTE   \n",
       "3  2024-01-01 00:00:00                   SE               SUDESTE   \n",
       "4  2024-01-01 01:00:00                    N                 NORTE   \n",
       "\n",
       "  id_subsistema_destino nom_subsistema_destino val_intercambiomwmed  \n",
       "0                    NE               NORDESTE             2699.626  \n",
       "1                    SE                SUDESTE            -3760.924  \n",
       "2                    SE                SUDESTE            -2794.053  \n",
       "3                     S                    SUL            -4762.211  \n",
       "4                    NE               NORDESTE             2594.904  "
      ]
     },
     "metadata": {},
     "output_type": "display_data"
    }
   ],
   "source": [
    "# --- Célula 4 (Parte A): Diagnóstico - Intercâmbios ---\n",
    "\n",
    "print(\"Nomes exatos das colunas no arquivo de Intercâmbios:\")\n",
    "print(df_intercambio_raw.columns.tolist())\n",
    "\n",
    "print(\"\\nPrimeiras 5 linhas do arquivo para visualização:\")\n",
    "display(df_intercambio_raw.head())"
   ]
  },
  {
   "cell_type": "code",
   "execution_count": 6,
   "id": "cea52c35-d816-49ea-8901-fc2766f12bc4",
   "metadata": {},
   "outputs": [
    {
     "name": "stdout",
     "output_type": "stream",
     "text": [
      "Feature de Saldo de Intercâmbio foi criada com sucesso.\n"
     ]
    },
    {
     "data": {
      "text/html": [
       "<div>\n",
       "<style scoped>\n",
       "    .dataframe tbody tr th:only-of-type {\n",
       "        vertical-align: middle;\n",
       "    }\n",
       "\n",
       "    .dataframe tbody tr th {\n",
       "        vertical-align: top;\n",
       "    }\n",
       "\n",
       "    .dataframe thead th {\n",
       "        text-align: right;\n",
       "    }\n",
       "</style>\n",
       "<table border=\"1\" class=\"dataframe\">\n",
       "  <thead>\n",
       "    <tr style=\"text-align: right;\">\n",
       "      <th></th>\n",
       "      <th>entradas_mwh</th>\n",
       "      <th>saidas_mwh</th>\n",
       "      <th>saldo_intercambio_seco</th>\n",
       "    </tr>\n",
       "    <tr>\n",
       "      <th>timestamp</th>\n",
       "      <th></th>\n",
       "      <th></th>\n",
       "      <th></th>\n",
       "    </tr>\n",
       "  </thead>\n",
       "  <tbody>\n",
       "  </tbody>\n",
       "</table>\n",
       "</div>"
      ],
      "text/plain": [
       "Empty DataFrame\n",
       "Columns: [entradas_mwh, saidas_mwh, saldo_intercambio_seco]\n",
       "Index: []"
      ]
     },
     "metadata": {},
     "output_type": "display_data"
    }
   ],
   "source": [
    "# --- Célula 4 (Parte B): Processamento - Intercâmbios (Versão Final Corrigida) ---\n",
    "\n",
    "# Nomes das colunas ajustados com base na sua verificação.\n",
    "coluna_data_intercambio = 'din_instante'            # CORRIGIDO\n",
    "coluna_subsistema_de = 'nom_subsistema_origem'      # CORRIGIDO\n",
    "coluna_subsistema_para = 'nom_subsistema_destino'   # CORRIGIDO\n",
    "coluna_valor_intercambio = 'val_intercambiomwmed'   # CORRIGIDO\n",
    "\n",
    "df_intercambio = df_intercambio_raw.copy()\n",
    "df_intercambio['timestamp'] = pd.to_datetime(df_intercambio[coluna_data_intercambio])\n",
    "df_intercambio.set_index('timestamp', inplace=True)\n",
    "\n",
    "# --- CORREÇÃO NO TIPO DE DADOS ---\n",
    "# Adicionamos a conversão para numérico, caso a coluna de valor seja lida como texto\n",
    "df_intercambio[coluna_valor_intercambio] = pd.to_numeric(\n",
    "    df_intercambio[coluna_valor_intercambio].astype(str).str.replace(',', '.'), \n",
    "    errors='coerce'\n",
    ")\n",
    "df_intercambio.fillna(0, inplace=True)\n",
    "# --------------------------------\n",
    "\n",
    "# Filtra as \"entradas\" de energia para o nosso subsistema (SE/CO)\n",
    "# ATENÇÃO: Verifique se o nome no arquivo é 'SE/CO' ou 'SUDESTE/CENTRO-OESTE'\n",
    "entradas_seco = df_intercambio[df_intercambio[coluna_subsistema_para] == 'SE/CO']\n",
    "entradas_diarias_seco = entradas_seco[coluna_valor_intercambio].resample('D').sum()\n",
    "\n",
    "# Filtra as \"saídas\" de energia do nosso subsistema (SE/CO)\n",
    "saidas_seco = df_intercambio[df_intercambio[coluna_subsistema_de] == 'SE/CO']\n",
    "saidas_diarias_seco = saidas_seco[coluna_valor_intercambio].resample('D').sum()\n",
    "\n",
    "# Junta as duas séries em um único dataframe\n",
    "df_balanco_seco = pd.concat([entradas_diarias_seco, saidas_diarias_seco], axis=1)\n",
    "df_balanco_seco.columns = ['entradas_mwh', 'saidas_mwh']\n",
    "df_balanco_seco.fillna(0, inplace=True)\n",
    "\n",
    "# Calcula o SALDO: um valor positivo significa que entrou mais energia do que saiu (importador).\n",
    "# Um valor negativo significa que saiu mais energia do que entrou (exportador).\n",
    "df_balanco_seco['saldo_intercambio_seco'] = df_balanco_seco['entradas_mwh'] - df_balanco_seco['saidas_mwh']\n",
    "\n",
    "print(\"Feature de Saldo de Intercâmbio foi criada com sucesso.\")\n",
    "display(df_balanco_seco.head())"
   ]
  },
  {
   "cell_type": "code",
   "execution_count": 7,
   "id": "2d286ccc-f99f-4e24-90a1-83c90c326725",
   "metadata": {},
   "outputs": [
    {
     "name": "stdout",
     "output_type": "stream",
     "text": [
      "Tabela final combinada (Alvo + Carga + Geração + Rede):\n"
     ]
    },
    {
     "data": {
      "text/html": [
       "<div>\n",
       "<style scoped>\n",
       "    .dataframe tbody tr th:only-of-type {\n",
       "        vertical-align: middle;\n",
       "    }\n",
       "\n",
       "    .dataframe tbody tr th {\n",
       "        vertical-align: top;\n",
       "    }\n",
       "\n",
       "    .dataframe thead th {\n",
       "        text-align: right;\n",
       "    }\n",
       "</style>\n",
       "<table border=\"1\" class=\"dataframe\">\n",
       "  <thead>\n",
       "    <tr style=\"text-align: right;\">\n",
       "      <th></th>\n",
       "      <th>deficit_diario_mwh</th>\n",
       "      <th>nivel_risco</th>\n",
       "      <th>programada</th>\n",
       "      <th>verificada</th>\n",
       "      <th>diferenca_verif_prog</th>\n",
       "      <th>geracao_total_diaria_go</th>\n",
       "      <th>geracao_fotovoltaica_diaria</th>\n",
       "      <th>geracao_hidroelétrica_diaria</th>\n",
       "      <th>geracao_térmica_diaria</th>\n",
       "      <th>total_mwh_restrito_go</th>\n",
       "      <th>saldo_intercambio_seco</th>\n",
       "    </tr>\n",
       "    <tr>\n",
       "      <th>timestamp</th>\n",
       "      <th></th>\n",
       "      <th></th>\n",
       "      <th></th>\n",
       "      <th></th>\n",
       "      <th></th>\n",
       "      <th></th>\n",
       "      <th></th>\n",
       "      <th></th>\n",
       "      <th></th>\n",
       "      <th></th>\n",
       "      <th></th>\n",
       "    </tr>\n",
       "  </thead>\n",
       "  <tbody>\n",
       "    <tr>\n",
       "      <th>2022-01-02</th>\n",
       "      <td>0.05</td>\n",
       "      <td>baixo</td>\n",
       "      <td>70028.7895</td>\n",
       "      <td>70799.8310</td>\n",
       "      <td>771.0415</td>\n",
       "      <td>0.0</td>\n",
       "      <td>0.0</td>\n",
       "      <td>0.0</td>\n",
       "      <td>0.0</td>\n",
       "      <td>0.0</td>\n",
       "      <td>0.0</td>\n",
       "    </tr>\n",
       "    <tr>\n",
       "      <th>2022-01-03</th>\n",
       "      <td>0.00</td>\n",
       "      <td>baixo</td>\n",
       "      <td>84184.8645</td>\n",
       "      <td>81653.0526</td>\n",
       "      <td>-2531.8119</td>\n",
       "      <td>0.0</td>\n",
       "      <td>0.0</td>\n",
       "      <td>0.0</td>\n",
       "      <td>0.0</td>\n",
       "      <td>0.0</td>\n",
       "      <td>0.0</td>\n",
       "    </tr>\n",
       "    <tr>\n",
       "      <th>2022-01-04</th>\n",
       "      <td>0.00</td>\n",
       "      <td>baixo</td>\n",
       "      <td>83897.3920</td>\n",
       "      <td>85507.4336</td>\n",
       "      <td>1610.0416</td>\n",
       "      <td>0.0</td>\n",
       "      <td>0.0</td>\n",
       "      <td>0.0</td>\n",
       "      <td>0.0</td>\n",
       "      <td>0.0</td>\n",
       "      <td>0.0</td>\n",
       "    </tr>\n",
       "    <tr>\n",
       "      <th>2022-01-05</th>\n",
       "      <td>0.00</td>\n",
       "      <td>baixo</td>\n",
       "      <td>82665.9489</td>\n",
       "      <td>88303.1347</td>\n",
       "      <td>5637.1858</td>\n",
       "      <td>0.0</td>\n",
       "      <td>0.0</td>\n",
       "      <td>0.0</td>\n",
       "      <td>0.0</td>\n",
       "      <td>0.0</td>\n",
       "      <td>0.0</td>\n",
       "    </tr>\n",
       "    <tr>\n",
       "      <th>2022-01-06</th>\n",
       "      <td>0.00</td>\n",
       "      <td>baixo</td>\n",
       "      <td>81595.0781</td>\n",
       "      <td>85423.2342</td>\n",
       "      <td>3828.1561</td>\n",
       "      <td>0.0</td>\n",
       "      <td>0.0</td>\n",
       "      <td>0.0</td>\n",
       "      <td>0.0</td>\n",
       "      <td>0.0</td>\n",
       "      <td>0.0</td>\n",
       "    </tr>\n",
       "  </tbody>\n",
       "</table>\n",
       "</div>"
      ],
      "text/plain": [
       "            deficit_diario_mwh nivel_risco  programada  verificada  \\\n",
       "timestamp                                                            \n",
       "2022-01-02                0.05       baixo  70028.7895  70799.8310   \n",
       "2022-01-03                0.00       baixo  84184.8645  81653.0526   \n",
       "2022-01-04                0.00       baixo  83897.3920  85507.4336   \n",
       "2022-01-05                0.00       baixo  82665.9489  88303.1347   \n",
       "2022-01-06                0.00       baixo  81595.0781  85423.2342   \n",
       "\n",
       "            diferenca_verif_prog  geracao_total_diaria_go  \\\n",
       "timestamp                                                   \n",
       "2022-01-02              771.0415                      0.0   \n",
       "2022-01-03            -2531.8119                      0.0   \n",
       "2022-01-04             1610.0416                      0.0   \n",
       "2022-01-05             5637.1858                      0.0   \n",
       "2022-01-06             3828.1561                      0.0   \n",
       "\n",
       "            geracao_fotovoltaica_diaria  geracao_hidroelétrica_diaria  \\\n",
       "timestamp                                                               \n",
       "2022-01-02                          0.0                           0.0   \n",
       "2022-01-03                          0.0                           0.0   \n",
       "2022-01-04                          0.0                           0.0   \n",
       "2022-01-05                          0.0                           0.0   \n",
       "2022-01-06                          0.0                           0.0   \n",
       "\n",
       "            geracao_térmica_diaria  total_mwh_restrito_go  \\\n",
       "timestamp                                                   \n",
       "2022-01-02                     0.0                    0.0   \n",
       "2022-01-03                     0.0                    0.0   \n",
       "2022-01-04                     0.0                    0.0   \n",
       "2022-01-05                     0.0                    0.0   \n",
       "2022-01-06                     0.0                    0.0   \n",
       "\n",
       "            saldo_intercambio_seco  \n",
       "timestamp                           \n",
       "2022-01-02                     0.0  \n",
       "2022-01-03                     0.0  \n",
       "2022-01-04                     0.0  \n",
       "2022-01-05                     0.0  \n",
       "2022-01-06                     0.0  "
      ]
     },
     "metadata": {},
     "output_type": "display_data"
    }
   ],
   "source": [
    "# --- Célula 5: Junção (Merge) de Todas as Features ---\n",
    "\n",
    "df_combinado = df_base.copy()\n",
    "\n",
    "df_combinado = df_combinado.join(restricao_diaria_go)\n",
    "# Pega apenas a coluna de saldo que nos interessa\n",
    "df_combinado = df_combinado.join(df_balanco_seco[['saldo_intercambio_seco']])\n",
    "\n",
    "# Preenche com 0 os valores nulos que possam ter surgido\n",
    "df_combinado.fillna(0, inplace=True)\n",
    "\n",
    "print(\"Tabela final combinada (Alvo + Carga + Geração + Rede):\")\n",
    "display(df_combinado.head())"
   ]
  },
  {
   "cell_type": "code",
   "execution_count": 8,
   "id": "ca2cf523-5eb8-4275-9f54-a1f1da382a83",
   "metadata": {},
   "outputs": [
    {
     "data": {
      "image/png": "[encoded data removed]",
      "text/plain": [
       "<Figure size 1000x600 with 1 Axes>"
      ]
     },
     "metadata": {},
     "output_type": "display_data"
    },
    {
     "data": {
      "image/png": "[encoded data removed]",
      "text/plain": [
       "<Figure size 1000x600 with 1 Axes>"
      ]
     },
     "metadata": {},
     "output_type": "display_data"
    }
   ],
   "source": [
    "# --- Célula 6: Análise Combinada (Visualizações) ---\n",
    "\n",
    "# Gráfico 1: Restrição de Operação por Nível de Risco\n",
    "plt.figure(figsize=(10, 6))\n",
    "sns.boxplot(x='nivel_risco', y='total_mwh_restrito_go', data=df_combinado, order=['baixo', 'medio', 'alto'])\n",
    "plt.title('Restrição de Operação em Goiás por Nível de Risco', fontsize=16)\n",
    "plt.ylabel('Total Restringido (MWh)')\n",
    "plt.xlabel('Nível de Risco')\n",
    "plt.show()\n",
    "\n",
    "# Gráfico 2: Saldo de Intercâmbio por Nível de Risco\n",
    "plt.figure(figsize=(10, 6))\n",
    "sns.boxplot(x='nivel_risco', y='saldo_intercambio_seco', data=df_combinado, order=['baixo', 'medio', 'alto'])\n",
    "plt.title('Saldo de Intercâmbio (SE/CO) por Nível de Risco', fontsize=16)\n",
    "plt.ylabel('Saldo (Entradas - Saídas)')\n",
    "plt.xlabel('Nível de Risco')\n",
    "plt.show()"
   ]
  },
  {
   "cell_type": "code",
   "execution_count": 9,
   "id": "e8c7c5d2-77b4-4704-ab6e-62bc33b1d43c",
   "metadata": {},
   "outputs": [
    {
     "name": "stdout",
     "output_type": "stream",
     "text": [
      "Tabela de features V3, enriquecida com dados da rede, salva com sucesso em: ../data/processed/feature_table_v3.parquet\n"
     ]
    }
   ],
   "source": [
    "# --- Célula 7: Salvando o Resultado Final ---\n",
    "\n",
    "# Define e cria o diretório de saída se não existir\n",
    "output_path = '../data/processed/feature_table_v3.parquet'\n",
    "output_dir = os.path.dirname(output_path)\n",
    "os.makedirs(output_dir, exist_ok=True)\n",
    "\n",
    "# Salva a nova tabela combinada\n",
    "df_combinado.to_parquet(output_path)\n",
    "\n",
    "print(f\"Tabela de features V3, enriquecida com dados da rede, salva com sucesso em: {output_path}\")"
   ]
  },
  {
   "cell_type": "code",
   "execution_count": null,
   "id": "847971d8-cf63-4eb3-9c39-598cb5933e41",
   "metadata": {},
   "outputs": [],
   "source": []
  }
 ],
 "metadata": {
  "kernelspec": {
   "display_name": "Python 3 (ipykernel)",
   "language": "python",
   "name": "python3"
  },
  "language_info": {
   "codemirror_mode": {
    "name": "ipython",
    "version": 3
   },
   "file_extension": ".py",
   "mimetype": "text/x-python",
   "name": "python",
   "nbconvert_exporter": "python",
   "pygments_lexer": "ipython3",
   "version": "3.12.3"
  }
 },
 "nbformat": 4,
 "nbformat_minor": 5
}
