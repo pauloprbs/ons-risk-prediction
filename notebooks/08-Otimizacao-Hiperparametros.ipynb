{
 "cells": [
  {
   "cell_type": "code",
   "execution_count": 1,
   "id": "4ed1ba5d-0a1b-4a01-83cf-a7aee4eba511",
   "metadata": {},
   "outputs": [
    {
     "name": "stdout",
     "output_type": "stream",
     "text": [
      "Bibliotecas importadas com sucesso.\n"
     ]
    }
   ],
   "source": [
    "import pandas as pd\n",
    "import seaborn as sns\n",
    "import numpy as np\n",
    "import matplotlib.pyplot as plt\n",
    "\n",
    "# Ferramentas de Pré-processamento e Modelagem\n",
    "from sklearn.model_selection import train_test_split, RandomizedSearchCV\n",
    "from sklearn.preprocessing import StandardScaler\n",
    "from xgboost import XGBClassifier\n",
    "from imblearn.over_sampling import SMOTE\n",
    "\n",
    "# Métricas de Avaliação\n",
    "from sklearn.metrics import accuracy_score, confusion_matrix, classification_report\n",
    "\n",
    "print(\"Bibliotecas importadas com sucesso.\")"
   ]
  },
  {
   "cell_type": "code",
   "execution_count": 2,
   "id": "b148f851-19a2-46b1-a091-127292692f4c",
   "metadata": {},
   "outputs": [
    {
     "name": "stdout",
     "output_type": "stream",
     "text": [
      "Tabela de modelagem carregada com 1343 dias.\n",
      "\n",
      "Contagem de classes de treino ANTES do SMOTE:\n",
      "nivel_risco\n",
      "0    920\n",
      "1     13\n",
      "2      7\n",
      "Name: count, dtype: int64\n",
      "\n",
      "Contagem de classes de treino DEPOIS do SMOTE:\n",
      "nivel_risco\n",
      "0    920\n",
      "2    920\n",
      "1    920\n",
      "Name: count, dtype: int64\n",
      "\n",
      "Preparação dos dados concluída.\n"
     ]
    }
   ],
   "source": [
    "# Carregar a tabela de features final\n",
    "path_final_table = '../data/processed/modeling_table.parquet'\n",
    "df = pd.read_parquet(path_final_table)\n",
    "print(f\"Tabela de modelagem carregada com {df.shape[0]} dias.\")\n",
    "\n",
    "# 1. Separar Features (X) e Alvo (y)\n",
    "y = df['nivel_risco']\n",
    "X = df.drop(columns=['nivel_risco', 'deficit_diario_mwh'])\n",
    "\n",
    "# 2. Codificar o Alvo e Dividir em Treino/Teste\n",
    "mapeamento_risco = {'baixo': 0, 'medio': 1, 'alto': 2}\n",
    "y_encoded = y.map(mapeamento_risco)\n",
    "X_train, X_test, y_train, y_test = train_test_split(\n",
    "    X, y_encoded, test_size=0.3, random_state=42, stratify=y_encoded\n",
    ")\n",
    "\n",
    "# 3. Escalonar as Features\n",
    "scaler = StandardScaler()\n",
    "X_train_scaled = scaler.fit_transform(X_train)\n",
    "X_test_scaled = scaler.transform(X_test)\n",
    "\n",
    "# 4. Aplicar SMOTE nos dados de treino\n",
    "print(\"\\nContagem de classes de treino ANTES do SMOTE:\")\n",
    "print(y_train.value_counts())\n",
    "min_class_count = y_train.value_counts().min()\n",
    "k_neighbors_smote = max(1, min_class_count - 1)\n",
    "smote = SMOTE(random_state=42, k_neighbors=k_neighbors_smote)\n",
    "X_train_resampled, y_train_resampled = smote.fit_resample(X_train_scaled, y_train)\n",
    "print(\"\\nContagem de classes de treino DEPOIS do SMOTE:\")\n",
    "print(y_train_resampled.value_counts())\n",
    "\n",
    "print(\"\\nPreparação dos dados concluída.\")"
   ]
  },
  {
   "cell_type": "code",
   "execution_count": 3,
   "id": "62ce942c-9859-4a26-91fd-737799c4a5d1",
   "metadata": {},
   "outputs": [
    {
     "name": "stdout",
     "output_type": "stream",
     "text": [
      "Grid de hiperparâmetros definido.\n"
     ]
    }
   ],
   "source": [
    "# Aqui definimos os 'ingredientes' e as 'quantidades' que queremos testar.\n",
    "param_grid = {\n",
    "    'n_estimators': [100, 200, 300, 500],\n",
    "    'max_depth': [3, 5, 7, 10],\n",
    "    'learning_rate': [0.01, 0.05, 0.1, 0.2],\n",
    "    'subsample': [0.7, 0.8, 0.9, 1.0],\n",
    "    'colsample_bytree': [0.7, 0.8, 0.9, 1.0],\n",
    "    'gamma': [0, 0.1, 0.2, 0.5]\n",
    "}\n",
    "\n",
    "# Instancia o modelo base\n",
    "xgb = XGBClassifier(objective='multi:softmax', num_class=3, random_state=42, eval_metric='mlogloss')\n",
    "\n",
    "print(\"Grid de hiperparâmetros definido.\")"
   ]
  },
  {
   "cell_type": "code",
   "execution_count": 4,
   "id": "72c3b130-e667-41fb-b61a-6fabf0be0c13",
   "metadata": {},
   "outputs": [
    {
     "name": "stdout",
     "output_type": "stream",
     "text": [
      "Iniciando a busca de hiperparâmetros...\n",
      "Fitting 3 folds for each of 50 candidates, totalling 150 fits\n",
      "Busca de hiperparâmetros concluída.\n"
     ]
    }
   ],
   "source": [
    "# Configuração da busca\n",
    "# n_iter=50: Testa 50 combinações aleatórias.\n",
    "# cv=3: Usa validação cruzada com 3 folds.\n",
    "# scoring='f1_weighted': A métrica para decidir qual combinação é a melhor. É boa para dados desbalanceados.\n",
    "# n_jobs=-1: Usa todos os processadores disponíveis para acelerar a busca.\n",
    "random_search = RandomizedSearchCV(\n",
    "    estimator=xgb,\n",
    "    param_distributions=param_grid,\n",
    "    n_iter=50,\n",
    "    cv=3,\n",
    "    scoring='f1_weighted',\n",
    "    n_jobs=-1,\n",
    "    random_state=42,\n",
    "    verbose=2 # Mostra o progresso da busca\n",
    ")\n",
    "\n",
    "# --- ATENÇÃO: ESTA CÉLULA PODE DEMORAR BASTANTE PARA EXECUTAR! ---\n",
    "# O tempo de execução depende da potência do seu computador. Pode levar de alguns minutos a mais de uma hora.\n",
    "print(\"Iniciando a busca de hiperparâmetros...\")\n",
    "random_search.fit(X_train_resampled, y_train_resampled)\n",
    "print(\"Busca de hiperparâmetros concluída.\")"
   ]
  },
  {
   "cell_type": "code",
   "execution_count": 5,
   "id": "1d579a36-7256-426d-83d9-36b211c48adc",
   "metadata": {},
   "outputs": [
    {
     "name": "stdout",
     "output_type": "stream",
     "text": [
      "Melhores parâmetros encontrados:\n",
      "{'subsample': 0.8, 'n_estimators': 300, 'max_depth': 10, 'learning_rate': 0.2, 'gamma': 0, 'colsample_bytree': 0.9}\n",
      "\n",
      "Melhor score (f1_weighted) durante a validação cruzada: 0.9840\n"
     ]
    }
   ],
   "source": [
    "print(\"Melhores parâmetros encontrados:\")\n",
    "print(random_search.best_params_)\n",
    "\n",
    "print(f\"\\nMelhor score (f1_weighted) durante a validação cruzada: {random_search.best_score_:.4f}\")\n",
    "\n",
    "# O melhor modelo já treinado está salvo em 'best_estimator_'\n",
    "best_model = random_search.best_estimator_"
   ]
  },
  {
   "cell_type": "code",
   "execution_count": 6,
   "id": "0c42c5ac-2c06-4a3c-97b2-0f160f053d32",
   "metadata": {},
   "outputs": [
    {
     "name": "stdout",
     "output_type": "stream",
     "text": [
      "Fazendo previsões com o modelo otimizado...\n",
      "\n",
      "Acurácia do Modelo Otimizado: 94.29%\n",
      "\n",
      "Relatório de Classificação (Modelo Otimizado):\n",
      "              precision    recall  f1-score   support\n",
      "\n",
      "       baixo       0.98      0.96      0.97       395\n",
      "       medio       0.00      0.00      0.00         5\n",
      "        alto       0.00      0.00      0.00         3\n",
      "\n",
      "    accuracy                           0.94       403\n",
      "   macro avg       0.33      0.32      0.32       403\n",
      "weighted avg       0.96      0.94      0.95       403\n",
      "\n"
     ]
    },
    {
     "data": {
      "image/png": "[encoded data removed]",
      "text/plain": [
       "<Figure size 800x600 with 2 Axes>"
      ]
     },
     "metadata": {},
     "output_type": "display_data"
    }
   ],
   "source": [
    "# Agora avaliamos o modelo otimizado nos dados de teste que ficaram guardados.\n",
    "print(\"Fazendo previsões com o modelo otimizado...\")\n",
    "y_pred_best = best_model.predict(X_test_scaled)\n",
    "\n",
    "print(f\"\\nAcurácia do Modelo Otimizado: {accuracy_score(y_test, y_pred_best):.2%}\\n\")\n",
    "print(\"Relatório de Classificação (Modelo Otimizado):\")\n",
    "print(classification_report(y_test, y_pred_best, target_names=mapeamento_risco.keys()))\n",
    "\n",
    "# Matriz de Confusão do modelo otimizado\n",
    "cm_best = confusion_matrix(y_test, y_pred_best)\n",
    "plt.figure(figsize=(8, 6))\n",
    "sns.heatmap(cm_best, annot=True, fmt='d', cmap='Blues', xticklabels=mapeamento_risco.keys(), yticklabels=mapeamento_risco.keys())\n",
    "plt.title('Matriz de Confusão - Modelo Otimizado', fontsize=16)\n",
    "plt.ylabel('Classe Real')\n",
    "plt.xlabel('Classe Prevista')\n",
    "plt.show()"
   ]
  },
  {
   "cell_type": "code",
   "execution_count": null,
   "id": "9933db7d-b709-4a52-857f-fd1e242fbcef",
   "metadata": {},
   "outputs": [],
   "source": []
  }
 ],
 "metadata": {
  "kernelspec": {
   "display_name": "Python 3 (ipykernel)",
   "language": "python",
   "name": "python3"
  },
  "language_info": {
   "codemirror_mode": {
    "name": "ipython",
    "version": 3
   },
   "file_extension": ".py",
   "mimetype": "text/x-python",
   "name": "python",
   "nbconvert_exporter": "python",
   "pygments_lexer": "ipython3",
   "version": "3.12.3"
  }
 },
 "nbformat": 4,
 "nbformat_minor": 5
}
