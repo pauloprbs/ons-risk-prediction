{
 "cells": [
  {
   "cell_type": "code",
   "execution_count": 1,
   "id": "6c36e16c-41a8-4b4f-99dd-5ca147b24da5",
   "metadata": {},
   "outputs": [],
   "source": [
    "import pandas as pd\n",
    "import matplotlib.pyplot as plt\n",
    "import seaborn as sns\n",
    "import os\n",
    "\n",
    "# Configurações para os gráficos\n",
    "sns.set_style('whitegrid')\n",
    "plt.rcParams['figure.figsize'] = (15, 7)"
   ]
  },
  {
   "cell_type": "code",
   "execution_count": 2,
   "id": "7b94a7ae-0592-4423-98b6-90d7a0498875",
   "metadata": {},
   "outputs": [
    {
     "name": "stdout",
     "output_type": "stream",
     "text": [
      "Tabela base carregada com 366 registros e 12 colunas.\n",
      "Datasets de EAR e ENA carregados.\n"
     ]
    }
   ],
   "source": [
    "# Carregar a tabela de features v3 (resultado do notebook 04)\n",
    "path_base = '../data/processed/feature_table_v3.parquet'\n",
    "df_base = pd.read_parquet(path_base)\n",
    "print(f\"Tabela base carregada com {df_base.shape[0]} registros e {df_base.shape[1]} colunas.\")\n",
    "\n",
    "# Carregar os novos datasets hídricos\n",
    "try:\n",
    "    # Usando os nomes de arquivo que você baixou\n",
    "    path_ear = '../data/EAR_DIARIO_SUBSISTEMA_2025.csv'\n",
    "    df_ear_raw = pd.read_csv(path_ear, sep=';')\n",
    "    \n",
    "    path_ena = '../data/ENA_DIARIO_SUBSISTEMA_2025.csv'\n",
    "    df_ena_raw = pd.read_csv(path_ena, sep=';')\n",
    "\n",
    "    print(\"Datasets de EAR e ENA carregados.\")\n",
    "except FileNotFoundError as e:\n",
    "    print(f\"ERRO: Arquivo não encontrado - {e}\")\n",
    "    print(\"Por favor, confirme se os arquivos CSV estão na pasta /data.\")\n",
    "    raise"
   ]
  },
  {
   "cell_type": "code",
   "execution_count": 3,
   "id": "a515603e-dc26-466d-bad7-129bc8402177",
   "metadata": {},
   "outputs": [
    {
     "name": "stdout",
     "output_type": "stream",
     "text": [
      "Feature de Energia Armazenada (EAR) foi criada.\n"
     ]
    },
    {
     "data": {
      "text/html": [
       "<div>\n",
       "<style scoped>\n",
       "    .dataframe tbody tr th:only-of-type {\n",
       "        vertical-align: middle;\n",
       "    }\n",
       "\n",
       "    .dataframe tbody tr th {\n",
       "        vertical-align: top;\n",
       "    }\n",
       "\n",
       "    .dataframe thead th {\n",
       "        text-align: right;\n",
       "    }\n",
       "</style>\n",
       "<table border=\"1\" class=\"dataframe\">\n",
       "  <thead>\n",
       "    <tr style=\"text-align: right;\">\n",
       "      <th></th>\n",
       "      <th>ear_data</th>\n",
       "      <th>nom_subsistema</th>\n",
       "      <th>ear_percentual_seco</th>\n",
       "    </tr>\n",
       "    <tr>\n",
       "      <th>timestamp</th>\n",
       "      <th></th>\n",
       "      <th></th>\n",
       "      <th></th>\n",
       "    </tr>\n",
       "  </thead>\n",
       "  <tbody>\n",
       "    <tr>\n",
       "      <th>2025-01-01</th>\n",
       "      <td>2025-01-01</td>\n",
       "      <td>SUDESTE</td>\n",
       "      <td>51.6570</td>\n",
       "    </tr>\n",
       "    <tr>\n",
       "      <th>2025-01-02</th>\n",
       "      <td>2025-01-02</td>\n",
       "      <td>SUDESTE</td>\n",
       "      <td>52.2283</td>\n",
       "    </tr>\n",
       "    <tr>\n",
       "      <th>2025-01-03</th>\n",
       "      <td>2025-01-03</td>\n",
       "      <td>SUDESTE</td>\n",
       "      <td>52.7255</td>\n",
       "    </tr>\n",
       "    <tr>\n",
       "      <th>2025-01-04</th>\n",
       "      <td>2025-01-04</td>\n",
       "      <td>SUDESTE</td>\n",
       "      <td>53.2389</td>\n",
       "    </tr>\n",
       "    <tr>\n",
       "      <th>2025-01-05</th>\n",
       "      <td>2025-01-05</td>\n",
       "      <td>SUDESTE</td>\n",
       "      <td>53.6733</td>\n",
       "    </tr>\n",
       "  </tbody>\n",
       "</table>\n",
       "</div>"
      ],
      "text/plain": [
       "              ear_data nom_subsistema  ear_percentual_seco\n",
       "timestamp                                                 \n",
       "2025-01-01  2025-01-01        SUDESTE              51.6570\n",
       "2025-01-02  2025-01-02        SUDESTE              52.2283\n",
       "2025-01-03  2025-01-03        SUDESTE              52.7255\n",
       "2025-01-04  2025-01-04        SUDESTE              53.2389\n",
       "2025-01-05  2025-01-05        SUDESTE              53.6733"
      ]
     },
     "metadata": {},
     "output_type": "display_data"
    }
   ],
   "source": [
    "# --- Célula 3: Processamento - Energia Armazenada (EAR) ---\n",
    "\n",
    "coluna_data_ear = 'ear_data'\n",
    "coluna_subsistema_ear = 'nom_subsistema'\n",
    "coluna_valor_ear = 'ear_verif_subsistema_percentual'\n",
    "\n",
    "df_ear = df_ear_raw[[coluna_data_ear, coluna_subsistema_ear, coluna_valor_ear]].copy()\n",
    "df_ear.rename(columns={coluna_valor_ear: 'ear_percentual_seco'}, inplace=True)\n",
    "\n",
    "df_ear['timestamp'] = pd.to_datetime(df_ear[coluna_data_ear])\n",
    "\n",
    "# CORREÇÃO: Usando o nome 'SUDESTE', conforme encontrado no arquivo.\n",
    "df_ear_seco = df_ear[df_ear[coluna_subsistema_ear] == 'SUDESTE'].copy()\n",
    "\n",
    "df_ear_seco.set_index('timestamp', inplace=True)\n",
    "\n",
    "print(\"Feature de Energia Armazenada (EAR) foi criada.\")\n",
    "display(df_ear_seco.head())"
   ]
  },
  {
   "cell_type": "code",
   "execution_count": 4,
   "id": "da3ac2eb-43f4-485c-9776-b298e9593f88",
   "metadata": {},
   "outputs": [
    {
     "name": "stdout",
     "output_type": "stream",
     "text": [
      "Feature de Energia Afluente (ENA) foi criada.\n"
     ]
    },
    {
     "data": {
      "text/html": [
       "<div>\n",
       "<style scoped>\n",
       "    .dataframe tbody tr th:only-of-type {\n",
       "        vertical-align: middle;\n",
       "    }\n",
       "\n",
       "    .dataframe tbody tr th {\n",
       "        vertical-align: top;\n",
       "    }\n",
       "\n",
       "    .dataframe thead th {\n",
       "        text-align: right;\n",
       "    }\n",
       "</style>\n",
       "<table border=\"1\" class=\"dataframe\">\n",
       "  <thead>\n",
       "    <tr style=\"text-align: right;\">\n",
       "      <th></th>\n",
       "      <th>ena_data</th>\n",
       "      <th>nom_subsistema</th>\n",
       "      <th>ena_percentual_mlt_seco</th>\n",
       "    </tr>\n",
       "    <tr>\n",
       "      <th>timestamp</th>\n",
       "      <th></th>\n",
       "      <th></th>\n",
       "      <th></th>\n",
       "    </tr>\n",
       "  </thead>\n",
       "  <tbody>\n",
       "    <tr>\n",
       "      <th>2025-01-01</th>\n",
       "      <td>2025-01-01</td>\n",
       "      <td>SUDESTE</td>\n",
       "      <td>97.1217</td>\n",
       "    </tr>\n",
       "    <tr>\n",
       "      <th>2025-01-02</th>\n",
       "      <td>2025-01-02</td>\n",
       "      <td>SUDESTE</td>\n",
       "      <td>99.7291</td>\n",
       "    </tr>\n",
       "    <tr>\n",
       "      <th>2025-01-03</th>\n",
       "      <td>2025-01-03</td>\n",
       "      <td>SUDESTE</td>\n",
       "      <td>101.8720</td>\n",
       "    </tr>\n",
       "    <tr>\n",
       "      <th>2025-01-04</th>\n",
       "      <td>2025-01-04</td>\n",
       "      <td>SUDESTE</td>\n",
       "      <td>101.7271</td>\n",
       "    </tr>\n",
       "    <tr>\n",
       "      <th>2025-01-05</th>\n",
       "      <td>2025-01-05</td>\n",
       "      <td>SUDESTE</td>\n",
       "      <td>101.5504</td>\n",
       "    </tr>\n",
       "  </tbody>\n",
       "</table>\n",
       "</div>"
      ],
      "text/plain": [
       "              ena_data nom_subsistema  ena_percentual_mlt_seco\n",
       "timestamp                                                     \n",
       "2025-01-01  2025-01-01        SUDESTE                  97.1217\n",
       "2025-01-02  2025-01-02        SUDESTE                  99.7291\n",
       "2025-01-03  2025-01-03        SUDESTE                 101.8720\n",
       "2025-01-04  2025-01-04        SUDESTE                 101.7271\n",
       "2025-01-05  2025-01-05        SUDESTE                 101.5504"
      ]
     },
     "metadata": {},
     "output_type": "display_data"
    }
   ],
   "source": [
    "# --- Célula 4: Processamento - Energia Afluente (ENA) ---\n",
    "\n",
    "coluna_data_ena = 'ena_data'\n",
    "coluna_subsistema_ena = 'nom_subsistema'\n",
    "coluna_valor_ena_percentual = 'ena_bruta_regiao_percentualmlt'\n",
    "\n",
    "df_ena = df_ena_raw[[coluna_data_ena, coluna_subsistema_ena, coluna_valor_ena_percentual]].copy()\n",
    "df_ena.rename(columns={coluna_valor_ena_percentual: 'ena_percentual_mlt_seco'}, inplace=True)\n",
    "\n",
    "df_ena['timestamp'] = pd.to_datetime(df_ena[coluna_data_ena])\n",
    "\n",
    "# CORREÇÃO: Usando o nome 'SUDESTE', conforme encontrado no arquivo.\n",
    "df_ena_seco = df_ena[df_ena[coluna_subsistema_ena] == 'SUDESTE'].copy()\n",
    "\n",
    "df_ena_seco.set_index('timestamp', inplace=True)\n",
    "\n",
    "print(\"Feature de Energia Afluente (ENA) foi criada.\")\n",
    "display(df_ena_seco.head())"
   ]
  },
  {
   "cell_type": "code",
   "execution_count": 5,
   "id": "26657561-0a1e-478a-8f06-4e3a07eac2bf",
   "metadata": {},
   "outputs": [
    {
     "name": "stdout",
     "output_type": "stream",
     "text": [
      "Tabela final combinada (Alvo + Carga + Geração + Rede + Hídrica):\n"
     ]
    },
    {
     "data": {
      "text/html": [
       "<div>\n",
       "<style scoped>\n",
       "    .dataframe tbody tr th:only-of-type {\n",
       "        vertical-align: middle;\n",
       "    }\n",
       "\n",
       "    .dataframe tbody tr th {\n",
       "        vertical-align: top;\n",
       "    }\n",
       "\n",
       "    .dataframe thead th {\n",
       "        text-align: right;\n",
       "    }\n",
       "</style>\n",
       "<table border=\"1\" class=\"dataframe\">\n",
       "  <thead>\n",
       "    <tr style=\"text-align: right;\">\n",
       "      <th></th>\n",
       "      <th>deficit_diario_mwh</th>\n",
       "      <th>nivel_risco</th>\n",
       "      <th>programada</th>\n",
       "      <th>verificada</th>\n",
       "      <th>diferenca_verif_prog</th>\n",
       "      <th>geracao_total_diaria_go</th>\n",
       "      <th>geracao_fotovoltaica_diaria</th>\n",
       "      <th>geracao_hidroelétrica_diaria</th>\n",
       "      <th>geracao_térmica_diaria</th>\n",
       "      <th>fator_cap_solar_medio_seco</th>\n",
       "      <th>total_mwh_restrito_go</th>\n",
       "      <th>saldo_intercambio_seco</th>\n",
       "      <th>ear_percentual_seco</th>\n",
       "      <th>ena_percentual_mlt_seco</th>\n",
       "    </tr>\n",
       "    <tr>\n",
       "      <th>timestamp</th>\n",
       "      <th></th>\n",
       "      <th></th>\n",
       "      <th></th>\n",
       "      <th></th>\n",
       "      <th></th>\n",
       "      <th></th>\n",
       "      <th></th>\n",
       "      <th></th>\n",
       "      <th></th>\n",
       "      <th></th>\n",
       "      <th></th>\n",
       "      <th></th>\n",
       "      <th></th>\n",
       "      <th></th>\n",
       "    </tr>\n",
       "  </thead>\n",
       "  <tbody>\n",
       "  </tbody>\n",
       "</table>\n",
       "</div>"
      ],
      "text/plain": [
       "Empty DataFrame\n",
       "Columns: [deficit_diario_mwh, nivel_risco, programada, verificada, diferenca_verif_prog, geracao_total_diaria_go, geracao_fotovoltaica_diaria, geracao_hidroelétrica_diaria, geracao_térmica_diaria, fator_cap_solar_medio_seco, total_mwh_restrito_go, saldo_intercambio_seco, ear_percentual_seco, ena_percentual_mlt_seco]\n",
       "Index: []"
      ]
     },
     "metadata": {},
     "output_type": "display_data"
    }
   ],
   "source": [
    "# Começa com a tabela base do notebook anterior\n",
    "df_combinado = df_base.copy()\n",
    "\n",
    "# Adiciona as novas features hídricas\n",
    "# Selecionamos apenas a coluna de valor que nos interessa de cada dataframe\n",
    "df_combinado = df_combinado.join(df_ear_seco[['ear_percentual_seco']])\n",
    "df_combinado = df_combinado.join(df_ena_seco[['ena_percentual_mlt_seco']])\n",
    "\n",
    "# Remove dias para os quais não temos dados hídricos (se houver)\n",
    "df_combinado.dropna(inplace=True)\n",
    "\n",
    "print(\"Tabela final combinada (Alvo + Carga + Geração + Rede + Hídrica):\")\n",
    "display(df_combinado.head())"
   ]
  },
  {
   "cell_type": "code",
   "execution_count": 6,
   "id": "2f87a77e-77ba-42e6-b960-0eeb27a63c94",
   "metadata": {},
   "outputs": [
    {
     "data": {
      "image/png": "[encoded data removed]",
      "text/plain": [
       "<Figure size 1000x600 with 1 Axes>"
      ]
     },
     "metadata": {},
     "output_type": "display_data"
    },
    {
     "data": {
      "image/png": "[encoded data removed]",
      "text/plain": [
       "<Figure size 1000x600 with 1 Axes>"
      ]
     },
     "metadata": {},
     "output_type": "display_data"
    }
   ],
   "source": [
    "# Gráfico 1: Energia Armazenada (EAR) por Nível de Risco\n",
    "plt.figure(figsize=(10, 6))\n",
    "sns.boxplot(x='nivel_risco', y='ear_percentual_seco', data=df_combinado, order=['baixo', 'medio', 'alto'])\n",
    "plt.title('Energia Armazenada nos Reservatórios (SE/CO) por Nível de Risco', fontsize=16)\n",
    "plt.ylabel('EAR (% da Capacidade Máxima)')\n",
    "plt.xlabel('Nível de Risco')\n",
    "plt.show()\n",
    "\n",
    "# Gráfico 2: Energia Afluente (ENA) por Nível de Risco\n",
    "plt.figure(figsize=(10, 6))\n",
    "sns.boxplot(x='nivel_risco', y='ena_percentual_mlt_seco', data=df_combinado, order=['baixo', 'medio', 'alto'])\n",
    "plt.title('Energia Afluente (Vazão) (SE/CO) por Nível de Risco', fontsize=16)\n",
    "plt.ylabel('ENA (% da Média de Longo Termo)')\n",
    "plt.xlabel('Nível de Risco')\n",
    "plt.show()"
   ]
  },
  {
   "cell_type": "code",
   "execution_count": 7,
   "id": "0fc038f0-587d-4b68-8609-f678e63abe28",
   "metadata": {},
   "outputs": [
    {
     "name": "stdout",
     "output_type": "stream",
     "text": [
      "TABELA FINAL PRONTA PARA MODELAGEM salva com sucesso em: ../data/processed/feature_table_final.parquet\n",
      "A tabela contém 0 dias e 14 colunas (features + alvo).\n"
     ]
    }
   ],
   "source": [
    "# --- Célula 7: Salvando a Tabela Final para Modelagem ---\n",
    "\n",
    "# Define e cria o diretório de saída se não existir\n",
    "output_path = '../data/processed/feature_table_final.parquet'\n",
    "output_dir = os.path.dirname(output_path)\n",
    "os.makedirs(output_dir, exist_ok=True)\n",
    "\n",
    "# Salva a tabela final, pronta para a fase de Machine Learning\n",
    "df_combinado.to_parquet(output_path)\n",
    "\n",
    "print(f\"TABELA FINAL PRONTA PARA MODELAGEM salva com sucesso em: {output_path}\")\n",
    "print(f\"A tabela contém {df_combinado.shape[0]} dias e {df_combinado.shape[1]} colunas (features + alvo).\")"
   ]
  },
  {
   "cell_type": "code",
   "execution_count": 8,
   "id": "fea1fb09-a287-4db7-a0ed-c67042ec8420",
   "metadata": {},
   "outputs": [
    {
     "name": "stdout",
     "output_type": "stream",
     "text": [
      "--- Verificação dos Períodos de Tempo Antes da Junção ---\n",
      "\n",
      "Tabela Base (vinda dos notebooks 01 a 04):\n",
      "Data inicial: 2023-01-01 00:00:00\n",
      "Data final:   2024-01-01 00:00:00\n",
      "Total de dias: 366\n",
      "\n",
      "Tabela de EAR (Energia Armazenada):\n",
      "Data inicial: 2025-01-01 00:00:00\n",
      "Data final:   2025-10-03 00:00:00\n",
      "\n",
      "Tabela de ENA (Energia Afluente):\n",
      "Data inicial: 2025-01-01 00:00:00\n",
      "Data final:   2025-10-03 00:00:00\n"
     ]
    }
   ],
   "source": [
    "# --- CÉLULA DE DIAGNÓSTICO DE DATAS ---\n",
    "\n",
    "print(\"--- Verificação dos Períodos de Tempo Antes da Junção ---\")\n",
    "\n",
    "print(\"\\nTabela Base (vinda dos notebooks 01 a 04):\")\n",
    "if not df_base.empty:\n",
    "    print(f\"Data inicial: {df_base.index.min()}\")\n",
    "    print(f\"Data final:   {df_base.index.max()}\")\n",
    "    print(f\"Total de dias: {len(df_base)}\")\n",
    "else:\n",
    "    print(\"ERRO: A Tabela base está vazia!\")\n",
    "\n",
    "print(\"\\nTabela de EAR (Energia Armazenada):\")\n",
    "if not df_ear_seco.empty:\n",
    "    print(f\"Data inicial: {df_ear_seco.index.min()}\")\n",
    "    print(f\"Data final:   {df_ear_seco.index.max()}\")\n",
    "else:\n",
    "    print(\"AVISO: A Tabela EAR está vazia!\")\n",
    "\n",
    "print(\"\\nTabela de ENA (Energia Afluente):\")\n",
    "if not df_ena_seco.empty:\n",
    "    print(f\"Data inicial: {df_ena_seco.index.min()}\")\n",
    "    print(f\"Data final:   {df_ena_seco.index.max()}\")\n",
    "else:\n",
    "    print(\"AVISO: A Tabela ENA está vazia!\")"
   ]
  },
  {
   "cell_type": "code",
   "execution_count": 9,
   "id": "0bbbb05b-f0ac-4ed2-871c-933bcd6dbf99",
   "metadata": {},
   "outputs": [
    {
     "name": "stdout",
     "output_type": "stream",
     "text": [
      "Valores únicos na coluna 'nom_subsistema' do arquivo EAR:\n",
      "['NORDESTE' 'NORTE' 'SUDESTE' 'SUL']\n"
     ]
    }
   ],
   "source": [
    "print(\"Valores únicos na coluna 'nom_subsistema' do arquivo EAR:\")\n",
    "print(df_ear_raw['nom_subsistema'].unique())"
   ]
  },
  {
   "cell_type": "code",
   "execution_count": null,
   "id": "5f1ad9ab-b5f6-48d9-b059-f5d11d704a43",
   "metadata": {},
   "outputs": [],
   "source": []
  }
 ],
 "metadata": {
  "kernelspec": {
   "display_name": "Python 3 (ipykernel)",
   "language": "python",
   "name": "python3"
  },
  "language_info": {
   "codemirror_mode": {
    "name": "ipython",
    "version": 3
   },
   "file_extension": ".py",
   "mimetype": "text/x-python",
   "name": "python",
   "nbconvert_exporter": "python",
   "pygments_lexer": "ipython3",
   "version": "3.12.3"
  }
 },
 "nbformat": 4,
 "nbformat_minor": 5
}
