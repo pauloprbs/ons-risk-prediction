{
 "cells": [
  {
   "cell_type": "code",
   "execution_count": 1,
   "id": "3cb22cb9-3e8e-4e8d-8796-1b5a96791d81",
   "metadata": {},
   "outputs": [
    {
     "name": "stderr",
     "output_type": "stream",
     "text": [
      "2025-10-15 08:41:45.089084: E external/local_xla/xla/stream_executor/cuda/cuda_fft.cc:485] Unable to register cuFFT factory: Attempting to register factory for plugin cuFFT when one has already been registered\n",
      "2025-10-15 08:41:45.106313: E external/local_xla/xla/stream_executor/cuda/cuda_dnn.cc:8454] Unable to register cuDNN factory: Attempting to register factory for plugin cuDNN when one has already been registered\n",
      "2025-10-15 08:41:45.111351: E external/local_xla/xla/stream_executor/cuda/cuda_blas.cc:1452] Unable to register cuBLAS factory: Attempting to register factory for plugin cuBLAS when one has already been registered\n",
      "2025-10-15 08:41:45.124957: I tensorflow/core/platform/cpu_feature_guard.cc:210] This TensorFlow binary is optimized to use available CPU instructions in performance-critical operations.\n",
      "To enable the following instructions: AVX2 FMA, in other operations, rebuild TensorFlow with the appropriate compiler flags.\n",
      "2025-10-15 08:41:45.878398: W tensorflow/compiler/tf2tensorrt/utils/py_utils.cc:38] TF-TRT Warning: Could not find TensorRT\n"
     ]
    }
   ],
   "source": [
    "# --- Célula 1: Importações ---\n",
    "import pandas as pd\n",
    "import numpy as np\n",
    "import matplotlib.pyplot as plt\n",
    "import seaborn as sns\n",
    "import os\n",
    "import sys\n",
    "\n",
    "# Deep Learning\n",
    "import tensorflow as tf\n",
    "from tensorflow.keras.models import Sequential\n",
    "from tensorflow.keras.layers import LSTM, Dense, Dropout, BatchNormalization, Bidirectional\n",
    "from tensorflow.keras.callbacks import EarlyStopping\n",
    "import keras_tuner as kt\n",
    "\n",
    "# Pré-processamento\n",
    "from sklearn.preprocessing import StandardScaler\n",
    "from imblearn.over_sampling import RandomOverSampler\n",
    "\n",
    "# Métricas\n",
    "from sklearn.metrics import classification_report, confusion_matrix\n",
    "\n",
    "# Salvamento de objetos\n",
    "import joblib"
   ]
  },
  {
   "cell_type": "code",
   "execution_count": 2,
   "id": "fbbd8bf0-bcf3-4bbb-87f1-532f53bf0c7c",
   "metadata": {},
   "outputs": [
    {
     "name": "stdout",
     "output_type": "stream",
     "text": [
      "Dados carregados: 5693 dias, 29 colunas.\n",
      "Período: 2010-02-10 a 2025-09-11\n"
     ]
    }
   ],
   "source": [
    "# --- Célula 2: Carregamento dos Dados ---\n",
    "path_final_table = '../data/processed/modeling_table_final.parquet'\n",
    "df_completo = pd.read_parquet(path_final_table)\n",
    "\n",
    "print(f\"Dados carregados: {df_completo.shape[0]} dias, {df_completo.shape[1]} colunas.\")\n",
    "print(f\"Período: {df_completo.index.min().date()} a {df_completo.index.max().date()}\")"
   ]
  },
  {
   "cell_type": "code",
   "execution_count": 3,
   "id": "bd54f246-c1b4-44a4-9df3-37f9eb533594",
   "metadata": {},
   "outputs": [
    {
     "name": "stdout",
     "output_type": "stream",
     "text": [
      "Grupos de features definidos com sucesso.\n"
     ]
    }
   ],
   "source": [
    "# --- Célula 3: Definição de Features ---\n",
    "features_carga = ['programada', 'verificada', 'diferenca_verif_prog']\n",
    "features_geracao = ['geracao_total_diaria_go', 'geracao_fotovoltaica_diaria', 'geracao_hidroelétrica_diaria', 'geracao_térmica_diaria']\n",
    "features_rede = ['total_mwh_restrito_go', 'saldo_intercambio_seco']\n",
    "features_hidrica = ['ear_percentual_seco', 'ena_percentual_mlt_seco']\n",
    "features_adicionais = ['cmo_semanal_seco', 'disponibilidade_total_diaria_go']\n",
    "features_clima = ['ghi', 'temp2m_c', 'precipitacao_mm']\n",
    "features_avancadas = ['carga_media_7d','carga_std_7d','geracao_media_7d','ear_ontem','ear_diff_3d','margem_oferta_demanda','pressao_demanda_ear','precip_acumulada_14d','precip_acumulada_30d']\n",
    "features_calendario = ['mes','dia_da_semana','dia_do_ano']\n",
    "\n",
    "print(\"Grupos de features definidos com sucesso.\")"
   ]
  },
  {
   "cell_type": "code",
   "execution_count": 4,
   "id": "02845b34-7fb0-440f-a6f3-8b7e9747132e",
   "metadata": {},
   "outputs": [
    {
     "name": "stdout",
     "output_type": "stream",
     "text": [
      "Amostragem de classes:\n",
      "nivel_risco\n",
      "baixo    3134\n",
      "medio      32\n",
      "alto       10\n",
      "Name: count, dtype: int64\n"
     ]
    }
   ],
   "source": [
    "# --- Célula 4: Cenário e Filtragem ---\n",
    "sys.path.append('..')\n",
    "from config import END_YEAR\n",
    "\n",
    "CENARIO_ESCOLHIDO = 'pos_2017'\n",
    "START_YEAR = 2017\n",
    "nome_cenario = \"LSTM Pós-2017 (Histórico Intermediário)\"\n",
    "features_para_teste_nomes = features_hidrica + features_adicionais + features_clima + features_calendario + features_avancadas\n",
    "\n",
    "# Filtra o período\n",
    "anos_de_interesse = range(START_YEAR, END_YEAR+1)\n",
    "df = df_completo[df_completo.index.year.isin(anos_de_interesse)].copy()\n",
    "features_para_teste = [col for col in features_para_teste_nomes if col in df.columns]\n",
    "X = df[features_para_teste]\n",
    "y = df['nivel_risco']\n",
    "\n",
    "print(f\"Amostragem de classes:\")\n",
    "print(y.value_counts())"
   ]
  },
  {
   "cell_type": "code",
   "execution_count": 5,
   "id": "399ae68f-adbe-484f-b413-cfbea10fcd35",
   "metadata": {},
   "outputs": [
    {
     "name": "stdout",
     "output_type": "stream",
     "text": [
      "Formato X_train_seq: (2526, 14, 16)\n",
      "Formato X_test_seq: (622, 14, 16)\n"
     ]
    }
   ],
   "source": [
    "# --- Célula 5: Pré-processamento e Sequências ---\n",
    "mapeamento_risco = {'baixo':0,'medio':1,'alto':2}\n",
    "y_encoded = y.map(mapeamento_risco)\n",
    "\n",
    "# Split temporal\n",
    "test_size = 0.2\n",
    "split_index = int(len(X)*(1-test_size))\n",
    "X_train_full = X[:split_index]\n",
    "y_train_full = y_encoded[:split_index]\n",
    "X_test = X[split_index:]\n",
    "y_test = y_encoded[split_index:]\n",
    "\n",
    "# Escalonamento\n",
    "scaler = StandardScaler()\n",
    "X_train_scaled = scaler.fit_transform(X_train_full)\n",
    "X_test_scaled = scaler.transform(X_test)\n",
    "\n",
    "# Função para criar sequências\n",
    "def create_sequences(X, y, time_steps=14):\n",
    "    Xs, ys = [], []\n",
    "    for i in range(len(X)-time_steps):\n",
    "        Xs.append(X[i:i+time_steps])\n",
    "        ys.append(y[i+time_steps])\n",
    "    return np.array(Xs), np.array(ys)\n",
    "\n",
    "TIME_STEPS = 14\n",
    "X_train_seq, y_train_seq = create_sequences(X_train_scaled, y_train_full.values, TIME_STEPS)\n",
    "X_test_seq, y_test_seq = create_sequences(X_test_scaled, y_test.values, TIME_STEPS)\n",
    "\n",
    "print(\"Formato X_train_seq:\", X_train_seq.shape)\n",
    "print(\"Formato X_test_seq:\", X_test_seq.shape)"
   ]
  },
  {
   "cell_type": "code",
   "execution_count": 6,
   "id": "a72416b8-c52b-4581-9437-6add81bca1a3",
   "metadata": {},
   "outputs": [
    {
     "name": "stdout",
     "output_type": "stream",
     "text": [
      "Trial 10 Complete [00h 05m 07s]\n",
      "val_accuracy: 1.0\n",
      "\n",
      "Best val_accuracy So Far: 1.0\n",
      "Total elapsed time: 00h 49m 05s\n"
     ]
    }
   ],
   "source": [
    "# --- Célula 6: Oversampling + Tuner (versão original mais detalhada) ---\n",
    "ros = RandomOverSampler(random_state=42)\n",
    "X_res, y_res = ros.fit_resample(\n",
    "    X_train_seq.reshape(X_train_seq.shape[0], -1), y_train_seq\n",
    ")\n",
    "X_res = X_res.reshape(-1, X_train_seq.shape[1], X_train_seq.shape[2])\n",
    "\n",
    "def build_model(hp):\n",
    "    model = Sequential()\n",
    "    \n",
    "    # Camada LSTM 1 (Bidirectional)\n",
    "    hp_units_1 = hp.Int('units_1', min_value=64, max_value=256, step=64)\n",
    "    hp_dropout_1 = hp.Float('dropout_1', min_value=0.2, max_value=0.5, step=0.1)\n",
    "    model.add(Bidirectional(LSTM(units=hp_units_1, return_sequences=True), input_shape=(X_res.shape[1], X_res.shape[2])))\n",
    "    model.add(Dropout(hp_dropout_1))\n",
    "    \n",
    "    # Camada LSTM 2\n",
    "    hp_units_2 = hp.Int('units_2', min_value=32, max_value=128, step=32)\n",
    "    hp_dropout_2 = hp.Float('dropout_2', min_value=0.2, max_value=0.5, step=0.1)\n",
    "    model.add(Bidirectional(LSTM(units=hp_units_2, return_sequences=True)))\n",
    "    model.add(Dropout(hp_dropout_2))\n",
    "    \n",
    "    # Camada LSTM 3\n",
    "    hp_units_3 = hp.Int('units_3', min_value=16, max_value=64, step=16)\n",
    "    hp_dropout_3 = hp.Float('dropout_3', min_value=0.2, max_value=0.5, step=0.1)\n",
    "    model.add(LSTM(units=hp_units_3))\n",
    "    model.add(Dropout(hp_dropout_3))\n",
    "    \n",
    "    # Camadas Dense finais\n",
    "    hp_dense_1 = hp.Int('dense_1', min_value=32, max_value=128, step=32)\n",
    "    hp_dense_2 = hp.Int('dense_2', min_value=16, max_value=64, step=16)\n",
    "    model.add(Dense(units=hp_dense_1, activation='relu'))\n",
    "    model.add(BatchNormalization())\n",
    "    model.add(Dense(units=hp_dense_2, activation='relu'))\n",
    "    \n",
    "    # Saída\n",
    "    model.add(Dense(3, activation='softmax'))\n",
    "\n",
    "    # Compilação\n",
    "    hp_learning_rate = hp.Choice('learning_rate', values=[1e-2, 1e-3, 1e-4])\n",
    "    model.compile(\n",
    "        optimizer=tf.keras.optimizers.Adam(learning_rate=hp_learning_rate),\n",
    "        loss='sparse_categorical_crossentropy',\n",
    "        metrics=['accuracy']\n",
    "    )\n",
    "    return model\n",
    "\n",
    "tuner = kt.RandomSearch(\n",
    "    build_model,\n",
    "    objective=kt.Objective(\"val_accuracy\", direction=\"max\"),\n",
    "    max_trials=10,\n",
    "    executions_per_trial=2,\n",
    "    directory='keras_tuner_dir',\n",
    "    project_name=f'lstm_tuning_advanced_{CENARIO_ESCOLHIDO}',\n",
    "    overwrite=True\n",
    ")\n",
    "\n",
    "early_stopping = EarlyStopping(monitor='val_loss', patience=10, restore_best_weights=True)\n",
    "tuner.search(X_res, y_res, epochs=50, validation_split=0.2, callbacks=[early_stopping], verbose=1)\n"
   ]
  },
  {
   "cell_type": "code",
   "execution_count": 7,
   "id": "f709351a-4529-477c-b1c0-2ddeada71632",
   "metadata": {},
   "outputs": [
    {
     "name": "stderr",
     "output_type": "stream",
     "text": [
      "/home/paulo/Code/ons-risk-prediction/venv/lib/python3.12/site-packages/keras/src/saving/saving_lib.py:797: UserWarning: Skipping variable loading for optimizer 'adam', because it has 2 variables whereas the saved optimizer has 48 variables. \n",
      "  saveable.load_own_variables(weights_store.get(inner_path))\n"
     ]
    },
    {
     "name": "stdout",
     "output_type": "stream",
     "text": [
      "\u001b[1m20/20\u001b[0m \u001b[32m━━━━━━━━━━━━━━━━━━━━\u001b[0m\u001b[37m\u001b[0m \u001b[1m1s\u001b[0m 20ms/step\n",
      "\n",
      "Resultados finais LSTM - LSTM Pós-2017 (Histórico Intermediário)\n",
      "              precision    recall  f1-score   support\n",
      "\n",
      "       baixo       0.99      0.93      0.96       615\n",
      "       medio       0.02      0.20      0.04         5\n",
      "        alto       0.00      0.00      0.00         2\n",
      "\n",
      "    accuracy                           0.92       622\n",
      "   macro avg       0.34      0.38      0.33       622\n",
      "weighted avg       0.98      0.92      0.95       622\n",
      "\n"
     ]
    },
    {
     "data": {
      "image/png": "[encoded data removed]",
      "text/plain": [
       "<Figure size 640x480 with 2 Axes>"
      ]
     },
     "metadata": {},
     "output_type": "display_data"
    },
    {
     "name": "stderr",
     "output_type": "stream",
     "text": [
      "WARNING:absl:You are saving your model as an HDF5 file via `model.save()` or `keras.saving.save_model(model)`. This file format is considered legacy. We recommend using instead the native Keras format, e.g. `model.save('my_model.keras')` or `keras.saving.save_model(model, 'my_model.keras')`. \n"
     ]
    },
    {
     "name": "stdout",
     "output_type": "stream",
     "text": [
      "Modelo e scaler LSTM salvos com sucesso!\n"
     ]
    }
   ],
   "source": [
    "# --- Célula 7: Avaliação + Salvamento ---\n",
    "best_model = tuner.get_best_models(1)[0]\n",
    "\n",
    "# Previsão\n",
    "y_pred_proba = best_model.predict(X_test_seq)\n",
    "y_pred = np.argmax(y_pred_proba, axis=1)\n",
    "\n",
    "print(f\"\\nResultados finais LSTM - {nome_cenario}\")\n",
    "print(classification_report(y_test_seq, y_pred, target_names=mapeamento_risco.keys(), zero_division=0))\n",
    "\n",
    "# Matriz de confusão\n",
    "cm = confusion_matrix(y_test_seq, y_pred)\n",
    "sns.heatmap(cm, annot=True, fmt='d', cmap='viridis', xticklabels=mapeamento_risco.keys(), yticklabels=mapeamento_risco.keys())\n",
    "plt.title(f'Matriz de Confusão - LSTM {nome_cenario}')\n",
    "plt.ylabel('Classe Real'); plt.xlabel('Classe Prevista'); plt.show()\n",
    "\n",
    "# Salvamento\n",
    "os.makedirs('../models', exist_ok=True)\n",
    "best_model.save(f'../models/best_lstm_model_{CENARIO_ESCOLHIDO}.h5')\n",
    "joblib.dump(scaler, f'../models/scaler_lstm_{CENARIO_ESCOLHIDO}.joblib')\n",
    "print(\"Modelo e scaler LSTM salvos com sucesso!\")"
   ]
  },
  {
   "cell_type": "code",
   "execution_count": null,
   "id": "8fd88dcd-5795-494e-8b79-04b243ad007b",
   "metadata": {},
   "outputs": [],
   "source": []
  }
 ],
 "metadata": {
  "kernelspec": {
   "display_name": "Python 3 (ipykernel)",
   "language": "python",
   "name": "python3"
  },
  "language_info": {
   "codemirror_mode": {
    "name": "ipython",
    "version": 3
   },
   "file_extension": ".py",
   "mimetype": "text/x-python",
   "name": "python",
   "nbconvert_exporter": "python",
   "pygments_lexer": "ipython3",
   "version": "3.12.3"
  }
 },
 "nbformat": 4,
 "nbformat_minor": 5
}
