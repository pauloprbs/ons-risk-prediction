{
 "cells": [
  {
   "cell_type": "code",
   "execution_count": 1,
   "id": "3cb22cb9-3e8e-4e8d-8796-1b5a96791d81",
   "metadata": {},
   "outputs": [
    {
     "name": "stderr",
     "output_type": "stream",
     "text": [
      "2025-10-14 21:06:27.288158: E external/local_xla/xla/stream_executor/cuda/cuda_fft.cc:485] Unable to register cuFFT factory: Attempting to register factory for plugin cuFFT when one has already been registered\n",
      "2025-10-14 21:06:27.304852: E external/local_xla/xla/stream_executor/cuda/cuda_dnn.cc:8454] Unable to register cuDNN factory: Attempting to register factory for plugin cuDNN when one has already been registered\n",
      "2025-10-14 21:06:27.309806: E external/local_xla/xla/stream_executor/cuda/cuda_blas.cc:1452] Unable to register cuBLAS factory: Attempting to register factory for plugin cuBLAS when one has already been registered\n",
      "2025-10-14 21:06:27.322712: I tensorflow/core/platform/cpu_feature_guard.cc:210] This TensorFlow binary is optimized to use available CPU instructions in performance-critical operations.\n",
      "To enable the following instructions: AVX2 FMA, in other operations, rebuild TensorFlow with the appropriate compiler flags.\n",
      "2025-10-14 21:06:28.079847: W tensorflow/compiler/tf2tensorrt/utils/py_utils.cc:38] TF-TRT Warning: Could not find TensorRT\n"
     ]
    }
   ],
   "source": [
    "# --- Célula 1: Importações ---\n",
    "import pandas as pd\n",
    "import seaborn as sns\n",
    "import numpy as np\n",
    "import matplotlib.pyplot as plt\n",
    "import sys\n",
    "\n",
    "# --- ADICIONADO: Imports para Deep Learning com TensorFlow/Keras ---\n",
    "import tensorflow as tf\n",
    "from tensorflow.keras.models import Sequential\n",
    "from tensorflow.keras.layers import LSTM, Dense, Dropout\n",
    "from tensorflow.keras.callbacks import EarlyStopping\n",
    "import keras_tuner as kt\n",
    "# -----------------------------------------------------------------\n",
    "\n",
    "# Ferramentas de Pré-processamento e Modelagem\n",
    "from sklearn.model_selection import train_test_split\n",
    "from sklearn.preprocessing import StandardScaler\n",
    "from sklearn.utils import class_weight\n",
    "\n",
    "# Métricas de Avaliação\n",
    "from sklearn.metrics import accuracy_score, confusion_matrix, classification_report"
   ]
  },
  {
   "cell_type": "code",
   "execution_count": 2,
   "id": "fbbd8bf0-bcf3-4bbb-87f1-532f53bf0c7c",
   "metadata": {},
   "outputs": [
    {
     "name": "stdout",
     "output_type": "stream",
     "text": [
      "Tabela de modelagem mestra carregada com 5693 dias e 29 colunas.\n",
      "Período total dos dados: de 2010-02-10 a 2025-09-11.\n"
     ]
    }
   ],
   "source": [
    "# --- Célula 2: Carregamento dos Dados Mestres ---\n",
    "\n",
    "# Carrega a tabela de modelagem COMPLETA (com todos os anos)\n",
    "path_final_table = '../data/processed/modeling_table_final.parquet' \n",
    "df_completo = pd.read_parquet(path_final_table)\n",
    "\n",
    "print(f\"Tabela de modelagem mestra carregada com {df_completo.shape[0]} dias e {df_completo.shape[1]} colunas.\")\n",
    "print(f\"Período total dos dados: de {df_completo.index.min().date()} a {df_completo.index.max().date()}.\")"
   ]
  },
  {
   "cell_type": "code",
   "execution_count": 3,
   "id": "bd54f246-c1b4-44a4-9df3-37f9eb533594",
   "metadata": {},
   "outputs": [
    {
     "name": "stdout",
     "output_type": "stream",
     "text": [
      "Grupos de features definidos com sucesso.\n"
     ]
    }
   ],
   "source": [
    "# --- Célula 3: Definição dos Grupos de Features ---\n",
    "\n",
    "features_carga = ['programada', 'verificada', 'diferenca_verif_prog']\n",
    "features_geracao = ['geracao_total_diaria_go', 'geracao_fotovoltaica_diaria', 'geracao_hidroelétrica_diaria', 'geracao_térmica_diaria']\n",
    "features_rede = ['total_mwh_restrito_go', 'saldo_intercambio_seco']\n",
    "features_hidrica = ['ear_percentual_seco', 'ena_percentual_mlt_seco']\n",
    "features_adicionais = ['cmo_semanal_seco', 'disponibilidade_total_diaria_go']\n",
    "features_clima = ['ghi', 'temp2m_c', 'precipitacao_mm']\n",
    "features_avancadas = ['carga_media_7d', 'carga_std_7d', 'geracao_media_7d', 'ear_ontem', 'ear_diff_3d', 'margem_oferta_demanda', 'pressao_demanda_ear', 'precip_acumulada_14d', 'precip_acumulada_30d']\n",
    "features_calendario = ['mes', 'dia_da_semana', 'dia_do_ano']\n",
    "\n",
    "print(\"Grupos de features definidos com sucesso.\")"
   ]
  },
  {
   "cell_type": "code",
   "execution_count": 4,
   "id": "02845b34-7fb0-440f-a6f3-8b7e9747132e",
   "metadata": {},
   "outputs": [
    {
     "name": "stdout",
     "output_type": "stream",
     "text": [
      "--- INICIANDO EXPERIMENTO COM O CENÁRIO: 'LSTM Pós-2017 (Histórico Intermediário)' ---\n",
      "Período de análise: de 2017 a 2025\n",
      "-> Tabela filtrada por data, resultando em 3176 dias para modelagem.\n",
      "Número de features selecionadas para este cenário: 16\n",
      "\n",
      "Amostragem de classes no dataset deste cenário:\n",
      "nivel_risco\n",
      "baixo    3134\n",
      "medio      32\n",
      "alto       10\n",
      "Name: count, dtype: int64\n"
     ]
    }
   ],
   "source": [
    "# --- Célula 4: Painel de Controle do Experimento (LSTM) ---\n",
    "import sys\n",
    "\n",
    "# Adiciona a pasta raiz ao path para encontrar o config.py\n",
    "sys.path.append('..') \n",
    "from config import END_YEAR\n",
    "\n",
    "# --- ESCOLHA O CENÁRIO PARA TESTAR ---\n",
    "# Opções: 'pos_2022', 'pos_2020', 'pos_2017', 'pos_2015', 'pos_2013', 'pos_2010'\n",
    "# Para LSTMs, cenários com mais dados históricos (ex: pos_2020 ou mais antigos) costumam ser melhores.\n",
    "CENARIO_ESCOLHIDO = 'pos_2017' \n",
    "# -------------------------------------\n",
    "\n",
    "# Define o período de análise e as features com base no cenário escolhido\n",
    "if CENARIO_ESCOLHIDO == 'pos_2022':\n",
    "    START_YEAR = 2022\n",
    "    nome_cenario = \"LSTM Pós-2022 (Features de Geração)\"\n",
    "    features_para_teste_nomes = (\n",
    "        features_geracao + features_rede + features_hidrica +\n",
    "        features_adicionais + features_clima + features_calendario +\n",
    "        features_avancadas + ['programada'] \n",
    "    )\n",
    "elif CENARIO_ESCOLHIDO == 'pos_2020':\n",
    "    START_YEAR = 2020\n",
    "    nome_cenario = \"LSTM Pós-2020 (Histórico com Carga Prog.)\"\n",
    "    features_para_teste_nomes = (\n",
    "        features_hidrica + features_adicionais + features_clima +\n",
    "        features_calendario + features_avancadas + ['programada']\n",
    "    )\n",
    "elif CENARIO_ESCOLHIDO == 'pos_2017':\n",
    "    START_YEAR = 2017\n",
    "    nome_cenario = \"LSTM Pós-2017 (Histórico Intermediário)\"\n",
    "    features_para_teste_nomes = (\n",
    "        features_hidrica + features_adicionais + features_clima +\n",
    "        features_calendario + features_avancadas\n",
    "    )\n",
    "elif CENARIO_ESCOLHIDO == 'pos_2015':\n",
    "    START_YEAR = 2015\n",
    "    nome_cenario = \"LSTM Pós-2015 (Histórico com Disponibilidade)\"\n",
    "    features_para_teste_nomes = (\n",
    "        features_hidrica + features_adicionais + features_clima +\n",
    "        features_calendario + features_avancadas\n",
    "    )\n",
    "elif CENARIO_ESCOLHIDO == 'pos_2013':\n",
    "    START_YEAR = 2013\n",
    "    nome_cenario = \"LSTM Pós-2013 (Histórico Extendido Básico)\"\n",
    "    features_para_teste_nomes = (\n",
    "        features_hidrica + features_clima + features_calendario + \n",
    "        features_avancadas + ['cmo_semanal_seco']\n",
    "    )\n",
    "elif CENARIO_ESCOLHIDO == 'pos_2010':\n",
    "    START_YEAR = 2010\n",
    "    nome_cenario = \"LSTM Pós-2010 (Máximo Histórico Básico)\"\n",
    "    features_para_teste_nomes = (\n",
    "        features_hidrica + features_clima + features_calendario + \n",
    "        features_avancadas + ['cmo_semanal_seco']\n",
    "    )\n",
    "else:\n",
    "    raise ValueError(\"Cenário escolhido é inválido.\")\n",
    "\n",
    "print(f\"--- INICIANDO EXPERIMENTO COM O CENÁRIO: '{nome_cenario}' ---\")\n",
    "print(f\"Período de análise: de {START_YEAR} a {END_YEAR}\")\n",
    "\n",
    "# --- FILTRAGEM E SELEÇÃO DE DADOS ---\n",
    "# Filtra a tabela mestra para o período do experimento\n",
    "anos_de_interesse = range(START_YEAR, END_YEAR + 1)\n",
    "df = df_completo[df_completo.index.year.isin(anos_de_interesse)].copy()\n",
    "print(f\"-> Tabela filtrada por data, resultando em {df.shape[0]} dias para modelagem.\")\n",
    "\n",
    "# Seleciona apenas as colunas válidas para o cenário\n",
    "features_para_teste = [col for col in features_para_teste_nomes if col in df.columns]\n",
    "X = df[features_para_teste]\n",
    "y = df['nivel_risco']\n",
    "\n",
    "print(f\"Número de features selecionadas para este cenário: {len(X.columns)}\")\n",
    "print(\"\\nAmostragem de classes no dataset deste cenário:\")\n",
    "print(y.value_counts())"
   ]
  },
  {
   "cell_type": "code",
   "execution_count": 5,
   "id": "399ae68f-adbe-484f-b413-cfbea10fcd35",
   "metadata": {},
   "outputs": [
    {
     "name": "stdout",
     "output_type": "stream",
     "text": [
      "Formato dos dados de treino (amostras, timesteps, features): (2526, 14, 16)\n",
      "Formato dos dados de teste (amostras, timesteps, features): (622, 14, 16)\n"
     ]
    }
   ],
   "source": [
    "# --- Célula 5: Preparação dos Dados para LSTM ---\n",
    "\n",
    "# 1. Mapeamento e Separação de Treino/Teste\n",
    "mapeamento_risco = {'baixo': 0, 'medio': 1, 'alto': 2}\n",
    "y_encoded = y.map(mapeamento_risco)\n",
    "\n",
    "# Separação TREINO + VALIDAÇÃO de TESTE (dados futuros)\n",
    "# Para séries temporais, NÃO usamos train_test_split aleatório para evitar que o modelo \"veja o futuro\".\n",
    "test_size = 0.2\n",
    "split_index = int(len(X) * (1 - test_size))\n",
    "\n",
    "X_train_full = X[:split_index]\n",
    "y_train_full = y_encoded[:split_index]\n",
    "X_test = X[split_index:]\n",
    "y_test = y_encoded[split_index:]\n",
    "\n",
    "# 2. Escalonamento dos dados\n",
    "scaler = StandardScaler()\n",
    "X_train_full_scaled = scaler.fit_transform(X_train_full)\n",
    "X_test_scaled = scaler.transform(X_test)\n",
    "\n",
    "# 3. Função para criar as sequências (janelas de tempo)\n",
    "def create_sequences(X, y, time_steps=10):\n",
    "    Xs, ys = [], []\n",
    "    for i in range(len(X) - time_steps):\n",
    "        v = X[i:(i + time_steps)]\n",
    "        Xs.append(v)\n",
    "        ys.append(y[i + time_steps])\n",
    "    return np.array(Xs), np.array(ys)\n",
    "\n",
    "TIME_STEPS = 14 # Usaremos 14 dias de histórico para prever o risco no dia seguinte\n",
    "\n",
    "# Cria as sequências para treino e teste\n",
    "X_train_seq, y_train_seq = create_sequences(X_train_full_scaled, y_train_full.values, TIME_STEPS)\n",
    "X_test_seq, y_test_seq = create_sequences(X_test_scaled, y_test.values, TIME_STEPS)\n",
    "\n",
    "print(\"Formato dos dados de treino (amostras, timesteps, features):\", X_train_seq.shape)\n",
    "print(\"Formato dos dados de teste (amostras, timesteps, features):\", X_test_seq.shape)"
   ]
  },
  {
   "cell_type": "code",
   "execution_count": 6,
   "id": "a72416b8-c52b-4581-9437-6add81bca1a3",
   "metadata": {},
   "outputs": [
    {
     "name": "stdout",
     "output_type": "stream",
     "text": [
      "Trial 10 Complete [00h 02m 55s]\n",
      "val_accuracy: 1.0\n",
      "\n",
      "Best val_accuracy So Far: 1.0\n",
      "Total elapsed time: 00h 45m 56s\n",
      "\n",
      "Busca de hiperparâmetros concluída.\n"
     ]
    }
   ],
   "source": [
    "# --- Célula 6 (Versão Adaptada com Oversampling e Ajuste de Objetivo) ---\n",
    "import keras_tuner as kt\n",
    "from tensorflow.keras.callbacks import EarlyStopping\n",
    "from imblearn.over_sampling import RandomOverSampler\n",
    "\n",
    "# 0. Oversampling nas sequências de treino\n",
    "print(\"Aplicando Oversampling (RandomOverSampler) para balancear as classes...\")\n",
    "\n",
    "ros = RandomOverSampler(random_state=42)\n",
    "X_res, y_res = ros.fit_resample(\n",
    "    X_train_seq.reshape(X_train_seq.shape[0], -1), y_train_seq\n",
    ")\n",
    "X_res = X_res.reshape(-1, X_train_seq.shape[1], X_train_seq.shape[2])\n",
    "\n",
    "print(\"Distribuição original das classes no treino:\")\n",
    "print(pd.Series(y_train_seq).value_counts())\n",
    "print(\"\\nDistribuição após Oversampling:\")\n",
    "print(pd.Series(y_res).value_counts())\n",
    "\n",
    "# 1. Função para Construção do Modelo\n",
    "def build_model(hp):\n",
    "    model = Sequential()\n",
    "    hp_units_1 = hp.Int('units_1', min_value=32, max_value=128, step=32)\n",
    "    hp_units_2 = hp.Int('units_2', min_value=16, max_value=64, step=16)\n",
    "    hp_dropout = hp.Float('dropout', min_value=0.2, max_value=0.5, step=0.1)\n",
    "    hp_dense_units = hp.Int('dense_units', min_value=16, max_value=64, step=16)\n",
    "    hp_learning_rate = hp.Choice('learning_rate', values=[1e-2, 1e-3, 1e-4])\n",
    "\n",
    "    model.add(LSTM(units=hp_units_1, input_shape=(X_res.shape[1], X_res.shape[2]), return_sequences=True))\n",
    "    model.add(Dropout(rate=hp_dropout))\n",
    "    model.add(LSTM(units=hp_units_2))\n",
    "    model.add(Dropout(rate=hp_dropout))\n",
    "    model.add(Dense(units=hp_dense_units, activation='relu'))\n",
    "    model.add(Dense(3, activation='softmax'))\n",
    "\n",
    "    model.compile(\n",
    "        optimizer=tf.keras.optimizers.Adam(learning_rate=hp_learning_rate),\n",
    "        loss='sparse_categorical_crossentropy',\n",
    "        metrics=['accuracy']\n",
    "    )\n",
    "    return model\n",
    "\n",
    "# 2. Configuração do \"Tuner\" (mudando para otimizar val_accuracy)\n",
    "tuner = kt.RandomSearch(\n",
    "    build_model,\n",
    "    objective=kt.Objective(\"val_accuracy\", direction=\"max\"),\n",
    "    max_trials=10,\n",
    "    executions_per_trial=2,\n",
    "    directory='keras_tuner_dir',\n",
    "    project_name=f'lstm_tuning_{CENARIO_ESCOLHIDO}',\n",
    "    overwrite=True\n",
    ")\n",
    "\n",
    "# 3. Execução da Busca\n",
    "print(f\"\\nIniciando a busca de hiperparâmetros para o LSTM no cenário '{nome_cenario}' (com Oversampling)...\")\n",
    "\n",
    "early_stopping = EarlyStopping(monitor='val_loss', patience=10, restore_best_weights=True)\n",
    "\n",
    "tuner.search(\n",
    "    X_res, \n",
    "    y_res, \n",
    "    epochs=100,\n",
    "    validation_split=0.2,\n",
    "    callbacks=[early_stopping],\n",
    "    verbose=1\n",
    ")\n",
    "\n",
    "print(\"\\nBusca de hiperparâmetros concluída.\")"
   ]
  },
  {
   "cell_type": "code",
   "execution_count": 7,
   "id": "f709351a-4529-477c-b1c0-2ddeada71632",
   "metadata": {},
   "outputs": [
    {
     "name": "stdout",
     "output_type": "stream",
     "text": [
      "\n",
      "--- Melhores Hiperparâmetros Encontrados ---\n",
      "- units_1: 96\n",
      "- units_2: 32\n",
      "- dropout: 0.30000000000000004\n",
      "- dense_units: 48\n",
      "- learning_rate: 0.001\n",
      "-------------------------------------------\n"
     ]
    },
    {
     "name": "stderr",
     "output_type": "stream",
     "text": [
      "/home/paulo/Code/ons-risk-prediction/venv/lib/python3.12/site-packages/keras/src/saving/saving_lib.py:797: UserWarning: Skipping variable loading for optimizer 'adam', because it has 2 variables whereas the saved optimizer has 22 variables. \n",
      "  saveable.load_own_variables(weights_store.get(inner_path))\n"
     ]
    },
    {
     "data": {
      "text/html": [
       "<pre style=\"white-space:pre;overflow-x:auto;line-height:normal;font-family:Menlo,'DejaVu Sans Mono',consolas,'Courier New',monospace\"><span style=\"font-weight: bold\">Model: \"sequential\"</span>\n",
       "</pre>\n"
      ],
      "text/plain": [
       "\u001b[1mModel: \"sequential\"\u001b[0m\n"
      ]
     },
     "metadata": {},
     "output_type": "display_data"
    },
    {
     "data": {
      "text/html": [
       "<pre style=\"white-space:pre;overflow-x:auto;line-height:normal;font-family:Menlo,'DejaVu Sans Mono',consolas,'Courier New',monospace\">┏━━━━━━━━━━━━━━━━━━━━━━━━━━━━━━━━━┳━━━━━━━━━━━━━━━━━━━━━━━━┳━━━━━━━━━━━━━━━┓\n",
       "┃<span style=\"font-weight: bold\"> Layer (type)                    </span>┃<span style=\"font-weight: bold\"> Output Shape           </span>┃<span style=\"font-weight: bold\">       Param # </span>┃\n",
       "┡━━━━━━━━━━━━━━━━━━━━━━━━━━━━━━━━━╇━━━━━━━━━━━━━━━━━━━━━━━━╇━━━━━━━━━━━━━━━┩\n",
       "│ lstm (<span style=\"color: #0087ff; text-decoration-color: #0087ff\">LSTM</span>)                     │ (<span style=\"color: #00d7ff; text-decoration-color: #00d7ff\">None</span>, <span style=\"color: #00af00; text-decoration-color: #00af00\">14</span>, <span style=\"color: #00af00; text-decoration-color: #00af00\">96</span>)         │        <span style=\"color: #00af00; text-decoration-color: #00af00\">43,392</span> │\n",
       "├─────────────────────────────────┼────────────────────────┼───────────────┤\n",
       "│ dropout (<span style=\"color: #0087ff; text-decoration-color: #0087ff\">Dropout</span>)               │ (<span style=\"color: #00d7ff; text-decoration-color: #00d7ff\">None</span>, <span style=\"color: #00af00; text-decoration-color: #00af00\">14</span>, <span style=\"color: #00af00; text-decoration-color: #00af00\">96</span>)         │             <span style=\"color: #00af00; text-decoration-color: #00af00\">0</span> │\n",
       "├─────────────────────────────────┼────────────────────────┼───────────────┤\n",
       "│ lstm_1 (<span style=\"color: #0087ff; text-decoration-color: #0087ff\">LSTM</span>)                   │ (<span style=\"color: #00d7ff; text-decoration-color: #00d7ff\">None</span>, <span style=\"color: #00af00; text-decoration-color: #00af00\">32</span>)             │        <span style=\"color: #00af00; text-decoration-color: #00af00\">16,512</span> │\n",
       "├─────────────────────────────────┼────────────────────────┼───────────────┤\n",
       "│ dropout_1 (<span style=\"color: #0087ff; text-decoration-color: #0087ff\">Dropout</span>)             │ (<span style=\"color: #00d7ff; text-decoration-color: #00d7ff\">None</span>, <span style=\"color: #00af00; text-decoration-color: #00af00\">32</span>)             │             <span style=\"color: #00af00; text-decoration-color: #00af00\">0</span> │\n",
       "├─────────────────────────────────┼────────────────────────┼───────────────┤\n",
       "│ dense (<span style=\"color: #0087ff; text-decoration-color: #0087ff\">Dense</span>)                   │ (<span style=\"color: #00d7ff; text-decoration-color: #00d7ff\">None</span>, <span style=\"color: #00af00; text-decoration-color: #00af00\">48</span>)             │         <span style=\"color: #00af00; text-decoration-color: #00af00\">1,584</span> │\n",
       "├─────────────────────────────────┼────────────────────────┼───────────────┤\n",
       "│ dense_1 (<span style=\"color: #0087ff; text-decoration-color: #0087ff\">Dense</span>)                 │ (<span style=\"color: #00d7ff; text-decoration-color: #00d7ff\">None</span>, <span style=\"color: #00af00; text-decoration-color: #00af00\">3</span>)              │           <span style=\"color: #00af00; text-decoration-color: #00af00\">147</span> │\n",
       "└─────────────────────────────────┴────────────────────────┴───────────────┘\n",
       "</pre>\n"
      ],
      "text/plain": [
       "┏━━━━━━━━━━━━━━━━━━━━━━━━━━━━━━━━━┳━━━━━━━━━━━━━━━━━━━━━━━━┳━━━━━━━━━━━━━━━┓\n",
       "┃\u001b[1m \u001b[0m\u001b[1mLayer (type)                   \u001b[0m\u001b[1m \u001b[0m┃\u001b[1m \u001b[0m\u001b[1mOutput Shape          \u001b[0m\u001b[1m \u001b[0m┃\u001b[1m \u001b[0m\u001b[1m      Param #\u001b[0m\u001b[1m \u001b[0m┃\n",
       "┡━━━━━━━━━━━━━━━━━━━━━━━━━━━━━━━━━╇━━━━━━━━━━━━━━━━━━━━━━━━╇━━━━━━━━━━━━━━━┩\n",
       "│ lstm (\u001b[38;5;33mLSTM\u001b[0m)                     │ (\u001b[38;5;45mNone\u001b[0m, \u001b[38;5;34m14\u001b[0m, \u001b[38;5;34m96\u001b[0m)         │        \u001b[38;5;34m43,392\u001b[0m │\n",
       "├─────────────────────────────────┼────────────────────────┼───────────────┤\n",
       "│ dropout (\u001b[38;5;33mDropout\u001b[0m)               │ (\u001b[38;5;45mNone\u001b[0m, \u001b[38;5;34m14\u001b[0m, \u001b[38;5;34m96\u001b[0m)         │             \u001b[38;5;34m0\u001b[0m │\n",
       "├─────────────────────────────────┼────────────────────────┼───────────────┤\n",
       "│ lstm_1 (\u001b[38;5;33mLSTM\u001b[0m)                   │ (\u001b[38;5;45mNone\u001b[0m, \u001b[38;5;34m32\u001b[0m)             │        \u001b[38;5;34m16,512\u001b[0m │\n",
       "├─────────────────────────────────┼────────────────────────┼───────────────┤\n",
       "│ dropout_1 (\u001b[38;5;33mDropout\u001b[0m)             │ (\u001b[38;5;45mNone\u001b[0m, \u001b[38;5;34m32\u001b[0m)             │             \u001b[38;5;34m0\u001b[0m │\n",
       "├─────────────────────────────────┼────────────────────────┼───────────────┤\n",
       "│ dense (\u001b[38;5;33mDense\u001b[0m)                   │ (\u001b[38;5;45mNone\u001b[0m, \u001b[38;5;34m48\u001b[0m)             │         \u001b[38;5;34m1,584\u001b[0m │\n",
       "├─────────────────────────────────┼────────────────────────┼───────────────┤\n",
       "│ dense_1 (\u001b[38;5;33mDense\u001b[0m)                 │ (\u001b[38;5;45mNone\u001b[0m, \u001b[38;5;34m3\u001b[0m)              │           \u001b[38;5;34m147\u001b[0m │\n",
       "└─────────────────────────────────┴────────────────────────┴───────────────┘\n"
      ]
     },
     "metadata": {},
     "output_type": "display_data"
    },
    {
     "data": {
      "text/html": [
       "<pre style=\"white-space:pre;overflow-x:auto;line-height:normal;font-family:Menlo,'DejaVu Sans Mono',consolas,'Courier New',monospace\"><span style=\"font-weight: bold\"> Total params: </span><span style=\"color: #00af00; text-decoration-color: #00af00\">61,635</span> (240.76 KB)\n",
       "</pre>\n"
      ],
      "text/plain": [
       "\u001b[1m Total params: \u001b[0m\u001b[38;5;34m61,635\u001b[0m (240.76 KB)\n"
      ]
     },
     "metadata": {},
     "output_type": "display_data"
    },
    {
     "data": {
      "text/html": [
       "<pre style=\"white-space:pre;overflow-x:auto;line-height:normal;font-family:Menlo,'DejaVu Sans Mono',consolas,'Courier New',monospace\"><span style=\"font-weight: bold\"> Trainable params: </span><span style=\"color: #00af00; text-decoration-color: #00af00\">61,635</span> (240.76 KB)\n",
       "</pre>\n"
      ],
      "text/plain": [
       "\u001b[1m Trainable params: \u001b[0m\u001b[38;5;34m61,635\u001b[0m (240.76 KB)\n"
      ]
     },
     "metadata": {},
     "output_type": "display_data"
    },
    {
     "data": {
      "text/html": [
       "<pre style=\"white-space:pre;overflow-x:auto;line-height:normal;font-family:Menlo,'DejaVu Sans Mono',consolas,'Courier New',monospace\"><span style=\"font-weight: bold\"> Non-trainable params: </span><span style=\"color: #00af00; text-decoration-color: #00af00\">0</span> (0.00 B)\n",
       "</pre>\n"
      ],
      "text/plain": [
       "\u001b[1m Non-trainable params: \u001b[0m\u001b[38;5;34m0\u001b[0m (0.00 B)\n"
      ]
     },
     "metadata": {},
     "output_type": "display_data"
    },
    {
     "name": "stdout",
     "output_type": "stream",
     "text": [
      "\n",
      "Obtendo as probabilidades do melhor modelo LSTM nos dados de teste...\n",
      "\u001b[1m20/20\u001b[0m \u001b[32m━━━━━━━━━━━━━━━━━━━━\u001b[0m\u001b[37m\u001b[0m \u001b[1m0s\u001b[0m 9ms/step\n",
      "\n",
      "--- Resultados Finais do Cenário: LSTM Pós-2017 (Histórico Intermediário) (LSTM Otimizado) ---\n",
      "              precision    recall  f1-score   support\n",
      "\n",
      "       baixo       0.99      0.98      0.98       615\n",
      "       medio       0.06      0.20      0.09         5\n",
      "        alto       0.00      0.00      0.00         2\n",
      "\n",
      "    accuracy                           0.97       622\n",
      "   macro avg       0.35      0.39      0.36       622\n",
      "weighted avg       0.98      0.97      0.97       622\n",
      "\n"
     ]
    },
    {
     "data": {
      "image/png": "[encoded data removed]",
      "text/plain": [
       "<Figure size 640x480 with 2 Axes>"
      ]
     },
     "metadata": {},
     "output_type": "display_data"
    },
    {
     "name": "stderr",
     "output_type": "stream",
     "text": [
      "WARNING:absl:You are saving your model as an HDF5 file via `model.save()` or `keras.saving.save_model(model)`. This file format is considered legacy. We recommend using instead the native Keras format, e.g. `model.save('my_model.keras')` or `keras.saving.save_model(model, 'my_model.keras')`. \n"
     ]
    },
    {
     "name": "stdout",
     "output_type": "stream",
     "text": [
      "\n",
      "Modelo LSTM salvo com sucesso em: ../models/best_lstm_model_LSTM Pós-2017 (Histórico Intermediário).h5\n"
     ]
    }
   ],
   "source": [
    "# --- Célula 7: Obtenção, Avaliação e Salvamento do Modelo LSTM ---\n",
    "import os\n",
    "from sklearn.metrics import classification_report, confusion_matrix\n",
    "import seaborn as sns\n",
    "import matplotlib.pyplot as plt\n",
    "import numpy as np\n",
    "\n",
    "# 1. Obter os melhores hiperparâmetros e o melhor modelo do 'tuner'\n",
    "best_hps = tuner.get_best_hyperparameters(num_trials=1)[0]\n",
    "best_model = tuner.get_best_models(num_models=1)[0]\n",
    "\n",
    "print(\"\\n--- Melhores Hiperparâmetros Encontrados ---\")\n",
    "for hp in best_hps.values:\n",
    "    print(f\"- {hp}: {best_hps.get(hp)}\")\n",
    "print(\"-------------------------------------------\")\n",
    "\n",
    "best_model.summary()\n",
    "\n",
    "# 2. Avaliação final nos dados de teste\n",
    "print(\"\\nObtendo as probabilidades do melhor modelo LSTM nos dados de teste...\")\n",
    "y_pred_proba = best_model.predict(X_test_seq)\n",
    "\n",
    "# --- Ajuste os limiares aqui ---\n",
    "threshold_alto = 0.05\n",
    "threshold_medio = 0.15\n",
    "# -----------------------------\n",
    "\n",
    "y_pred_custom = []\n",
    "for probs in y_pred_proba:\n",
    "    prob_baixo, prob_medio, prob_alto = probs\n",
    "    if prob_alto >= threshold_alto:\n",
    "        y_pred_custom.append(2)\n",
    "    elif prob_medio >= threshold_medio:\n",
    "        y_pred_custom.append(1)\n",
    "    else:\n",
    "        y_pred_custom.append(0)\n",
    "\n",
    "y_pred_custom = np.array(y_pred_custom)\n",
    "\n",
    "print(f\"\\n--- Resultados Finais do Cenário: {nome_cenario} (LSTM Otimizado) ---\")\n",
    "print(classification_report(y_test_seq, y_pred_custom, \n",
    "                            target_names=mapeamento_risco.keys(), \n",
    "                            zero_division=0))\n",
    "\n",
    "cm_custom = confusion_matrix(y_test_seq, y_pred_custom)\n",
    "sns.heatmap(cm_custom, annot=True, fmt='d', cmap='viridis', \n",
    "            xticklabels=mapeamento_risco.keys(), \n",
    "            yticklabels=mapeamento_risco.keys())\n",
    "plt.title(f'Matriz de Confusão - {nome_cenario} (LSTM Otimizado)', fontsize=16)\n",
    "plt.ylabel('Classe Real')\n",
    "plt.xlabel('Classe Prevista')\n",
    "plt.show()\n",
    "\n",
    "# 3. Salvamento do modelo\n",
    "output_path = f'../models/best_lstm_model_{nome_cenario}.h5'\n",
    "os.makedirs(os.path.dirname(output_path), exist_ok=True)\n",
    "\n",
    "best_model.save(output_path)\n",
    "print(f\"\\nModelo LSTM salvo com sucesso em: {output_path}\")\n"
   ]
  },
  {
   "cell_type": "code",
   "execution_count": null,
   "id": "8fd88dcd-5795-494e-8b79-04b243ad007b",
   "metadata": {},
   "outputs": [],
   "source": []
  }
 ],
 "metadata": {
  "kernelspec": {
   "display_name": "Python 3 (ipykernel)",
   "language": "python",
   "name": "python3"
  },
  "language_info": {
   "codemirror_mode": {
    "name": "ipython",
    "version": 3
   },
   "file_extension": ".py",
   "mimetype": "text/x-python",
   "name": "python",
   "nbconvert_exporter": "python",
   "pygments_lexer": "ipython3",
   "version": "3.12.3"
  }
 },
 "nbformat": 4,
 "nbformat_minor": 5
}
