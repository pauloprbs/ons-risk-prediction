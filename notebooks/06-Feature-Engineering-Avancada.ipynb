{
 "cells": [
  {
   "cell_type": "code",
   "execution_count": 1,
   "id": "9174e5d5-e172-496f-9df8-5256b29629bd",
   "metadata": {},
   "outputs": [
    {
     "name": "stdout",
     "output_type": "stream",
     "text": [
      "Bibliotecas importadas.\n"
     ]
    }
   ],
   "source": [
    "import pandas as pd\n",
    "import numpy as np\n",
    "import matplotlib.pyplot as plt\n",
    "import seaborn as sns\n",
    "import os\n",
    "\n",
    "# Configurações para os gráficos\n",
    "sns.set_style('whitegrid')\n",
    "plt.rcParams['figure.figsize'] = (15, 7)\n",
    "\n",
    "print(\"Bibliotecas importadas.\")"
   ]
  },
  {
   "cell_type": "code",
   "execution_count": 2,
   "id": "2d11b62e-aa32-4c3b-8dcf-a93a591227c3",
   "metadata": {},
   "outputs": [
    {
     "name": "stdout",
     "output_type": "stream",
     "text": [
      "Tabela de features final carregada.\n",
      "A tabela contém 2787 dias e 13 colunas.\n"
     ]
    },
    {
     "data": {
      "text/html": [
       "<div>\n",
       "<style scoped>\n",
       "    .dataframe tbody tr th:only-of-type {\n",
       "        vertical-align: middle;\n",
       "    }\n",
       "\n",
       "    .dataframe tbody tr th {\n",
       "        vertical-align: top;\n",
       "    }\n",
       "\n",
       "    .dataframe thead th {\n",
       "        text-align: right;\n",
       "    }\n",
       "</style>\n",
       "<table border=\"1\" class=\"dataframe\">\n",
       "  <thead>\n",
       "    <tr style=\"text-align: right;\">\n",
       "      <th></th>\n",
       "      <th>deficit_diario_mwh</th>\n",
       "      <th>nivel_risco</th>\n",
       "      <th>programada</th>\n",
       "      <th>verificada</th>\n",
       "      <th>diferenca_verif_prog</th>\n",
       "      <th>geracao_total_diaria_go</th>\n",
       "      <th>geracao_fotovoltaica_diaria</th>\n",
       "      <th>geracao_hidroelétrica_diaria</th>\n",
       "      <th>geracao_térmica_diaria</th>\n",
       "      <th>total_mwh_restrito_go</th>\n",
       "      <th>saldo_intercambio_seco</th>\n",
       "      <th>ear_percentual_seco</th>\n",
       "      <th>ena_percentual_mlt_seco</th>\n",
       "    </tr>\n",
       "    <tr>\n",
       "      <th>timestamp</th>\n",
       "      <th></th>\n",
       "      <th></th>\n",
       "      <th></th>\n",
       "      <th></th>\n",
       "      <th></th>\n",
       "      <th></th>\n",
       "      <th></th>\n",
       "      <th></th>\n",
       "      <th></th>\n",
       "      <th></th>\n",
       "      <th></th>\n",
       "      <th></th>\n",
       "      <th></th>\n",
       "    </tr>\n",
       "  </thead>\n",
       "  <tbody>\n",
       "    <tr>\n",
       "      <th>2018-01-25</th>\n",
       "      <td>732.333333</td>\n",
       "      <td>alto</td>\n",
       "      <td>0.0</td>\n",
       "      <td>0.0</td>\n",
       "      <td>0.0</td>\n",
       "      <td>0.0</td>\n",
       "      <td>0.0</td>\n",
       "      <td>0.0</td>\n",
       "      <td>0.0</td>\n",
       "      <td>0.0</td>\n",
       "      <td>0.0</td>\n",
       "      <td>30.231899</td>\n",
       "      <td>88.28579712</td>\n",
       "    </tr>\n",
       "    <tr>\n",
       "      <th>2018-01-26</th>\n",
       "      <td>0.000000</td>\n",
       "      <td>baixo</td>\n",
       "      <td>0.0</td>\n",
       "      <td>0.0</td>\n",
       "      <td>0.0</td>\n",
       "      <td>0.0</td>\n",
       "      <td>0.0</td>\n",
       "      <td>0.0</td>\n",
       "      <td>0.0</td>\n",
       "      <td>0.0</td>\n",
       "      <td>0.0</td>\n",
       "      <td>30.335600</td>\n",
       "      <td>86.38259888</td>\n",
       "    </tr>\n",
       "    <tr>\n",
       "      <th>2018-01-27</th>\n",
       "      <td>0.000000</td>\n",
       "      <td>baixo</td>\n",
       "      <td>0.0</td>\n",
       "      <td>0.0</td>\n",
       "      <td>0.0</td>\n",
       "      <td>0.0</td>\n",
       "      <td>0.0</td>\n",
       "      <td>0.0</td>\n",
       "      <td>0.0</td>\n",
       "      <td>0.0</td>\n",
       "      <td>0.0</td>\n",
       "      <td>30.594200</td>\n",
       "      <td>84.68139648</td>\n",
       "    </tr>\n",
       "    <tr>\n",
       "      <th>2018-01-28</th>\n",
       "      <td>64.901667</td>\n",
       "      <td>medio</td>\n",
       "      <td>0.0</td>\n",
       "      <td>0.0</td>\n",
       "      <td>0.0</td>\n",
       "      <td>0.0</td>\n",
       "      <td>0.0</td>\n",
       "      <td>0.0</td>\n",
       "      <td>0.0</td>\n",
       "      <td>0.0</td>\n",
       "      <td>0.0</td>\n",
       "      <td>30.782801</td>\n",
       "      <td>83.22190094</td>\n",
       "    </tr>\n",
       "    <tr>\n",
       "      <th>2018-01-29</th>\n",
       "      <td>10.850000</td>\n",
       "      <td>baixo</td>\n",
       "      <td>0.0</td>\n",
       "      <td>0.0</td>\n",
       "      <td>0.0</td>\n",
       "      <td>0.0</td>\n",
       "      <td>0.0</td>\n",
       "      <td>0.0</td>\n",
       "      <td>0.0</td>\n",
       "      <td>0.0</td>\n",
       "      <td>0.0</td>\n",
       "      <td>30.804199</td>\n",
       "      <td>82.21679688</td>\n",
       "    </tr>\n",
       "  </tbody>\n",
       "</table>\n",
       "</div>"
      ],
      "text/plain": [
       "            deficit_diario_mwh nivel_risco  programada  verificada  \\\n",
       "timestamp                                                            \n",
       "2018-01-25          732.333333        alto         0.0         0.0   \n",
       "2018-01-26            0.000000       baixo         0.0         0.0   \n",
       "2018-01-27            0.000000       baixo         0.0         0.0   \n",
       "2018-01-28           64.901667       medio         0.0         0.0   \n",
       "2018-01-29           10.850000       baixo         0.0         0.0   \n",
       "\n",
       "            diferenca_verif_prog  geracao_total_diaria_go  \\\n",
       "timestamp                                                   \n",
       "2018-01-25                   0.0                      0.0   \n",
       "2018-01-26                   0.0                      0.0   \n",
       "2018-01-27                   0.0                      0.0   \n",
       "2018-01-28                   0.0                      0.0   \n",
       "2018-01-29                   0.0                      0.0   \n",
       "\n",
       "            geracao_fotovoltaica_diaria  geracao_hidroelétrica_diaria  \\\n",
       "timestamp                                                               \n",
       "2018-01-25                          0.0                           0.0   \n",
       "2018-01-26                          0.0                           0.0   \n",
       "2018-01-27                          0.0                           0.0   \n",
       "2018-01-28                          0.0                           0.0   \n",
       "2018-01-29                          0.0                           0.0   \n",
       "\n",
       "            geracao_térmica_diaria  total_mwh_restrito_go  \\\n",
       "timestamp                                                   \n",
       "2018-01-25                     0.0                    0.0   \n",
       "2018-01-26                     0.0                    0.0   \n",
       "2018-01-27                     0.0                    0.0   \n",
       "2018-01-28                     0.0                    0.0   \n",
       "2018-01-29                     0.0                    0.0   \n",
       "\n",
       "            saldo_intercambio_seco  ear_percentual_seco  \\\n",
       "timestamp                                                 \n",
       "2018-01-25                     0.0            30.231899   \n",
       "2018-01-26                     0.0            30.335600   \n",
       "2018-01-27                     0.0            30.594200   \n",
       "2018-01-28                     0.0            30.782801   \n",
       "2018-01-29                     0.0            30.804199   \n",
       "\n",
       "           ena_percentual_mlt_seco  \n",
       "timestamp                           \n",
       "2018-01-25             88.28579712  \n",
       "2018-01-26             86.38259888  \n",
       "2018-01-27             84.68139648  \n",
       "2018-01-28             83.22190094  \n",
       "2018-01-29             82.21679688  "
      ]
     },
     "metadata": {},
     "output_type": "display_data"
    }
   ],
   "source": [
    "# Carregar a tabela de features final, resultado de todo o nosso trabalho de EDA\n",
    "path_final_table = '../data/processed/feature_table_final.parquet'\n",
    "df = pd.read_parquet(path_final_table)\n",
    "\n",
    "print(\"Tabela de features final carregada.\")\n",
    "print(f\"A tabela contém {df.shape[0]} dias e {df.shape[1]} colunas.\")\n",
    "display(df.head())"
   ]
  },
  {
   "cell_type": "code",
   "execution_count": 3,
   "id": "39ab358b-8ece-4154-9239-f2b5ce1be3d3",
   "metadata": {},
   "outputs": [
    {
     "name": "stdout",
     "output_type": "stream",
     "text": [
      "AVISO: Coluna 'precipitacao_mm' não encontrada. Pule a criação das features de precipitação.\n",
      "\n",
      "Features de janela deslizante e lag criadas com sucesso.\n"
     ]
    }
   ],
   "source": [
    "# --- Célula 3: Engenharia de Features - Janelas Deslizantes (Rolling Windows & Lag) ---\n",
    "\n",
    "# --- Features de Carga (Demanda) ---\n",
    "# Média da carga verificada nos últimos 7 dias\n",
    "df['carga_media_7d'] = df['verificada'].rolling(window=7).mean()\n",
    "# Desvio padrão da carga nos últimos 7 dias (mede a volatilidade)\n",
    "df['carga_std_7d'] = df['verificada'].rolling(window=7).std()\n",
    "\n",
    "# --- Features de Geração (Oferta) ---\n",
    "# Média da geração total em Goiás nos últimos 7 dias\n",
    "df['geracao_media_7d'] = df['geracao_total_diaria_go'].rolling(window=7).mean()\n",
    "\n",
    "# --- Features Hídricas (Segurança do Sistema) ---\n",
    "# Valor do EAR do dia anterior (lag de 1 dia)\n",
    "df['ear_ontem'] = df['ear_percentual_seco'].shift(1)\n",
    "# Diferença (queda ou subida) do nível do reservatório nos últimos 3 dias\n",
    "df['ear_diff_3d'] = df['ear_percentual_seco'].diff(periods=3)\n",
    "\n",
    "# --- NOVA ADIÇÃO: Features de Precipitação Acumulada ---\n",
    "# Esta feature só existirá se o notebook 08 (meteorologia) já tiver sido executado\n",
    "if 'precipitacao_mm' in df.columns:\n",
    "    # Soma da precipitação nos últimos 14 dias\n",
    "    df['precip_acumulada_14d'] = df['precipitacao_mm'].rolling(window=14).sum()\n",
    "    # Soma da precipitação nos últimos 30 dias\n",
    "    df['precip_acumulada_30d'] = df['precipitacao_mm'].rolling(window=30).sum()\n",
    "    print(\"Features de precipitação acumulada criadas com sucesso.\")\n",
    "else:\n",
    "    print(\"AVISO: Coluna 'precipitacao_mm' não encontrada. Pule a criação das features de precipitação.\")\n",
    "\n",
    "print(\"\\nFeatures de janela deslizante e lag criadas com sucesso.\")"
   ]
  },
  {
   "cell_type": "code",
   "execution_count": 4,
   "id": "c1f3f1e5-d506-47fa-b309-76cc7da14333",
   "metadata": {},
   "outputs": [
    {
     "name": "stdout",
     "output_type": "stream",
     "text": [
      "Features de interação criadas com sucesso.\n"
     ]
    }
   ],
   "source": [
    "# Feature que representa a \"folga\" ou \"aperto\" entre oferta e demanda no dia\n",
    "df['margem_oferta_demanda'] = df['geracao_total_diaria_go'] - df['verificada']\n",
    "\n",
    "# Feature que mede a pressão da demanda sobre o nível de segurança dos reservatórios\n",
    "# Quão alta é a carga em relação ao nível do EAR?\n",
    "# Adicionamos 0.01 para evitar divisão por zero caso o EAR seja 0\n",
    "df['pressao_demanda_ear'] = df['verificada'] / (df['ear_percentual_seco'] + 0.01)\n",
    "\n",
    "print(\"Features de interação criadas com sucesso.\")"
   ]
  },
  {
   "cell_type": "code",
   "execution_count": 5,
   "id": "bd3de0da-a889-4b17-8541-d4e665174ed3",
   "metadata": {},
   "outputs": [
    {
     "name": "stdout",
     "output_type": "stream",
     "text": [
      "Shape do dataframe ANTES de remover NaNs: (2787, 20)\n",
      "\n",
      "Contagem de NaNs criados:\n",
      "carga_media_7d    6\n",
      "ear_ontem         1\n",
      "ear_diff_3d       3\n",
      "dtype: int64\n",
      "\n",
      "Shape do dataframe DEPOIS de remover NaNs: (2781, 20)\n"
     ]
    }
   ],
   "source": [
    "print(f\"Shape do dataframe ANTES de remover NaNs: {df.shape}\")\n",
    "\n",
    "# Inspeciona quantos NaNs foram criados em cada nova coluna\n",
    "print(\"\\nContagem de NaNs criados:\")\n",
    "print(df[['carga_media_7d', 'ear_ontem', 'ear_diff_3d']].isnull().sum())\n",
    "\n",
    "# Remove todas as linhas que contenham qualquer valor NaN\n",
    "df.dropna(inplace=True)\n",
    "\n",
    "print(f\"\\nShape do dataframe DEPOIS de remover NaNs: {df.shape}\")"
   ]
  },
  {
   "cell_type": "code",
   "execution_count": 6,
   "id": "a4a59c11-7208-47f0-8133-ba902d93d9be",
   "metadata": {},
   "outputs": [
    {
     "name": "stdout",
     "output_type": "stream",
     "text": [
      "\n",
      "TABELA FINAL PARA MODELAGEM salva com sucesso em: ../data/processed/modeling_table.parquet\n",
      "A tabela contém 2781 dias e 20 colunas.\n"
     ]
    }
   ],
   "source": [
    "# --- Célula 6: Salvando a Tabela Final para Modelagem ---\n",
    "\n",
    "# Define e cria o diretório de saída se não existir\n",
    "output_path = '../data/processed/modeling_table.parquet'\n",
    "output_dir = os.path.dirname(output_path)\n",
    "os.makedirs(output_dir, exist_ok=True)\n",
    "\n",
    "# CORREÇÃO: Certifique-se de que o nome do DataFrame aqui ('df') é o mesmo\n",
    "# que você usou nas células 2, 3, 4 e 5.\n",
    "df.to_parquet(output_path)\n",
    "\n",
    "print(f\"\\nTABELA FINAL PARA MODELAGEM salva com sucesso em: {output_path}\")\n",
    "print(f\"A tabela contém {df.shape[0]} dias e {df.shape[1]} colunas.\")"
   ]
  },
  {
   "cell_type": "code",
   "execution_count": null,
   "id": "b9834214-812e-469a-ae3d-9777d4eaa8b7",
   "metadata": {},
   "outputs": [],
   "source": []
  }
 ],
 "metadata": {
  "kernelspec": {
   "display_name": "Python 3 (ipykernel)",
   "language": "python",
   "name": "python3"
  },
  "language_info": {
   "codemirror_mode": {
    "name": "ipython",
    "version": 3
   },
   "file_extension": ".py",
   "mimetype": "text/x-python",
   "name": "python",
   "nbconvert_exporter": "python",
   "pygments_lexer": "ipython3",
   "version": "3.12.3"
  }
 },
 "nbformat": 4,
 "nbformat_minor": 5
}
