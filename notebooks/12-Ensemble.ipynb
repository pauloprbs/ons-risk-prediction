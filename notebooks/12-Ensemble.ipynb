{
 "cells": [
  {
   "cell_type": "code",
   "execution_count": 1,
   "id": "10e9cf3b-c164-4759-ba11-0cbb194964e3",
   "metadata": {},
   "outputs": [
    {
     "name": "stderr",
     "output_type": "stream",
     "text": [
      "2025-10-15 12:57:26.086179: E external/local_xla/xla/stream_executor/cuda/cuda_fft.cc:485] Unable to register cuFFT factory: Attempting to register factory for plugin cuFFT when one has already been registered\n",
      "2025-10-15 12:57:26.102802: E external/local_xla/xla/stream_executor/cuda/cuda_dnn.cc:8454] Unable to register cuDNN factory: Attempting to register factory for plugin cuDNN when one has already been registered\n",
      "2025-10-15 12:57:26.107800: E external/local_xla/xla/stream_executor/cuda/cuda_blas.cc:1452] Unable to register cuBLAS factory: Attempting to register factory for plugin cuBLAS when one has already been registered\n",
      "2025-10-15 12:57:26.119923: I tensorflow/core/platform/cpu_feature_guard.cc:210] This TensorFlow binary is optimized to use available CPU instructions in performance-critical operations.\n",
      "To enable the following instructions: AVX2 FMA, in other operations, rebuild TensorFlow with the appropriate compiler flags.\n",
      "2025-10-15 12:57:26.913933: W tensorflow/compiler/tf2tensorrt/utils/py_utils.cc:38] TF-TRT Warning: Could not find TensorRT\n"
     ]
    }
   ],
   "source": [
    "# --- Célula 1: Importações ---\n",
    "import os, sys\n",
    "import pandas as pd\n",
    "import numpy as np\n",
    "import matplotlib.pyplot as plt\n",
    "import seaborn as sns\n",
    "import joblib\n",
    "from pathlib import Path\n",
    "\n",
    "# modelos\n",
    "from xgboost import XGBClassifier\n",
    "from imblearn.ensemble import BalancedRandomForestClassifier\n",
    "\n",
    "# preprocessamento & split\n",
    "from sklearn.model_selection import train_test_split\n",
    "from sklearn.preprocessing import StandardScaler\n",
    "\n",
    "# métricas\n",
    "from sklearn.metrics import classification_report, confusion_matrix\n",
    "\n",
    "# keras\n",
    "import tensorflow as tf\n",
    "from tensorflow.keras.models import load_model"
   ]
  },
  {
   "cell_type": "code",
   "execution_count": 2,
   "id": "bdb25731-2c87-4962-bdb5-4729daba572f",
   "metadata": {},
   "outputs": [
    {
     "name": "stdout",
     "output_type": "stream",
     "text": [
      "Registros após filtro: 3176; features usadas: 16\n",
      "Distribuição de classes:\n",
      " nivel_risco\n",
      "baixo    3134\n",
      "medio      32\n",
      "alto       10\n",
      "Name: count, dtype: int64\n"
     ]
    }
   ],
   "source": [
    "# --- Célula 2: Carregamento e seleção de cenário/features ---\n",
    "path_final_table = Path('../data/processed/modeling_table_final.parquet')\n",
    "df_completo = pd.read_parquet(path_final_table)\n",
    "\n",
    "# cenário\n",
    "sys.path.append('..')\n",
    "from config import START_YEAR as CONFIG_START_YEAR, START_MONTH as CONFIG_START_MONTH\n",
    "from config import END_YEAR as CONFIG_END_YEAR, END_MONTH as CONFIG_END_MONTH\n",
    "\n",
    "CENARIO_ESCOLHIDO = 'pos_2017'\n",
    "START_YEAR = 2017\n",
    "nome_cenario = \"Ensemble Pós-2017\"\n",
    "\n",
    "# filtro por período (mantém consistência com config)\n",
    "start_date = pd.Timestamp(year=START_YEAR, month=CONFIG_START_MONTH, day=1)\n",
    "end_date = pd.Timestamp(year=CONFIG_END_YEAR, month=CONFIG_END_MONTH, day=31)  # safe upper bound\n",
    "df = df_completo.loc[start_date:end_date].copy()\n",
    "\n",
    "# grupos de features (mesmos que você usou)\n",
    "features_hidrica = ['ear_percentual_seco', 'ena_percentual_mlt_seco']\n",
    "features_adicionais = ['cmo_semanal_seco', 'disponibilidade_total_diaria_go', 'indicador_ccal_mensal']\n",
    "features_clima = ['ghi', 'temp2m_c', 'precipitacao_mm']\n",
    "features_avancadas = ['carga_media_7d','carga_std_7d','geracao_media_7d','ear_ontem','ear_diff_3d','margem_oferta_demanda','pressao_demanda_ear','precip_acumulada_14d','precip_acumulada_30d']\n",
    "features_calendario = ['mes','dia_da_semana','dia_do_ano']\n",
    "\n",
    "features_para_teste_nomes = features_hidrica + features_adicionais + features_clima + features_calendario + features_avancadas\n",
    "features_para_teste = [c for c in features_para_teste_nomes if c in df.columns]\n",
    "\n",
    "X = df[features_para_teste].copy()\n",
    "y = df['nivel_risco'].copy()\n",
    "\n",
    "print(f\"Registros após filtro: {df.shape[0]}; features usadas: {len(features_para_teste)}\")\n",
    "print(\"Distribuição de classes:\\n\", y.value_counts())"
   ]
  },
  {
   "cell_type": "code",
   "execution_count": 3,
   "id": "afd3d7a0-768c-4d1d-99c3-104f1a5a88b5",
   "metadata": {},
   "outputs": [
    {
     "name": "stdout",
     "output_type": "stream",
     "text": [
      "Scaler salvo em ../models/scaler_ensemble_2017.joblib\n",
      "X_train: (2223, 16) X_test: (953, 16)\n"
     ]
    }
   ],
   "source": [
    "# --- Célula 3: Split e scaler ---\n",
    "# mapeamento\n",
    "mapeamento_risco = {'baixo':0,'medio':1,'alto':2}\n",
    "y_encoded = y.map(mapeamento_risco)\n",
    "\n",
    "# split estratificado (mantém comportamento que usou antes em outros notebooks)\n",
    "X_train, X_test, y_train, y_test = train_test_split(\n",
    "    X, y_encoded, test_size=0.3, random_state=42, stratify=y_encoded\n",
    ")\n",
    "\n",
    "# scaler: ajusta no treino, transforma no teste\n",
    "scaler = StandardScaler()\n",
    "X_train_scaled = scaler.fit_transform(X_train)\n",
    "X_test_scaled = scaler.transform(X_test)\n",
    "\n",
    "# salva o scaler para uso futuro (recomendado)\n",
    "os.makedirs('../models', exist_ok=True)\n",
    "joblib.dump(scaler, '../models/scaler_ensemble_2017.joblib')\n",
    "print(\"Scaler salvo em ../models/scaler_ensemble_2017.joblib\")\n",
    "\n",
    "# informa shapes\n",
    "print(\"X_train:\", X_train.shape, \"X_test:\", X_test.shape)"
   ]
  },
  {
   "cell_type": "code",
   "execution_count": 4,
   "id": "6b82b92e-59e7-415e-aca7-10a667e5c719",
   "metadata": {},
   "outputs": [
    {
     "name": "stdout",
     "output_type": "stream",
     "text": [
      "X_test_seq shape (LSTM): (939, 14, 16)\n",
      "X_test_for_trees shape: (939, 16)\n",
      "y_test_seq shape: (939,)\n"
     ]
    }
   ],
   "source": [
    "# --- Célula 4: Sequências para LSTM (TIME_STEPS) e alinhamento ---\n",
    "TIME_STEPS = 14  # mesmo que usou no LSTM\n",
    "def create_sequences_from_array(X_arr, y_arr, time_steps=TIME_STEPS):\n",
    "    Xs, ys = [], []\n",
    "    for i in range(len(X_arr) - time_steps):\n",
    "        Xs.append(X_arr[i:(i+time_steps)])\n",
    "        ys.append(y_arr[i+time_steps])\n",
    "    return np.array(Xs), np.array(ys)\n",
    "\n",
    "# Convertendo X_test_scaled (numpy) para sequências\n",
    "X_test_scaled_df = pd.DataFrame(X_test_scaled, index=X_test.index, columns=X_test.columns)\n",
    "\n",
    "# Para manter alinhamento: cria sequências a partir de dados ordenados por índice (já estão)\n",
    "X_test_seq, y_test_seq = create_sequences_from_array(X_test_scaled, y_test.values, TIME_STEPS)\n",
    "\n",
    "# Para modelos de árvore, precisamos das mesmas amostras (dia alvo t) — que correspondem a X_test_scaled[TIME_STEPS:]\n",
    "X_test_for_trees = X_test_scaled[TIME_STEPS:].copy()\n",
    "y_test_for_trees = y_test.values[TIME_STEPS:].copy()\n",
    "\n",
    "print(\"X_test_seq shape (LSTM):\", X_test_seq.shape)\n",
    "print(\"X_test_for_trees shape:\", X_test_for_trees.shape)\n",
    "print(\"y_test_seq shape:\", y_test_seq.shape)"
   ]
  },
  {
   "cell_type": "code",
   "execution_count": 5,
   "id": "13e25330-11bd-4234-a58e-0444356b3968",
   "metadata": {},
   "outputs": [
    {
     "name": "stdout",
     "output_type": "stream",
     "text": [
      "XGBoost carregado: ../models/best_xgboost_model_2017.joblib\n",
      "BalancedRandomForest carregado: ../models/best_brf_model_2017.joblib\n"
     ]
    },
    {
     "name": "stderr",
     "output_type": "stream",
     "text": [
      "WARNING: All log messages before absl::InitializeLog() is called are written to STDERR\n",
      "I0000 00:00:1760543964.508396  230886 cuda_executor.cc:1015] successful NUMA node read from SysFS had negative value (-1), but there must be at least one NUMA node, so returning NUMA node zero. See more at https://github.com/torvalds/linux/blob/v6.0/Documentation/ABI/testing/sysfs-bus-pci#L344-L355\n",
      "I0000 00:00:1760543964.548802  230886 cuda_executor.cc:1015] successful NUMA node read from SysFS had negative value (-1), but there must be at least one NUMA node, so returning NUMA node zero. See more at https://github.com/torvalds/linux/blob/v6.0/Documentation/ABI/testing/sysfs-bus-pci#L344-L355\n",
      "I0000 00:00:1760543964.549971  230886 cuda_executor.cc:1015] successful NUMA node read from SysFS had negative value (-1), but there must be at least one NUMA node, so returning NUMA node zero. See more at https://github.com/torvalds/linux/blob/v6.0/Documentation/ABI/testing/sysfs-bus-pci#L344-L355\n",
      "I0000 00:00:1760543964.552330  230886 cuda_executor.cc:1015] successful NUMA node read from SysFS had negative value (-1), but there must be at least one NUMA node, so returning NUMA node zero. See more at https://github.com/torvalds/linux/blob/v6.0/Documentation/ABI/testing/sysfs-bus-pci#L344-L355\n",
      "I0000 00:00:1760543964.553354  230886 cuda_executor.cc:1015] successful NUMA node read from SysFS had negative value (-1), but there must be at least one NUMA node, so returning NUMA node zero. See more at https://github.com/torvalds/linux/blob/v6.0/Documentation/ABI/testing/sysfs-bus-pci#L344-L355\n",
      "I0000 00:00:1760543964.554308  230886 cuda_executor.cc:1015] successful NUMA node read from SysFS had negative value (-1), but there must be at least one NUMA node, so returning NUMA node zero. See more at https://github.com/torvalds/linux/blob/v6.0/Documentation/ABI/testing/sysfs-bus-pci#L344-L355\n",
      "I0000 00:00:1760543964.559897  230886 cuda_executor.cc:1015] successful NUMA node read from SysFS had negative value (-1), but there must be at least one NUMA node, so returning NUMA node zero. See more at https://github.com/torvalds/linux/blob/v6.0/Documentation/ABI/testing/sysfs-bus-pci#L344-L355\n",
      "I0000 00:00:1760543964.560901  230886 cuda_executor.cc:1015] successful NUMA node read from SysFS had negative value (-1), but there must be at least one NUMA node, so returning NUMA node zero. See more at https://github.com/torvalds/linux/blob/v6.0/Documentation/ABI/testing/sysfs-bus-pci#L344-L355\n",
      "I0000 00:00:1760543964.561885  230886 cuda_executor.cc:1015] successful NUMA node read from SysFS had negative value (-1), but there must be at least one NUMA node, so returning NUMA node zero. See more at https://github.com/torvalds/linux/blob/v6.0/Documentation/ABI/testing/sysfs-bus-pci#L344-L355\n",
      "2025-10-15 12:59:24.562823: I tensorflow/core/common_runtime/gpu/gpu_device.cc:2021] Created device /job:localhost/replica:0/task:0/device:GPU:0 with 745 MB memory:  -> device: 0, name: NVIDIA GeForce GTX 1650, pci bus id: 0000:01:00.0, compute capability: 7.5\n",
      "WARNING:absl:Compiled the loaded model, but the compiled metrics have yet to be built. `model.compile_metrics` will be empty until you train or evaluate the model.\n"
     ]
    },
    {
     "name": "stdout",
     "output_type": "stream",
     "text": [
      "LSTM carregado: ../models/best_lstm_model_pos_2017.h5\n"
     ]
    }
   ],
   "source": [
    "# --- Célula 5: Carregamento dos modelos ---\n",
    "# XGBoost\n",
    "xgb_path = \"../models/best_xgboost_model_2017.joblib\"\n",
    "xgb_model = joblib.load(xgb_path)\n",
    "print(\"XGBoost carregado:\", xgb_path)\n",
    "\n",
    "# BalancedRandomForest (unbalanced_model nomenclatura antiga)\n",
    "brf_path = \"../models/best_brf_model_2017.joblib\"\n",
    "unbalanced_model = joblib.load(brf_path)\n",
    "print(\"BalancedRandomForest carregado:\", brf_path)\n",
    "\n",
    "# LSTM - tenta o nome padrão que salvamos, senão tenta o nome antigo\n",
    "lstm_paths_to_try = [\n",
    "    f\"../models/best_lstm_model_{CENARIO_ESCOLHIDO}.h5\",\n",
    "    \"../models/best_lstm_model_LSTM Pós-2017 (Histórico Intermediário).h5\"\n",
    "]\n",
    "lstm_model = None\n",
    "for p in lstm_paths_to_try:\n",
    "    if Path(p).exists():\n",
    "        lstm_model = load_model(p)\n",
    "        print(\"LSTM carregado:\", p)\n",
    "        break\n",
    "if lstm_model is None:\n",
    "    raise FileNotFoundError(f\"Nenhum modelo LSTM encontrado em: {lstm_paths_to_try}\")\n",
    "\n",
    "# função auxiliar de previsão LSTM (usa X_test_seq, i.e. formato [samples, timesteps, features])\n",
    "def predict_lstm_probs(model, X_seq):\n",
    "    probs = model.predict(X_seq, verbose=0)\n",
    "    return probs\n"
   ]
  },
  {
   "cell_type": "code",
   "execution_count": 6,
   "id": "5ba66932-4f97-4ea8-8822-5d5c7a0f37a0",
   "metadata": {},
   "outputs": [
    {
     "name": "stdout",
     "output_type": "stream",
     "text": [
      "Probas XGB shape: (939, 3)\n",
      "Probas BRF shape: (939, 3)\n"
     ]
    },
    {
     "name": "stderr",
     "output_type": "stream",
     "text": [
      "2025-10-15 13:00:05.078525: I external/local_xla/xla/stream_executor/cuda/cuda_dnn.cc:531] Loaded cuDNN version 8907\n"
     ]
    },
    {
     "name": "stdout",
     "output_type": "stream",
     "text": [
      "Probas LSTM shape: (939, 3)\n",
      "n_xgb, n_brf, n_lstm: 939 939 939\n",
      "y_true shape usada na avaliação: (939,)\n"
     ]
    }
   ],
   "source": [
    "# --- Célula 6: Probabilidades dos 3 modelos (alinhadas) ---\n",
    "\n",
    "# 1) XGBoost e BRF usam X_test_for_trees (cada linha corresponde ao dia alvo t)\n",
    "proba_xgb = xgb_model.predict_proba(X_test_for_trees)\n",
    "proba_unbalanced = unbalanced_model.predict_proba(X_test_for_trees)\n",
    "\n",
    "print(\"Probas XGB shape:\", proba_xgb.shape)\n",
    "print(\"Probas BRF shape:\", proba_unbalanced.shape)\n",
    "\n",
    "# 2) LSTM usa X_test_seq\n",
    "proba_lstm = predict_lstm_probs(lstm_model, X_test_seq)\n",
    "print(\"Probas LSTM shape:\", proba_lstm.shape)\n",
    "\n",
    "# Consistência: os três arrays devem ter o mesmo número de amostras.\n",
    "n_xgb = proba_xgb.shape[0]\n",
    "n_brf = proba_unbalanced.shape[0]\n",
    "n_lstm = proba_lstm.shape[0]\n",
    "print(\"n_xgb, n_brf, n_lstm:\", n_xgb, n_brf, n_lstm)\n",
    "\n",
    "# Se houver discrepância (por alguma razão), alinha ao menor n\n",
    "n_min = min(n_xgb, n_brf, n_lstm)\n",
    "if n_min < max(n_xgb, n_brf, n_lstm):\n",
    "    print(\"Aviso: discrepância de tamanhos. Truncando para o menor tamanho comum:\", n_min)\n",
    "    proba_xgb = proba_xgb[:n_min]\n",
    "    proba_unbalanced = proba_unbalanced[:n_min]\n",
    "    proba_lstm = proba_lstm[:n_min]\n",
    "    # ajusta y de referência também\n",
    "    y_true = y_test_for_trees[:n_min]\n",
    "else:\n",
    "    y_true = y_test_for_trees.copy()\n",
    "print(\"y_true shape usada na avaliação:\", y_true.shape)"
   ]
  },
  {
   "cell_type": "code",
   "execution_count": 7,
   "id": "d0e44705-09da-4fad-91d8-f19e482c97be",
   "metadata": {},
   "outputs": [
    {
     "name": "stdout",
     "output_type": "stream",
     "text": [
      "\n",
      "--- Ensemble (soft voting) - Ensemble Pós-2017 ---\n",
      "              precision    recall  f1-score   support\n",
      "\n",
      "       baixo       0.99      0.99      0.99       926\n",
      "       medio       0.10      0.10      0.10        10\n",
      "        alto       0.00      0.00      0.00         3\n",
      "\n",
      "    accuracy                           0.98       939\n",
      "   macro avg       0.36      0.36      0.36       939\n",
      "weighted avg       0.97      0.98      0.97       939\n",
      "\n"
     ]
    },
    {
     "data": {
      "image/png": "[encoded data removed]",
      "text/plain": [
       "<Figure size 700x600 with 2 Axes>"
      ]
     },
     "metadata": {},
     "output_type": "display_data"
    },
    {
     "name": "stdout",
     "output_type": "stream",
     "text": [
      "Predições do ensemble salvas em ../models/ensemble_predictions_2017.parquet\n"
     ]
    }
   ],
   "source": [
    "# --- Célula 7: Ensemble (soft voting), avaliação e conf matrix ---\n",
    "# média das probabilidades (soft voting)\n",
    "proba_ensemble = (proba_xgb + proba_unbalanced + proba_lstm) / 3.0\n",
    "\n",
    "# predição final\n",
    "y_pred_ensemble = np.argmax(proba_ensemble, axis=1)\n",
    "\n",
    "# relatório\n",
    "print(f\"\\n--- Ensemble (soft voting) - {nome_cenario} ---\")\n",
    "print(classification_report(y_true, y_pred_ensemble, target_names=mapeamento_risco.keys(), zero_division=0))\n",
    "\n",
    "# matriz de confusão\n",
    "cm = confusion_matrix(y_true, y_pred_ensemble)\n",
    "plt.figure(figsize=(7,6))\n",
    "sns.heatmap(cm, annot=True, fmt='d', cmap='viridis', xticklabels=mapeamento_risco.keys(), yticklabels=mapeamento_risco.keys())\n",
    "plt.title(f\"Matriz de Confusão - Ensemble ({nome_cenario})\")\n",
    "plt.ylabel(\"Classe Real\"); plt.xlabel(\"Classe Prevista\")\n",
    "plt.show()\n",
    "\n",
    "# opcional: salvar probabilidades e preds\n",
    "out_df = pd.DataFrame({\n",
    "    'y_true': y_true,\n",
    "    'pred_ensemble': y_pred_ensemble,\n",
    "    'proba_xgb_0': proba_xgb[:,0], 'proba_xgb_1': proba_xgb[:,1], 'proba_xgb_2': proba_xgb[:,2],\n",
    "    'proba_brf_0': proba_unbalanced[:,0], 'proba_brf_1': proba_unbalanced[:,1], 'proba_brf_2': proba_unbalanced[:,2],\n",
    "    'proba_lstm_0': proba_lstm[:,0], 'proba_lstm_1': proba_lstm[:,1], 'proba_lstm_2': proba_lstm[:,2],\n",
    "    'proba_ens_0': proba_ensemble[:,0], 'proba_ens_1': proba_ensemble[:,1], 'proba_ens_2': proba_ensemble[:,2],\n",
    "})\n",
    "out_df.to_parquet('../models/ensemble_predictions_2017.parquet', index=False)\n",
    "print(\"Predições do ensemble salvas em ../models/ensemble_predictions_2017.parquet\")"
   ]
  },
  {
   "cell_type": "code",
   "execution_count": null,
   "id": "a30914f6-e806-4282-9aca-accfb2de879e",
   "metadata": {},
   "outputs": [],
   "source": []
  },
  {
   "cell_type": "code",
   "execution_count": null,
   "id": "2906f638-5a9d-4861-8e72-ad2df399bae9",
   "metadata": {},
   "outputs": [],
   "source": []
  }
 ],
 "metadata": {
  "kernelspec": {
   "display_name": "Python 3 (ipykernel)",
   "language": "python",
   "name": "python3"
  },
  "language_info": {
   "codemirror_mode": {
    "name": "ipython",
    "version": 3
   },
   "file_extension": ".py",
   "mimetype": "text/x-python",
   "name": "python",
   "nbconvert_exporter": "python",
   "pygments_lexer": "ipython3",
   "version": "3.12.3"
  }
 },
 "nbformat": 4,
 "nbformat_minor": 5
}
