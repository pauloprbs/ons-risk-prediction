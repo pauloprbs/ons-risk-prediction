{
 "cells": [
  {
   "cell_type": "code",
   "execution_count": 1,
   "id": "b6f4e526-25ca-4ad1-bdc5-683869d44c3e",
   "metadata": {},
   "outputs": [
    {
     "name": "stderr",
     "output_type": "stream",
     "text": [
      "2025-10-15 14:58:18.264426: E external/local_xla/xla/stream_executor/cuda/cuda_fft.cc:485] Unable to register cuFFT factory: Attempting to register factory for plugin cuFFT when one has already been registered\n",
      "2025-10-15 14:58:18.281372: E external/local_xla/xla/stream_executor/cuda/cuda_dnn.cc:8454] Unable to register cuDNN factory: Attempting to register factory for plugin cuDNN when one has already been registered\n",
      "2025-10-15 14:58:18.286284: E external/local_xla/xla/stream_executor/cuda/cuda_blas.cc:1452] Unable to register cuBLAS factory: Attempting to register factory for plugin cuBLAS when one has already been registered\n",
      "2025-10-15 14:58:18.298770: I tensorflow/core/platform/cpu_feature_guard.cc:210] This TensorFlow binary is optimized to use available CPU instructions in performance-critical operations.\n",
      "To enable the following instructions: AVX2 FMA, in other operations, rebuild TensorFlow with the appropriate compiler flags.\n",
      "2025-10-15 14:58:19.081644: W tensorflow/compiler/tf2tensorrt/utils/py_utils.cc:38] TF-TRT Warning: Could not find TensorRT\n"
     ]
    }
   ],
   "source": [
    "# --- Célula 1: Importações ---\n",
    "import pandas as pd\n",
    "import numpy as np\n",
    "import joblib\n",
    "import os\n",
    "import sys\n",
    "import tensorflow as tf\n",
    "from tensorflow.keras.models import load_model\n",
    "from sklearn.metrics import classification_report, confusion_matrix\n",
    "import matplotlib.pyplot as plt\n",
    "import seaborn as sns\n",
    "import warnings\n",
    "warnings.simplefilter(action='ignore', category=FutureWarning)"
   ]
  },
  {
   "cell_type": "code",
   "execution_count": 2,
   "id": "d32789fc-b236-4e8f-b9c0-13a83ffbc254",
   "metadata": {},
   "outputs": [
    {
     "name": "stdout",
     "output_type": "stream",
     "text": [
      "--- INICIANDO EXPERIMENTO COM O CENÁRIO: 'Ensemble Pós-2017 (Histórico Intermediário)' ---\n",
      "Dados de teste preparados: 636 amostras para o período de 2023-12-16 a 2025-09-11.\n"
     ]
    }
   ],
   "source": [
    "# --- Célula 2: Painel de Controle, Definição de Features e Preparação dos Dados ---\n",
    "\n",
    "# --- DEFINIÇÃO COMPLETA DOS GRUPOS DE FEATURES ---\n",
    "features_geracao = ['geracao_total_diaria_go', 'geracao_fotovoltaica_diaria', 'geracao_hidroelétrica_diaria', 'geracao_térmica_diaria']\n",
    "features_rede = ['total_mwh_restrito_go', 'saldo_intercambio_seco', 'restricao_razao_rel', 'restricao_razao_cnf', 'restricao_razao_ene', 'restricao_razao_par', 'restricao_origem_loc', 'restricao_origem_sis']\n",
    "features_hidrica = ['ear_percentual_seco', 'ena_percentual_mlt_seco']\n",
    "features_adicionais = ['cmo_semanal_seco', 'disponibilidade_total_diaria_go', 'indicador_ccal_mensal']\n",
    "features_clima = ['ghi', 'temp2m_c', 'precipitacao_mm']\n",
    "features_avancadas = ['carga_media_7d','carga_std_7d','geracao_media_7d','ear_ontem','ear_diff_3d','margem_oferta_demanda','pressao_demanda_ear','precip_acumulada_14d','precip_acumulada_30d']\n",
    "features_calendario = ['mes','dia_da_semana','dia_do_ano']\n",
    "\n",
    "# --- ESCOLHA O CENÁRIO PARA TESTAR ---\n",
    "# Opções: 'pos_2022', 'pos_2020', 'pos_2017', 'pos_2015', 'pos_2013', 'pos_2010'\n",
    "CENARIO_ESCOLHIDO = 'pos_2017' \n",
    "# -------------------------------------\n",
    "\n",
    "# Define o período e as features com base no cenário\n",
    "if CENARIO_ESCOLHIDO == 'pos_2022':\n",
    "    START_YEAR = 2022\n",
    "    nome_cenario = \"Ensemble Pós-2022 (Features de Geração)\"\n",
    "    features_para_teste_nomes = (features_geracao + features_rede + features_hidrica + features_adicionais + features_clima + features_calendario + features_avancadas + ['programada'])\n",
    "elif CENARIO_ESCOLHIDO == 'pos_2020':\n",
    "    START_YEAR = 2020\n",
    "    nome_cenario = \"Ensemble Pós-2020 (Histórico com Carga Prog.)\"\n",
    "    features_para_teste_nomes = (features_hidrica + features_adicionais + features_clima + features_calendario + features_avancadas + ['programada'])\n",
    "elif CENARIO_ESCOLHIDO == 'pos_2017':\n",
    "    START_YEAR = 2017\n",
    "    nome_cenario = \"Ensemble Pós-2017 (Histórico Intermediário)\"\n",
    "    features_para_teste_nomes = (features_hidrica + features_adicionais + features_clima + features_calendario + features_avancadas)\n",
    "elif CENARIO_ESCOLHIDO == 'pos_2015':\n",
    "    START_YEAR = 2015\n",
    "    nome_cenario = \"Ensemble Pós-2015 (Histórico com Disponibilidade)\"\n",
    "    features_para_teste_nomes = (features_hidrica + features_adicionais + features_clima + features_calendario + features_avancadas)\n",
    "elif CENARIO_ESCOLHIDO == 'pos_2013':\n",
    "    START_YEAR = 2013\n",
    "    nome_cenario = \"Ensemble Pós-2013 (Histórico Extendido Básico)\"\n",
    "    features_para_teste_nomes = (features_hidrica + features_clima + features_calendario + features_avancadas + ['cmo_semanal_seco', 'indicador_ccal_mensal'])\n",
    "elif CENARIO_ESCOLHIDO == 'pos_2010':\n",
    "    START_YEAR = 2010\n",
    "    nome_cenario = \"Ensemble Pós-2010 (Máximo Histórico Básico)\"\n",
    "    features_para_teste_nomes = (features_hidrica + features_clima + features_calendario + features_avancadas + ['cmo_semanal_seco', 'indicador_ccal_mensal'])\n",
    "else:\n",
    "    raise ValueError(\"Cenário escolhido é inválido ou não possui modelos treinados.\")\n",
    "\n",
    "print(f\"--- INICIANDO EXPERIMENTO COM O CENÁRIO: '{nome_cenario}' ---\")\n",
    "\n",
    "# --- CARREGAMENTO, FILTRAGEM E PREPARAÇÃO DOS DADOS ---\n",
    "path_final_table = '../data/processed/modeling_table_final.parquet'\n",
    "df_completo = pd.read_parquet(path_final_table)\n",
    "\n",
    "sys.path.append('..')\n",
    "from config import END_YEAR\n",
    "\n",
    "anos_de_interesse = range(START_YEAR, END_YEAR + 1)\n",
    "df = df_completo[df_completo.index.year.isin(anos_de_interesse)].copy()\n",
    "\n",
    "features_para_teste = [col for col in features_para_teste_nomes if col in df.columns]\n",
    "X = df[features_para_teste]\n",
    "y = df['nivel_risco']\n",
    "\n",
    "mapeamento_risco = {'baixo': 0, 'medio': 1, 'alto': 2}\n",
    "y_encoded = y.map(mapeamento_risco)\n",
    "\n",
    "# Split temporal (consistente com o treino do LSTM)\n",
    "test_size = 0.2\n",
    "split_index = int(len(X) * (1 - test_size))\n",
    "X_test = X[split_index:]\n",
    "y_test = y_encoded[split_index:]\n",
    "\n",
    "print(f\"Dados de teste preparados: {X_test.shape[0]} amostras para o período de {X_test.index.min().date()} a {X_test.index.max().date()}.\")"
   ]
  },
  {
   "cell_type": "code",
   "execution_count": 3,
   "id": "a98b83bc-a7f6-4834-a7d2-ec2822eb7343",
   "metadata": {},
   "outputs": [
    {
     "name": "stdout",
     "output_type": "stream",
     "text": [
      "Carregando artefatos para o cenário: pos_2017\n"
     ]
    },
    {
     "name": "stderr",
     "output_type": "stream",
     "text": [
      "WARNING: All log messages before absl::InitializeLog() is called are written to STDERR\n",
      "I0000 00:00:1760551119.404621  243263 cuda_executor.cc:1015] successful NUMA node read from SysFS had negative value (-1), but there must be at least one NUMA node, so returning NUMA node zero. See more at https://github.com/torvalds/linux/blob/v6.0/Documentation/ABI/testing/sysfs-bus-pci#L344-L355\n",
      "I0000 00:00:1760551119.450338  243263 cuda_executor.cc:1015] successful NUMA node read from SysFS had negative value (-1), but there must be at least one NUMA node, so returning NUMA node zero. See more at https://github.com/torvalds/linux/blob/v6.0/Documentation/ABI/testing/sysfs-bus-pci#L344-L355\n",
      "I0000 00:00:1760551119.452927  243263 cuda_executor.cc:1015] successful NUMA node read from SysFS had negative value (-1), but there must be at least one NUMA node, so returning NUMA node zero. See more at https://github.com/torvalds/linux/blob/v6.0/Documentation/ABI/testing/sysfs-bus-pci#L344-L355\n",
      "I0000 00:00:1760551119.456911  243263 cuda_executor.cc:1015] successful NUMA node read from SysFS had negative value (-1), but there must be at least one NUMA node, so returning NUMA node zero. See more at https://github.com/torvalds/linux/blob/v6.0/Documentation/ABI/testing/sysfs-bus-pci#L344-L355\n",
      "I0000 00:00:1760551119.459258  243263 cuda_executor.cc:1015] successful NUMA node read from SysFS had negative value (-1), but there must be at least one NUMA node, so returning NUMA node zero. See more at https://github.com/torvalds/linux/blob/v6.0/Documentation/ABI/testing/sysfs-bus-pci#L344-L355\n",
      "I0000 00:00:1760551119.461371  243263 cuda_executor.cc:1015] successful NUMA node read from SysFS had negative value (-1), but there must be at least one NUMA node, so returning NUMA node zero. See more at https://github.com/torvalds/linux/blob/v6.0/Documentation/ABI/testing/sysfs-bus-pci#L344-L355\n",
      "I0000 00:00:1760551119.624587  243263 cuda_executor.cc:1015] successful NUMA node read from SysFS had negative value (-1), but there must be at least one NUMA node, so returning NUMA node zero. See more at https://github.com/torvalds/linux/blob/v6.0/Documentation/ABI/testing/sysfs-bus-pci#L344-L355\n",
      "I0000 00:00:1760551119.625680  243263 cuda_executor.cc:1015] successful NUMA node read from SysFS had negative value (-1), but there must be at least one NUMA node, so returning NUMA node zero. See more at https://github.com/torvalds/linux/blob/v6.0/Documentation/ABI/testing/sysfs-bus-pci#L344-L355\n",
      "I0000 00:00:1760551119.626682  243263 cuda_executor.cc:1015] successful NUMA node read from SysFS had negative value (-1), but there must be at least one NUMA node, so returning NUMA node zero. See more at https://github.com/torvalds/linux/blob/v6.0/Documentation/ABI/testing/sysfs-bus-pci#L344-L355\n",
      "2025-10-15 14:58:39.627651: I tensorflow/core/common_runtime/gpu/gpu_device.cc:2021] Created device /job:localhost/replica:0/task:0/device:GPU:0 with 745 MB memory:  -> device: 0, name: NVIDIA GeForce GTX 1650, pci bus id: 0000:01:00.0, compute capability: 7.5\n",
      "WARNING:absl:Compiled the loaded model, but the compiled metrics have yet to be built. `model.compile_metrics` will be empty until you train or evaluate the model.\n"
     ]
    },
    {
     "name": "stdout",
     "output_type": "stream",
     "text": [
      "\n",
      "Modelos e scalers carregados com sucesso!\n"
     ]
    }
   ],
   "source": [
    "# --- Célula 3: Carregamento Dinâmico dos Modelos e Scalers ---\n",
    "MODEL_DIR = '../models/'\n",
    "\n",
    "# Extrai o ano do nome do cenário para carregar os arquivos corretos\n",
    "year_str = CENARIO_ESCOLHIDO.split('_')[1]\n",
    "\n",
    "# Nomes de arquivo dinâmicos\n",
    "# Assumindo que os modelos LSTM também seguem o padrão 'pos_ANO'\n",
    "lstm_model_path = os.path.join(MODEL_DIR, f'best_lstm_model_{CENARIO_ESCOLHIDO}.h5')\n",
    "lstm_scaler_path = os.path.join(MODEL_DIR, f'scaler_lstm_{CENARIO_ESCOLHIDO}.joblib')\n",
    "xgb_model_path = os.path.join(MODEL_DIR, f'best_xgboost_model_{year_str}.joblib')\n",
    "xgb_scaler_path = os.path.join(MODEL_DIR, f'scaler_xgb_{year_str}.joblib')\n",
    "brf_model_path = os.path.join(MODEL_DIR, f'best_brf_model_{year_str}.joblib')\n",
    "brf_scaler_path = os.path.join(MODEL_DIR, f'scaler_brf_{year_str}.joblib')\n",
    "\n",
    "# Carregar os modelos e scalers\n",
    "print(f\"Carregando artefatos para o cenário: {CENARIO_ESCOLHIDO}\")\n",
    "model_lstm = load_model(lstm_model_path)\n",
    "scaler_lstm = joblib.load(lstm_scaler_path)\n",
    "model_xgb = joblib.load(xgb_model_path)\n",
    "scaler_xgb = joblib.load(xgb_scaler_path)\n",
    "model_brf = joblib.load(brf_model_path)\n",
    "scaler_brf = joblib.load(brf_scaler_path)\n",
    "\n",
    "print(\"\\nModelos e scalers carregados com sucesso!\")"
   ]
  },
  {
   "cell_type": "code",
   "execution_count": 4,
   "id": "fa35e7c3-b7bf-461a-8831-01facf3b2936",
   "metadata": {},
   "outputs": [
    {
     "name": "stdout",
     "output_type": "stream",
     "text": [
      "\u001b[1m19/20\u001b[0m \u001b[32m━━━━━━━━━━━━━━━━━━━\u001b[0m\u001b[37m━\u001b[0m \u001b[1m0s\u001b[0m 6ms/step"
     ]
    },
    {
     "name": "stderr",
     "output_type": "stream",
     "text": [
      "2025-10-15 14:58:50.225630: I external/local_xla/xla/stream_executor/cuda/cuda_dnn.cc:531] Loaded cuDNN version 8907\n"
     ]
    },
    {
     "name": "stdout",
     "output_type": "stream",
     "text": [
      "\u001b[1m20/20\u001b[0m \u001b[32m━━━━━━━━━━━━━━━━━━━━\u001b[0m\u001b[37m\u001b[0m \u001b[1m1s\u001b[0m 23ms/step\n",
      "Previsões LSTM geradas. Formato: (622, 3)\n",
      "Labels de teste alinhados (y_test_seq). Formato: (622,)\n",
      "Previsões XGBoost geradas. Formato: (622, 3)\n",
      "Previsões BalancedRF geradas. Formato: (622, 3)\n"
     ]
    }
   ],
   "source": [
    "# --- Célula 4: Gerar Previsões de Cada Modelo ---\n",
    "\n",
    "# 1. Previsão do LSTM (requer dados em sequência)\n",
    "# --------------------------------------------------\n",
    "TIME_STEPS = 14\n",
    "\n",
    "# Função para criar sequências, igual à do notebook de treino\n",
    "def create_sequences(X_data, y_data, time_steps=14):\n",
    "    Xs, ys = [], []\n",
    "    for i in range(len(X_data) - time_steps):\n",
    "        Xs.append(X_data[i:(i + time_steps)])\n",
    "        ys.append(y_data[i + time_steps])\n",
    "    return np.array(Xs), np.array(ys)\n",
    "\n",
    "# Normaliza os dados de teste com o scaler do LSTM\n",
    "X_test_scaled_lstm = scaler_lstm.transform(X_test)\n",
    "\n",
    "# Cria as sequências e o y_test correspondente\n",
    "X_test_seq, y_test_seq = create_sequences(X_test_scaled_lstm, y_test.values, TIME_STEPS)\n",
    "\n",
    "# Gera as probabilidades\n",
    "y_pred_proba_lstm = model_lstm.predict(X_test_seq)\n",
    "\n",
    "print(f\"Previsões LSTM geradas. Formato: {y_pred_proba_lstm.shape}\")\n",
    "print(f\"Labels de teste alinhados (y_test_seq). Formato: {y_test_seq.shape}\")\n",
    "\n",
    "# 2. Previsões do XGBoost e BalancedRandomForest (dados tabulares)\n",
    "# ------------------------------------------------------------------\n",
    "\n",
    "# Precisamos usar os dados de teste a partir do 15º dia para alinhar com o LSTM\n",
    "X_test_flat_aligned = X_test.iloc[TIME_STEPS:]\n",
    "\n",
    "# Normaliza com os respectivos scalers\n",
    "X_test_scaled_xgb = scaler_xgb.transform(X_test_flat_aligned)\n",
    "X_test_scaled_brf = scaler_brf.transform(X_test_flat_aligned)\n",
    "\n",
    "# Gera as probabilidades\n",
    "y_pred_proba_xgb = model_xgb.predict_proba(X_test_scaled_xgb)\n",
    "y_pred_proba_brf = model_brf.predict_proba(X_test_scaled_brf)\n",
    "\n",
    "print(f\"Previsões XGBoost geradas. Formato: {y_pred_proba_xgb.shape}\")\n",
    "print(f\"Previsões BalancedRF geradas. Formato: {y_pred_proba_brf.shape}\")"
   ]
  },
  {
   "cell_type": "code",
   "execution_count": 5,
   "id": "4ba8ef47-3091-4352-894b-29fd83da9169",
   "metadata": {},
   "outputs": [
    {
     "name": "stdout",
     "output_type": "stream",
     "text": [
      "\n",
      "--- Resultados Finais do Modelo Ensemble ---\n",
      "              precision    recall  f1-score   support\n",
      "\n",
      "       baixo       1.00      1.00      1.00       615\n",
      "       medio       0.80      0.80      0.80         5\n",
      "        alto       0.67      1.00      0.80         2\n",
      "\n",
      "    accuracy                           1.00       622\n",
      "   macro avg       0.82      0.93      0.87       622\n",
      "weighted avg       1.00      1.00      1.00       622\n",
      "\n"
     ]
    },
    {
     "data": {
      "image/png": "[encoded data removed]",
      "text/plain": [
       "<Figure size 1000x800 with 2 Axes>"
      ]
     },
     "metadata": {},
     "output_type": "display_data"
    }
   ],
   "source": [
    "# --- Célula 5: Ensemble por Média e Avaliação Final ---\n",
    "\n",
    "# Média simples das probabilidades\n",
    "y_pred_proba_ensemble = (y_pred_proba_lstm + y_pred_proba_xgb + y_pred_proba_brf) / 3.0\n",
    "\n",
    "# A previsão final é a classe com a maior probabilidade média\n",
    "y_pred_ensemble = np.argmax(y_pred_proba_ensemble, axis=1)\n",
    "\n",
    "print(f\"\\n--- Resultados Finais do Modelo Ensemble ---\")\n",
    "print(classification_report(\n",
    "    y_test_seq, \n",
    "    y_pred_ensemble, \n",
    "    target_names=mapeamento_risco.keys(), \n",
    "    zero_division=0\n",
    "))\n",
    "\n",
    "# Matriz de Confusão para o Ensemble\n",
    "cm_ensemble = confusion_matrix(y_test_seq, y_pred_ensemble)\n",
    "plt.figure(figsize=(10, 8))\n",
    "sns.heatmap(\n",
    "    cm_ensemble, \n",
    "    annot=True, \n",
    "    fmt='d', \n",
    "    cmap='Blues',\n",
    "    xticklabels=mapeamento_risco.keys(),\n",
    "    yticklabels=mapeamento_risco.keys()\n",
    ")\n",
    "plt.title(f'Matriz de Confusão - {nome_cenario}', fontsize=16)\n",
    "plt.ylabel('Classe Real')\n",
    "plt.xlabel('Classe Prevista')\n",
    "plt.show()"
   ]
  },
  {
   "cell_type": "code",
   "execution_count": null,
   "id": "794f9f07-34e1-4bd9-afb0-371242a97a0e",
   "metadata": {},
   "outputs": [],
   "source": []
  }
 ],
 "metadata": {
  "kernelspec": {
   "display_name": "Python 3 (ipykernel)",
   "language": "python",
   "name": "python3"
  },
  "language_info": {
   "codemirror_mode": {
    "name": "ipython",
    "version": 3
   },
   "file_extension": ".py",
   "mimetype": "text/x-python",
   "name": "python",
   "nbconvert_exporter": "python",
   "pygments_lexer": "ipython3",
   "version": "3.12.3"
  }
 },
 "nbformat": 4,
 "nbformat_minor": 5
}
