{
 "cells": [
  {
   "cell_type": "code",
   "execution_count": 1,
   "id": "b6f4e526-25ca-4ad1-bdc5-683869d44c3e",
   "metadata": {},
   "outputs": [
    {
     "name": "stderr",
     "output_type": "stream",
     "text": [
      "2025-10-15 14:31:53.186906: E external/local_xla/xla/stream_executor/cuda/cuda_fft.cc:485] Unable to register cuFFT factory: Attempting to register factory for plugin cuFFT when one has already been registered\n",
      "2025-10-15 14:31:53.204046: E external/local_xla/xla/stream_executor/cuda/cuda_dnn.cc:8454] Unable to register cuDNN factory: Attempting to register factory for plugin cuDNN when one has already been registered\n",
      "2025-10-15 14:31:53.209109: E external/local_xla/xla/stream_executor/cuda/cuda_blas.cc:1452] Unable to register cuBLAS factory: Attempting to register factory for plugin cuBLAS when one has already been registered\n",
      "2025-10-15 14:31:53.221767: I tensorflow/core/platform/cpu_feature_guard.cc:210] This TensorFlow binary is optimized to use available CPU instructions in performance-critical operations.\n",
      "To enable the following instructions: AVX2 FMA, in other operations, rebuild TensorFlow with the appropriate compiler flags.\n",
      "2025-10-15 14:31:53.947152: W tensorflow/compiler/tf2tensorrt/utils/py_utils.cc:38] TF-TRT Warning: Could not find TensorRT\n"
     ]
    }
   ],
   "source": [
    "# --- Célula 1: Importações ---\n",
    "import pandas as pd\n",
    "import numpy as np\n",
    "import joblib\n",
    "import os\n",
    "import sys\n",
    "\n",
    "# Deep Learning (para carregar o modelo LSTM)\n",
    "import tensorflow as tf\n",
    "from tensorflow.keras.models import load_model\n",
    "\n",
    "# Métricas e Visualização\n",
    "from sklearn.metrics import classification_report, confusion_matrix\n",
    "import matplotlib.pyplot as plt\n",
    "import seaborn as sns\n",
    "\n",
    "# Ignorar warnings futuros do Tensorflow\n",
    "import warnings\n",
    "warnings.simplefilter(action='ignore', category=FutureWarning)"
   ]
  },
  {
   "cell_type": "code",
   "execution_count": 2,
   "id": "d32789fc-b236-4e8f-b9c0-13a83ffbc254",
   "metadata": {},
   "outputs": [
    {
     "name": "stdout",
     "output_type": "stream",
     "text": [
      "Carregando modelo LSTM...\n"
     ]
    },
    {
     "name": "stderr",
     "output_type": "stream",
     "text": [
      "WARNING: All log messages before absl::InitializeLog() is called are written to STDERR\n",
      "I0000 00:00:1760549535.687723  240527 cuda_executor.cc:1015] successful NUMA node read from SysFS had negative value (-1), but there must be at least one NUMA node, so returning NUMA node zero. See more at https://github.com/torvalds/linux/blob/v6.0/Documentation/ABI/testing/sysfs-bus-pci#L344-L355\n",
      "I0000 00:00:1760549535.734542  240527 cuda_executor.cc:1015] successful NUMA node read from SysFS had negative value (-1), but there must be at least one NUMA node, so returning NUMA node zero. See more at https://github.com/torvalds/linux/blob/v6.0/Documentation/ABI/testing/sysfs-bus-pci#L344-L355\n",
      "I0000 00:00:1760549535.737546  240527 cuda_executor.cc:1015] successful NUMA node read from SysFS had negative value (-1), but there must be at least one NUMA node, so returning NUMA node zero. See more at https://github.com/torvalds/linux/blob/v6.0/Documentation/ABI/testing/sysfs-bus-pci#L344-L355\n",
      "I0000 00:00:1760549535.741625  240527 cuda_executor.cc:1015] successful NUMA node read from SysFS had negative value (-1), but there must be at least one NUMA node, so returning NUMA node zero. See more at https://github.com/torvalds/linux/blob/v6.0/Documentation/ABI/testing/sysfs-bus-pci#L344-L355\n",
      "I0000 00:00:1760549535.743901  240527 cuda_executor.cc:1015] successful NUMA node read from SysFS had negative value (-1), but there must be at least one NUMA node, so returning NUMA node zero. See more at https://github.com/torvalds/linux/blob/v6.0/Documentation/ABI/testing/sysfs-bus-pci#L344-L355\n",
      "I0000 00:00:1760549535.745962  240527 cuda_executor.cc:1015] successful NUMA node read from SysFS had negative value (-1), but there must be at least one NUMA node, so returning NUMA node zero. See more at https://github.com/torvalds/linux/blob/v6.0/Documentation/ABI/testing/sysfs-bus-pci#L344-L355\n",
      "I0000 00:00:1760549535.908044  240527 cuda_executor.cc:1015] successful NUMA node read from SysFS had negative value (-1), but there must be at least one NUMA node, so returning NUMA node zero. See more at https://github.com/torvalds/linux/blob/v6.0/Documentation/ABI/testing/sysfs-bus-pci#L344-L355\n",
      "I0000 00:00:1760549535.909152  240527 cuda_executor.cc:1015] successful NUMA node read from SysFS had negative value (-1), but there must be at least one NUMA node, so returning NUMA node zero. See more at https://github.com/torvalds/linux/blob/v6.0/Documentation/ABI/testing/sysfs-bus-pci#L344-L355\n",
      "I0000 00:00:1760549535.910155  240527 cuda_executor.cc:1015] successful NUMA node read from SysFS had negative value (-1), but there must be at least one NUMA node, so returning NUMA node zero. See more at https://github.com/torvalds/linux/blob/v6.0/Documentation/ABI/testing/sysfs-bus-pci#L344-L355\n",
      "2025-10-15 14:32:15.911115: I tensorflow/core/common_runtime/gpu/gpu_device.cc:2021] Created device /job:localhost/replica:0/task:0/device:GPU:0 with 745 MB memory:  -> device: 0, name: NVIDIA GeForce GTX 1650, pci bus id: 0000:01:00.0, compute capability: 7.5\n",
      "WARNING:absl:Compiled the loaded model, but the compiled metrics have yet to be built. `model.compile_metrics` will be empty until you train or evaluate the model.\n"
     ]
    },
    {
     "name": "stdout",
     "output_type": "stream",
     "text": [
      "Carregando modelo XGBoost...\n",
      "Carregando modelo BalancedRandomForest...\n",
      "\n",
      "Modelos e scalers carregados com sucesso!\n"
     ]
    }
   ],
   "source": [
    "# --- Célula 2: Carregamento dos Modelos e Scalers ---\n",
    "MODEL_DIR = '../models/'\n",
    "\n",
    "# Carregar modelo LSTM e seu scaler\n",
    "print(\"Carregando modelo LSTM...\")\n",
    "model_lstm = load_model(os.path.join(MODEL_DIR, 'best_lstm_model_pos_2017.h5'))\n",
    "scaler_lstm = joblib.load(os.path.join(MODEL_DIR, 'scaler_lstm_pos_2017.joblib'))\n",
    "\n",
    "# Carregar modelo XGBoost e seu scaler\n",
    "print(\"Carregando modelo XGBoost...\")\n",
    "model_xgb = joblib.load(os.path.join(MODEL_DIR, 'best_xgboost_model_2017.joblib'))\n",
    "scaler_xgb = joblib.load(os.path.join(MODEL_DIR, 'scaler_xgb_2017.joblib'))\n",
    "\n",
    "# Carregar modelo BalancedRandomForest e seu scaler\n",
    "print(\"Carregando modelo BalancedRandomForest...\")\n",
    "model_brf = joblib.load(os.path.join(MODEL_DIR, 'best_brf_model_2017.joblib'))\n",
    "scaler_brf = joblib.load(os.path.join(MODEL_DIR, 'scaler_brf_2017.joblib'))\n",
    "\n",
    "print(\"\\nModelos e scalers carregados com sucesso!\")"
   ]
  },
  {
   "cell_type": "code",
   "execution_count": 3,
   "id": "a98b83bc-a7f6-4834-a7d2-ec2822eb7343",
   "metadata": {},
   "outputs": [
    {
     "name": "stdout",
     "output_type": "stream",
     "text": [
      "Dados de teste preparados: 636 amostras.\n"
     ]
    }
   ],
   "source": [
    "# --- Célula 3: Carregamento e Preparação dos Dados ---\n",
    "\n",
    "# Carrega a tabela de modelagem completa\n",
    "path_final_table = '../data/processed/modeling_table_final.parquet'\n",
    "df_completo = pd.read_parquet(path_final_table)\n",
    "\n",
    "# --- Definição das Features (Cenário Pós-2017) ---\n",
    "features_hidrica = ['ear_percentual_seco', 'ena_percentual_mlt_seco']\n",
    "features_adicionais = ['cmo_semanal_seco', 'disponibilidade_total_diaria_go', 'indicador_ccal_mensal']\n",
    "features_clima = ['ghi', 'temp2m_c', 'precipitacao_mm']\n",
    "features_avancadas = ['carga_media_7d','carga_std_7d','geracao_media_7d','ear_ontem','ear_diff_3d','margem_oferta_demanda','pressao_demanda_ear','precip_acumulada_14d','precip_acumulada_30d']\n",
    "features_calendario = ['mes','dia_da_semana','dia_do_ano']\n",
    "features_para_teste_nomes = features_hidrica + features_adicionais + features_clima + features_calendario + features_avancadas\n",
    "\n",
    "# --- Filtragem e Split dos Dados ---\n",
    "sys.path.append('..')\n",
    "from config import END_YEAR\n",
    "START_YEAR = 2017\n",
    "CENARIO_ESCOLHIDO = 'pos_2017'\n",
    "nome_cenario = f\"Ensemble Pós-{START_YEAR}\"\n",
    "\n",
    "anos_de_interesse = range(START_YEAR, END_YEAR + 1)\n",
    "df = df_completo[df_completo.index.year.isin(anos_de_interesse)].copy()\n",
    "\n",
    "features_para_teste = [col for col in features_para_teste_nomes if col in df.columns]\n",
    "X = df[features_para_teste]\n",
    "y = df['nivel_risco']\n",
    "\n",
    "# Mapeamento do alvo\n",
    "mapeamento_risco = {'baixo': 0, 'medio': 1, 'alto': 2}\n",
    "y_encoded = y.map(mapeamento_risco)\n",
    "\n",
    "# Split temporal (mesma lógica do notebook LSTM)\n",
    "test_size = 0.2\n",
    "split_index = int(len(X) * (1 - test_size))\n",
    "X_train, X_test = X[:split_index], X[split_index:]\n",
    "y_train, y_test = y_encoded[:split_index], y_encoded[split_index:]\n",
    "\n",
    "print(f\"Dados de teste preparados: {X_test.shape[0]} amostras.\")"
   ]
  },
  {
   "cell_type": "code",
   "execution_count": 4,
   "id": "fa35e7c3-b7bf-461a-8831-01facf3b2936",
   "metadata": {},
   "outputs": [
    {
     "name": "stdout",
     "output_type": "stream",
     "text": [
      "\u001b[1m11/20\u001b[0m \u001b[32m━━━━━━━━━━━\u001b[0m\u001b[37m━━━━━━━━━\u001b[0m \u001b[1m0s\u001b[0m 5ms/step   "
     ]
    },
    {
     "name": "stderr",
     "output_type": "stream",
     "text": [
      "2025-10-15 14:32:46.553248: I external/local_xla/xla/stream_executor/cuda/cuda_dnn.cc:531] Loaded cuDNN version 8907\n"
     ]
    },
    {
     "name": "stdout",
     "output_type": "stream",
     "text": [
      "\u001b[1m20/20\u001b[0m \u001b[32m━━━━━━━━━━━━━━━━━━━━\u001b[0m\u001b[37m\u001b[0m \u001b[1m1s\u001b[0m 22ms/step\n",
      "Previsões LSTM geradas. Formato: (622, 3)\n",
      "Labels de teste alinhados (y_test_seq). Formato: (622,)\n",
      "Previsões XGBoost geradas. Formato: (622, 3)\n",
      "Previsões BalancedRF geradas. Formato: (622, 3)\n"
     ]
    }
   ],
   "source": [
    "# --- Célula 4: Gerar Previsões de Cada Modelo ---\n",
    "\n",
    "# 1. Previsão do LSTM (requer dados em sequência)\n",
    "# --------------------------------------------------\n",
    "TIME_STEPS = 14\n",
    "\n",
    "# Função para criar sequências, igual à do notebook de treino\n",
    "def create_sequences(X_data, y_data, time_steps=14):\n",
    "    Xs, ys = [], []\n",
    "    for i in range(len(X_data) - time_steps):\n",
    "        Xs.append(X_data[i:(i + time_steps)])\n",
    "        ys.append(y_data[i + time_steps])\n",
    "    return np.array(Xs), np.array(ys)\n",
    "\n",
    "# Normaliza os dados de teste com o scaler do LSTM\n",
    "X_test_scaled_lstm = scaler_lstm.transform(X_test)\n",
    "\n",
    "# Cria as sequências e o y_test correspondente\n",
    "X_test_seq, y_test_seq = create_sequences(X_test_scaled_lstm, y_test.values, TIME_STEPS)\n",
    "\n",
    "# Gera as probabilidades\n",
    "y_pred_proba_lstm = model_lstm.predict(X_test_seq)\n",
    "\n",
    "print(f\"Previsões LSTM geradas. Formato: {y_pred_proba_lstm.shape}\")\n",
    "print(f\"Labels de teste alinhados (y_test_seq). Formato: {y_test_seq.shape}\")\n",
    "\n",
    "# 2. Previsões do XGBoost e BalancedRandomForest (dados tabulares)\n",
    "# ------------------------------------------------------------------\n",
    "\n",
    "# Precisamos usar os dados de teste a partir do 15º dia para alinhar com o LSTM\n",
    "X_test_flat_aligned = X_test.iloc[TIME_STEPS:]\n",
    "\n",
    "# Normaliza com os respectivos scalers\n",
    "X_test_scaled_xgb = scaler_xgb.transform(X_test_flat_aligned)\n",
    "X_test_scaled_brf = scaler_brf.transform(X_test_flat_aligned)\n",
    "\n",
    "# Gera as probabilidades\n",
    "y_pred_proba_xgb = model_xgb.predict_proba(X_test_scaled_xgb)\n",
    "y_pred_proba_brf = model_brf.predict_proba(X_test_scaled_brf)\n",
    "\n",
    "print(f\"Previsões XGBoost geradas. Formato: {y_pred_proba_xgb.shape}\")\n",
    "print(f\"Previsões BalancedRF geradas. Formato: {y_pred_proba_brf.shape}\")"
   ]
  },
  {
   "cell_type": "code",
   "execution_count": 5,
   "id": "4ba8ef47-3091-4352-894b-29fd83da9169",
   "metadata": {},
   "outputs": [
    {
     "name": "stdout",
     "output_type": "stream",
     "text": [
      "\n",
      "--- Resultados Finais do Modelo Ensemble ---\n",
      "              precision    recall  f1-score   support\n",
      "\n",
      "       baixo       1.00      1.00      1.00       615\n",
      "       medio       0.80      0.80      0.80         5\n",
      "        alto       0.67      1.00      0.80         2\n",
      "\n",
      "    accuracy                           1.00       622\n",
      "   macro avg       0.82      0.93      0.87       622\n",
      "weighted avg       1.00      1.00      1.00       622\n",
      "\n"
     ]
    },
    {
     "data": {
      "image/png": "[encoded data removed]",
      "text/plain": [
       "<Figure size 1000x800 with 2 Axes>"
      ]
     },
     "metadata": {},
     "output_type": "display_data"
    }
   ],
   "source": [
    "# --- Célula 5: Ensemble por Média e Avaliação Final ---\n",
    "\n",
    "# Média simples das probabilidades\n",
    "y_pred_proba_ensemble = (y_pred_proba_lstm + y_pred_proba_xgb + y_pred_proba_brf) / 3.0\n",
    "\n",
    "# A previsão final é a classe com a maior probabilidade média\n",
    "y_pred_ensemble = np.argmax(y_pred_proba_ensemble, axis=1)\n",
    "\n",
    "print(f\"\\n--- Resultados Finais do Modelo Ensemble ---\")\n",
    "print(classification_report(\n",
    "    y_test_seq, \n",
    "    y_pred_ensemble, \n",
    "    target_names=mapeamento_risco.keys(), \n",
    "    zero_division=0\n",
    "))\n",
    "\n",
    "# Matriz de Confusão para o Ensemble\n",
    "cm_ensemble = confusion_matrix(y_test_seq, y_pred_ensemble)\n",
    "plt.figure(figsize=(10, 8))\n",
    "sns.heatmap(\n",
    "    cm_ensemble, \n",
    "    annot=True, \n",
    "    fmt='d', \n",
    "    cmap='Blues',\n",
    "    xticklabels=mapeamento_risco.keys(),\n",
    "    yticklabels=mapeamento_risco.keys()\n",
    ")\n",
    "plt.title(f'Matriz de Confusão - {nome_cenario}', fontsize=16)\n",
    "plt.ylabel('Classe Real')\n",
    "plt.xlabel('Classe Prevista')\n",
    "plt.show()"
   ]
  },
  {
   "cell_type": "code",
   "execution_count": null,
   "id": "794f9f07-34e1-4bd9-afb0-371242a97a0e",
   "metadata": {},
   "outputs": [],
   "source": []
  }
 ],
 "metadata": {
  "kernelspec": {
   "display_name": "Python 3 (ipykernel)",
   "language": "python",
   "name": "python3"
  },
  "language_info": {
   "codemirror_mode": {
    "name": "ipython",
    "version": 3
   },
   "file_extension": ".py",
   "mimetype": "text/x-python",
   "name": "python",
   "nbconvert_exporter": "python",
   "pygments_lexer": "ipython3",
   "version": "3.12.3"
  }
 },
 "nbformat": 4,
 "nbformat_minor": 5
}
